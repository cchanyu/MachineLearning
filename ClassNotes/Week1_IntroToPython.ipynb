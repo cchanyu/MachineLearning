{
  "nbformat": 4,
  "nbformat_minor": 0,
  "metadata": {
    "kernelspec": {
      "display_name": "Python 3",
      "language": "python",
      "name": "python3"
    },
    "language_info": {
      "codemirror_mode": {
        "name": "ipython",
        "version": 3
      },
      "file_extension": ".py",
      "mimetype": "text/x-python",
      "name": "python",
      "nbconvert_exporter": "python",
      "pygments_lexer": "ipython3",
      "version": "3.8.3"
    },
    "colab": {
      "name": "Week1_IntroToPython.ipynb",
      "provenance": [],
      "collapsed_sections": []
    }
  },
  "cells": [
    {
      "cell_type": "markdown",
      "metadata": {
        "id": "Lz5BrMH3Toom"
      },
      "source": [
        "# Week 1\n",
        "# Introduction to Python\n",
        "\n",
        "Python is today's most popular programming language. It is easy to learn, and has several very powerful scientific computing libraries, making it a powerful environment for scientific computing.\n",
        "\n",
        "This tutorial will cover basic features of python and two of its libraries: numpy and matplotlib.\n",
        "\n",
        "This notebook can be opened in Google Colab via this button:\n",
        "\n",
        "<a href=\"https://colab.research.google.com/github/ch00226855/CMP414765Spring2021/blob/main/IntroToPython.ipynb\" target=\"_parent\"><img src=\"https://colab.research.google.com/assets/colab-badge.svg\" alt=\"Open In Colab\"/></a>"
      ]
    },
    {
      "cell_type": "markdown",
      "metadata": {
        "id": "QVQGk8J7dxP1"
      },
      "source": [
        "## 1. Hello World"
      ]
    },
    {
      "cell_type": "code",
      "metadata": {
        "id": "hb1QWIR-Toou",
        "colab": {
          "base_uri": "https://localhost:8080/"
        },
        "outputId": "8be82642-fe17-4b69-917b-81d5bc4ec528"
      },
      "source": [
        "# Print Hello World\r\n",
        "\r\n",
        "print(\"Hello World\")"
      ],
      "execution_count": 2,
      "outputs": [
        {
          "output_type": "stream",
          "text": [
            "Hello World\n"
          ],
          "name": "stdout"
        }
      ]
    },
    {
      "cell_type": "markdown",
      "metadata": {
        "id": "TRyN_aCIdkii"
      },
      "source": [
        "## 2. Variables\r\n",
        "- Declare a variable\r\n",
        "- Variable types"
      ]
    },
    {
      "cell_type": "code",
      "metadata": {
        "id": "X_G-ucJbd4m5",
        "colab": {
          "base_uri": "https://localhost:8080/"
        },
        "outputId": "db079694-8f84-4329-de3a-f8aca0689f10"
      },
      "source": [
        "# Variable are declared without specifying types\r\n",
        "a = 4\r\n",
        "b = -5\r\n",
        "print(a + b)"
      ],
      "execution_count": 3,
      "outputs": [
        {
          "output_type": "stream",
          "text": [
            "-1\n"
          ],
          "name": "stdout"
        }
      ]
    },
    {
      "cell_type": "code",
      "metadata": {
        "id": "FqO3FNvId-pI",
        "colab": {
          "base_uri": "https://localhost:8080/"
        },
        "outputId": "8ada2d95-6532-4aaf-b7fa-7c4e6b0e4247"
      },
      "source": [
        "# The type of a variable is automatically determined\r\n",
        "a1 = 4\r\n",
        "a2 = \"4\"\r\n",
        "print(type(a1))\r\n",
        "print(type(a2))"
      ],
      "execution_count": 4,
      "outputs": [
        {
          "output_type": "stream",
          "text": [
            "<class 'int'>\n",
            "<class 'str'>\n"
          ],
          "name": "stdout"
        }
      ]
    },
    {
      "cell_type": "code",
      "metadata": {
        "colab": {
          "base_uri": "https://localhost:8080/"
        },
        "id": "Q8hh_6yAGTNO",
        "outputId": "82ff4004-5ae9-4ab2-d95f-39dc26d2961b"
      },
      "source": [
        "# In Python, a string can be define using either \"\" or ''\r\n",
        "str1 = \"Wednesday\"\r\n",
        "str2 = 'Wednesday'\r\n",
        "print(str1)\r\n",
        "print(str2)"
      ],
      "execution_count": 7,
      "outputs": [
        {
          "output_type": "stream",
          "text": [
            "Wednesday\n",
            "Wednesday\n"
          ],
          "name": "stdout"
        }
      ]
    },
    {
      "cell_type": "code",
      "metadata": {
        "colab": {
          "base_uri": "https://localhost:8080/"
        },
        "id": "yFWbiPwfGvZW",
        "outputId": "ceff86ea-fcd9-4b79-b94e-8e40c872c4da"
      },
      "source": [
        "str3 = 'Someone said \"Hey!\"'\r\n",
        "str4 = \"Someone said 'Hey!'\"\r\n",
        "print(str3)\r\n",
        "print(str4)"
      ],
      "execution_count": 9,
      "outputs": [
        {
          "output_type": "stream",
          "text": [
            "Someone said \"Hey!\"\n",
            "Someone said 'Hey!'\n"
          ],
          "name": "stdout"
        }
      ]
    },
    {
      "cell_type": "code",
      "metadata": {
        "id": "OLj0R_VqeLIS",
        "colab": {
          "base_uri": "https://localhost:8080/"
        },
        "outputId": "3341137c-6640-452d-c38e-b4d951b9f7ea"
      },
      "source": [
        "# Other commonly-used types are float and boolean\r\n",
        "c = 1.5\r\n",
        "d = True\r\n",
        "print(type(c))\r\n",
        "print(type(d))"
      ],
      "execution_count": 5,
      "outputs": [
        {
          "output_type": "stream",
          "text": [
            "<class 'float'>\n",
            "<class 'bool'>\n"
          ],
          "name": "stdout"
        }
      ]
    },
    {
      "cell_type": "code",
      "metadata": {
        "id": "3dHuCZtueV2D",
        "colab": {
          "base_uri": "https://localhost:8080/"
        },
        "outputId": "96e1a52d-a3ac-448b-b2a0-9164a97a7b89"
      },
      "source": [
        "# Variable types can be changed like this:\r\n",
        "float_a = float(a)\r\n",
        "a_as_a_float = float(b)\r\n",
        "\r\n",
        "# Exercise: show the variable type of float_a\r\n",
        "\r\n",
        "print(type(float_a))\r\n",
        "print(type(a_as_a_float))"
      ],
      "execution_count": 10,
      "outputs": [
        {
          "output_type": "stream",
          "text": [
            "<class 'float'>\n",
            "<class 'float'>\n"
          ],
          "name": "stdout"
        }
      ]
    },
    {
      "cell_type": "markdown",
      "metadata": {
        "id": "j5khvCpgeezq"
      },
      "source": [
        "## 3. Arithmetics"
      ]
    },
    {
      "cell_type": "code",
      "metadata": {
        "id": "0igCkYAdeku-"
      },
      "source": [
        "# +, -, *, /"
      ],
      "execution_count": null,
      "outputs": []
    },
    {
      "cell_type": "code",
      "metadata": {
        "id": "I0WohlTFeobE",
        "colab": {
          "base_uri": "https://localhost:8080/"
        },
        "outputId": "360286aa-39bd-44ef-f3ab-6252795e21d6"
      },
      "source": [
        "# // -> integer division\r\n",
        "print(4 / 3) # gives a floating point number\r\n",
        "print(4 // 3) # integer division always give an integer as answer"
      ],
      "execution_count": 11,
      "outputs": [
        {
          "output_type": "stream",
          "text": [
            "1.3333333333333333\n",
            "1\n"
          ],
          "name": "stdout"
        }
      ]
    },
    {
      "cell_type": "code",
      "metadata": {
        "id": "wYXg_9Fnexhj",
        "colab": {
          "base_uri": "https://localhost:8080/"
        },
        "outputId": "017a7b36-69ca-4b92-e1f6-7bc7d3ff8710"
      },
      "source": [
        "# % -> Get remainder from integer division\r\n",
        "print(5 % 3) "
      ],
      "execution_count": 12,
      "outputs": [
        {
          "output_type": "stream",
          "text": [
            "2\n"
          ],
          "name": "stdout"
        }
      ]
    },
    {
      "cell_type": "code",
      "metadata": {
        "colab": {
          "base_uri": "https://localhost:8080/"
        },
        "id": "ya9n-MljJnDu",
        "outputId": "397dbe40-d963-4be7-82ce-2c7f4d620e34"
      },
      "source": [
        "# Using % 10, you can extract the last digit of a number.\r\n",
        "a = 239542\r\n",
        "print(a % 10)"
      ],
      "execution_count": 16,
      "outputs": [
        {
          "output_type": "stream",
          "text": [
            "2\n"
          ],
          "name": "stdout"
        }
      ]
    },
    {
      "cell_type": "code",
      "metadata": {
        "id": "vpjAWYCze1kM",
        "colab": {
          "base_uri": "https://localhost:8080/"
        },
        "outputId": "7c78bd0b-1e0b-47b9-fb82-7ae5610f1b5b"
      },
      "source": [
        "# ** -> powers\r\n",
        "print(3 ** 2) # represents 3 to the power of 2 = 9\r\n",
        "print(4 ** (1/2)) # square root of 4"
      ],
      "execution_count": 17,
      "outputs": [
        {
          "output_type": "stream",
          "text": [
            "9\n",
            "2.0\n"
          ],
          "name": "stdout"
        }
      ]
    },
    {
      "cell_type": "markdown",
      "metadata": {
        "id": "oVGyc0Ege73q"
      },
      "source": [
        "Exercise: quadratic formula:\r\n",
        "\r\n",
        "For quadratic equation $a{x^2}+{bx}+c=0$, its solutions are:\r\n",
        "\r\n",
        "$x = \\frac{-b \\pm \\sqrt{b^2 - 4ac}}{2a}$"
      ]
    },
    {
      "cell_type": "code",
      "metadata": {
        "id": "NOI9dMrme-vB",
        "colab": {
          "base_uri": "https://localhost:8080/"
        },
        "outputId": "59e04595-e693-4ff0-b2a5-f9fc9f48ab28"
      },
      "source": [
        "# Use quadratic formulat to solve equation x**2 - 5x + 4 = 0\r\n",
        "a = 1\r\n",
        "b = -5\r\n",
        "c = 4\r\n",
        "\r\n",
        "disc = (b**2 - 4*a*c) ** (1/2) # sqrt(b^2-4ac)\r\n",
        "x1 = (-b - disc) / (2*a) # (-b-disc)/2a\r\n",
        "x2 = (-b + disc) / (2*a) # (-b+disc)/2a\r\n",
        "\r\n",
        "print(x1, x2)"
      ],
      "execution_count": 20,
      "outputs": [
        {
          "output_type": "stream",
          "text": [
            "1.0 4.0\n"
          ],
          "name": "stdout"
        }
      ]
    },
    {
      "cell_type": "markdown",
      "metadata": {
        "id": "cRyFUKAwfWJS"
      },
      "source": [
        "## 4. Assignment Operators"
      ]
    },
    {
      "cell_type": "code",
      "metadata": {
        "id": "Ws6n-DSdfeKR",
        "colab": {
          "base_uri": "https://localhost:8080/"
        },
        "outputId": "649ebe18-f735-4e1a-d721-184187b34f81"
      },
      "source": [
        "a = 1\r\n",
        "a += 1 # a = a + 1\r\n",
        "print(a)"
      ],
      "execution_count": 21,
      "outputs": [
        {
          "output_type": "stream",
          "text": [
            "2\n"
          ],
          "name": "stdout"
        }
      ]
    },
    {
      "cell_type": "code",
      "metadata": {
        "id": "hMK9CWGSfh2R",
        "colab": {
          "base_uri": "https://localhost:8080/"
        },
        "outputId": "e66f1de1-7e42-4181-cfce-e4a19aa3f62c"
      },
      "source": [
        "b, c, d = 2, 3, 4\r\n",
        "b -= 5 # updates b value 2-5 = 3\r\n",
        "c *= 10 # updates c value 3*10 = 30\r\n",
        "d /= 2 # updates d value 4/2 = 2\r\n",
        "print(b, c, d)"
      ],
      "execution_count": 22,
      "outputs": [
        {
          "output_type": "stream",
          "text": [
            "-3 30 2.0\n"
          ],
          "name": "stdout"
        }
      ]
    },
    {
      "cell_type": "markdown",
      "metadata": {
        "id": "mboXt1rtfiW8"
      },
      "source": [
        "## 5. Logical Operators"
      ]
    },
    {
      "cell_type": "code",
      "metadata": {
        "id": "RRsX5UM3fk9A",
        "colab": {
          "base_uri": "https://localhost:8080/"
        },
        "outputId": "67d15dda-6f28-4b84-8bee-6c2a85c16404"
      },
      "source": [
        "t, f = True, False\r\n",
        "print(t, f)"
      ],
      "execution_count": 23,
      "outputs": [
        {
          "output_type": "stream",
          "text": [
            "True False\n"
          ],
          "name": "stdout"
        }
      ]
    },
    {
      "cell_type": "code",
      "metadata": {
        "id": "vjU1ZTcmfl49",
        "colab": {
          "base_uri": "https://localhost:8080/"
        },
        "outputId": "4ba22d43-584e-40b5-aae3-c14964cc358c"
      },
      "source": [
        "print(True or False) # \"or\" means or\r\n",
        "print(True and False) # \"and\" means and\r\n",
        "print(not True)\r\n",
        "print(not False)"
      ],
      "execution_count": 24,
      "outputs": [
        {
          "output_type": "stream",
          "text": [
            "True\n",
            "False\n",
            "False\n",
            "True\n"
          ],
          "name": "stdout"
        }
      ]
    },
    {
      "cell_type": "code",
      "metadata": {
        "id": "U0BJn7LffnPu",
        "colab": {
          "base_uri": "https://localhost:8080/"
        },
        "outputId": "443106fc-c196-42ec-c233-447bf79567fc"
      },
      "source": [
        "# Comparisons: >, <, ==, !=, >=, <=\r\n",
        "exp1 = (a > 5) and (b < 3)\r\n",
        "print(a, b, exp1)"
      ],
      "execution_count": 25,
      "outputs": [
        {
          "output_type": "stream",
          "text": [
            "2 -3 False\n"
          ],
          "name": "stdout"
        }
      ]
    },
    {
      "cell_type": "markdown",
      "metadata": {
        "id": "jzsZKSN-fpMn"
      },
      "source": [
        "## 6. Strings"
      ]
    },
    {
      "cell_type": "code",
      "metadata": {
        "id": "5kzC2YhRfrUB",
        "colab": {
          "base_uri": "https://localhost:8080/"
        },
        "outputId": "1eea1b0a-90c5-4a0b-85d7-0ff88838f652"
      },
      "source": [
        "str1 = \"Hello\"\r\n",
        "str2 = 'World'\r\n",
        "str3 = '3'\r\n",
        "print(type(str3))\r\n",
        "print(str1 + str2 + str3) # Use \"+\" to concatenate strings\r\n",
        "print(\"My \\n Name \\n Is \\t Liang.\")\r\n",
        "print('I said \"Good Morning\"') # If the string contains \"\", then use '' to define the string\r\n",
        "print(\"I said \\\"Good Morning\\\"\")"
      ],
      "execution_count": 26,
      "outputs": [
        {
          "output_type": "stream",
          "text": [
            "<class 'str'>\n",
            "HelloWorld3\n",
            "My \n",
            " Name \n",
            " Is \t Liang.\n",
            "I said \"Good Morning\"\n",
            "I said \"Good Morning\"\n"
          ],
          "name": "stdout"
        }
      ]
    },
    {
      "cell_type": "code",
      "metadata": {
        "id": "rBzL3xRGfuTd",
        "colab": {
          "base_uri": "https://localhost:8080/"
        },
        "outputId": "eab94067-3e26-42db-89ec-76b11ae94e56"
      },
      "source": [
        "# Remove extra space at the beginning and the end of a string\r\n",
        "data_value = \"     Liang Zhao     \"\r\n",
        "my_name = \"Liang Zhao\"\r\n",
        "print(data_value == my_name)\r\n",
        "print(data_value.strip())\r\n",
        "print(data_value.strip() == my_name)"
      ],
      "execution_count": 29,
      "outputs": [
        {
          "output_type": "stream",
          "text": [
            "False\n",
            "Liang Zhao\n",
            "True\n"
          ],
          "name": "stdout"
        }
      ]
    },
    {
      "cell_type": "code",
      "metadata": {
        "id": "ODUH7f93fywM",
        "colab": {
          "base_uri": "https://localhost:8080/"
        },
        "outputId": "2737d3fb-74d7-4e8a-e2b0-663b88a4c97a"
      },
      "source": [
        "# Split a string\r\n",
        "file_names = \"Alex, Bob, Clare, David\"\r\n",
        "file_names.split(\", \")"
      ],
      "execution_count": 30,
      "outputs": [
        {
          "output_type": "execute_result",
          "data": {
            "text/plain": [
              "['Alex', 'Bob', 'Clare', 'David']"
            ]
          },
          "metadata": {
            "tags": []
          },
          "execution_count": 30
        }
      ]
    },
    {
      "cell_type": "code",
      "metadata": {
        "id": "RMVTAFyvf0R3",
        "colab": {
          "base_uri": "https://localhost:8080/"
        },
        "outputId": "b21b2aeb-a40f-4534-ad9b-59d1aa626329"
      },
      "source": [
        "# String formatting\r\n",
        "float_num = 45.67898765\r\n",
        "print(float_num)\r\n",
        "print(\"%5.2f\" % (float_num))\r\n",
        "print(\"%08.2f\" % (float_num))\r\n",
        "formatted_string = \"Name: %10s | Score: %5d | Value: %.2f\" % (\"Alex\", 89, 12.345)\r\n",
        "print(formatted_string)\r\n",
        "formatted_string = \"Name: %10s | Score: %5d | Value: %.2f\" % (\"Bob\", 9, 543.21)\r\n",
        "print(formatted_string)"
      ],
      "execution_count": 32,
      "outputs": [
        {
          "output_type": "stream",
          "text": [
            "45.67898765\n",
            "45.68\n",
            "00045.68\n",
            "Name:       Alex | Score:    89 | Value: 12.35\n",
            "Name:        Bob | Score:     9 | Value: 543.21\n"
          ],
          "name": "stdout"
        }
      ]
    },
    {
      "cell_type": "markdown",
      "metadata": {
        "id": "MaW9r2J9f4Y3"
      },
      "source": [
        "## 7. Data Containers\r\n",
        "Data containers are structures used to contain multiple values. "
      ]
    },
    {
      "cell_type": "code",
      "metadata": {
        "id": "vyWnAkAWgCLa"
      },
      "source": [
        "# List\r\n",
        "list1 = [1, 2, 3, 4, 6.5, \"Monday\", True]"
      ],
      "execution_count": 34,
      "outputs": []
    },
    {
      "cell_type": "code",
      "metadata": {
        "id": "5zur4jongEFu",
        "colab": {
          "base_uri": "https://localhost:8080/"
        },
        "outputId": "bff73734-4b18-409d-d34e-5bb8f636d470"
      },
      "source": [
        "print(list1)\r\n",
        "list1.append(12)\r\n",
        "print(list1)"
      ],
      "execution_count": 35,
      "outputs": [
        {
          "output_type": "stream",
          "text": [
            "[1, 2, 3, 4, 6.5, 'Monday', True]\n",
            "[1, 2, 3, 4, 6.5, 'Monday', True, 12]\n"
          ],
          "name": "stdout"
        }
      ]
    },
    {
      "cell_type": "code",
      "metadata": {
        "id": "uMP2tVcjgF8J",
        "colab": {
          "base_uri": "https://localhost:8080/"
        },
        "outputId": "f5b71939-22dc-4a3a-fa2a-994450c85ad2"
      },
      "source": [
        "val = list1.pop()\r\n",
        "print(val)\r\n",
        "print(list1)"
      ],
      "execution_count": 36,
      "outputs": [
        {
          "output_type": "stream",
          "text": [
            "12\n",
            "[1, 2, 3, 4, 6.5, 'Monday', True]\n"
          ],
          "name": "stdout"
        }
      ]
    },
    {
      "cell_type": "code",
      "metadata": {
        "id": "t2bXvoYwgHct",
        "colab": {
          "base_uri": "https://localhost:8080/"
        },
        "outputId": "61f86e02-9f85-4f60-9929-7da42c08f485"
      },
      "source": [
        "# Indexing\r\n",
        "print(list1[0])\r\n",
        "print(list1[1])\r\n",
        "print(list1[-1])\r\n",
        "print(list1[-2])\r\n",
        "print(list1[2:5]) # the second index is exclusive\r\n",
        "print(list1[:5]) # omitting the first index means starting from 0\r\n",
        "print(list1[2:]) # omitting the second index means going to the end\r\n",
        "print(list1[:]) # prints out everything"
      ],
      "execution_count": 37,
      "outputs": [
        {
          "output_type": "stream",
          "text": [
            "1\n",
            "2\n",
            "True\n",
            "Monday\n",
            "[3, 4, 6.5]\n",
            "[1, 2, 3, 4, 6.5]\n",
            "[3, 4, 6.5, 'Monday', True]\n",
            "[1, 2, 3, 4, 6.5, 'Monday', True]\n"
          ],
          "name": "stdout"
        }
      ]
    },
    {
      "cell_type": "code",
      "metadata": {
        "id": "A_7NLo32gJWF",
        "colab": {
          "base_uri": "https://localhost:8080/"
        },
        "outputId": "4079dee8-fa18-4d0f-9f1d-6fa0216e67f6"
      },
      "source": [
        "len(list1)"
      ],
      "execution_count": 38,
      "outputs": [
        {
          "output_type": "execute_result",
          "data": {
            "text/plain": [
              "7"
            ]
          },
          "metadata": {
            "tags": []
          },
          "execution_count": 38
        }
      ]
    },
    {
      "cell_type": "code",
      "metadata": {
        "id": "u60JO2tagLLg",
        "colab": {
          "base_uri": "https://localhost:8080/"
        },
        "outputId": "4ca3449a-f5be-4b67-853f-c8d162237e32"
      },
      "source": [
        "# Set\r\n",
        "set1 = {1, 2, 3, 3, 2, 1}\r\n",
        "print(set1)"
      ],
      "execution_count": 39,
      "outputs": [
        {
          "output_type": "stream",
          "text": [
            "{1, 2, 3}\n"
          ],
          "name": "stdout"
        }
      ]
    },
    {
      "cell_type": "code",
      "metadata": {
        "id": "WglaNODSgNI8",
        "colab": {
          "base_uri": "https://localhost:8080/"
        },
        "outputId": "d6be2a51-f1fe-4b06-8cba-b7d4dc452bc7"
      },
      "source": [
        "# Tuple - cant be changed\r\n",
        "tuple1 = (1, 2, 3)\r\n",
        "tuple2 = (2, 3, 1)\r\n",
        "print(tuple1 == tuple2)"
      ],
      "execution_count": 40,
      "outputs": [
        {
          "output_type": "stream",
          "text": [
            "False\n"
          ],
          "name": "stdout"
        }
      ]
    },
    {
      "cell_type": "code",
      "metadata": {
        "id": "JnK4x1psgPcE",
        "colab": {
          "base_uri": "https://localhost:8080/"
        },
        "outputId": "7ad04fba-e295-4cbc-cd1c-70acaf602e7c"
      },
      "source": [
        "# Dictionary: (key, value)\r\n",
        "dict1 = {\"Alex\": \"A\",\r\n",
        "         \"Bob\": \"B\", \r\n",
        "         \"Clare\": \"C\"}\r\n",
        "print(dict1['Alex'])\r\n",
        "print(dict1['Clare'])"
      ],
      "execution_count": 41,
      "outputs": [
        {
          "output_type": "stream",
          "text": [
            "A\n",
            "C\n"
          ],
          "name": "stdout"
        }
      ]
    },
    {
      "cell_type": "markdown",
      "metadata": {
        "id": "lLbW09mIAv0p"
      },
      "source": [
        "### 8. Loops and Branches"
      ]
    },
    {
      "cell_type": "code",
      "metadata": {
        "id": "Y5PZXQBhAy9H",
        "colab": {
          "base_uri": "https://localhost:8080/"
        },
        "outputId": "d7d41a64-6b6b-43e5-9422-dfb602953de6"
      },
      "source": [
        "names = ['Alex', 'Bob', 'Clare']\r\n",
        "for name in names: # for (variable) in (list of values):\r\n",
        "    print(dict1[name]) # Use indentation (4 spaces) to indicate the loop body"
      ],
      "execution_count": 45,
      "outputs": [
        {
          "output_type": "stream",
          "text": [
            "A\n",
            "B\n",
            "C\n"
          ],
          "name": "stdout"
        }
      ]
    },
    {
      "cell_type": "code",
      "metadata": {
        "colab": {
          "base_uri": "https://localhost:8080/"
        },
        "id": "6Ko7AgQcX5JM",
        "outputId": "f17a8bbe-3bc2-4b7c-b5b4-ed4246585904"
      },
      "source": [
        "for name in names:\r\n",
        "    # just print the names\r\n",
        "    print(name)"
      ],
      "execution_count": 48,
      "outputs": [
        {
          "output_type": "stream",
          "text": [
            "Alex\n",
            "Bob\n",
            "Clare\n"
          ],
          "name": "stdout"
        }
      ]
    },
    {
      "cell_type": "code",
      "metadata": {
        "id": "tsHO6rDeA22Y",
        "colab": {
          "base_uri": "https://localhost:8080/"
        },
        "outputId": "1cabcd73-d129-4cd6-ec28-8175cc0a7045"
      },
      "source": [
        "a = 2\r\n",
        "if a > 0:\r\n",
        "    print(\"Greater than zero.\")\r\n",
        "else: \r\n",
        "    print(\"Not greater than zero.\")"
      ],
      "execution_count": 49,
      "outputs": [
        {
          "output_type": "stream",
          "text": [
            "Greater than zero.\n"
          ],
          "name": "stdout"
        }
      ]
    },
    {
      "cell_type": "code",
      "metadata": {
        "id": "1lbDjThfA5wt",
        "colab": {
          "base_uri": "https://localhost:8080/"
        },
        "outputId": "a6fea1a4-f76a-47e9-b53c-eaf73ffcc8a7"
      },
      "source": [
        "a = 2\r\n",
        "b = 4\r\n",
        "if a < 0:\r\n",
        "    print(\"a less than zero\")\r\n",
        "elif b > 0: # \"elif\" means \"else if\"\r\n",
        "    print(\"a not less than zero, and b greater than zero\")\r\n",
        "else:\r\n",
        "    print(\"neither is greater than zero\")"
      ],
      "execution_count": 50,
      "outputs": [
        {
          "output_type": "stream",
          "text": [
            "a not less than zero, and b greater than zero\n"
          ],
          "name": "stdout"
        }
      ]
    },
    {
      "cell_type": "markdown",
      "metadata": {
        "id": "FGVmRCqAA7ro"
      },
      "source": [
        "### 9. Functions"
      ]
    },
    {
      "cell_type": "code",
      "metadata": {
        "id": "SsuWRfZbA-CX"
      },
      "source": [
        "def sum_of_list(list1):\r\n",
        "    sum = 0\r\n",
        "    for x in list1:\r\n",
        "        sum += x\r\n",
        "    return sum"
      ],
      "execution_count": 56,
      "outputs": []
    },
    {
      "cell_type": "code",
      "metadata": {
        "id": "DE48EenVBDwP",
        "colab": {
          "base_uri": "https://localhost:8080/"
        },
        "outputId": "68922059-888b-48ae-a397-759d7f66aaa1"
      },
      "source": [
        "list1 = [1,3,4,5]\r\n",
        "sum_of_list(list1)"
      ],
      "execution_count": 59,
      "outputs": [
        {
          "output_type": "execute_result",
          "data": {
            "text/plain": [
              "13"
            ]
          },
          "metadata": {
            "tags": []
          },
          "execution_count": 59
        }
      ]
    },
    {
      "cell_type": "code",
      "metadata": {
        "id": "lGXdJHiFBFGg"
      },
      "source": [
        "# Exercise: Create a funtion that finds the maximum value of a list\r\n",
        "def find_maximum(list1):\r\n",
        "    pass\r\n"
      ],
      "execution_count": null,
      "outputs": []
    },
    {
      "cell_type": "markdown",
      "metadata": {
        "id": "-vcua-N0BLNG"
      },
      "source": [
        "## 10. Classes"
      ]
    },
    {
      "cell_type": "code",
      "metadata": {
        "id": "0a1Fjmt0BWDA"
      },
      "source": [
        "class Person():\r\n",
        "\r\n",
        "    def __init__(self, name, age):\r\n",
        "        self.name = name\r\n",
        "        self.age = age\r\n",
        "        print(\"Person object created.\")\r\n",
        "\r\n",
        "    def print(self):\r\n",
        "        print(\"Name:\", self.name, \" | Age: \", self.age)"
      ],
      "execution_count": null,
      "outputs": []
    },
    {
      "cell_type": "code",
      "metadata": {
        "id": "0S57MJgLBliW"
      },
      "source": [
        "alice = Person(\"Alice\", 25)"
      ],
      "execution_count": null,
      "outputs": []
    },
    {
      "cell_type": "code",
      "metadata": {
        "id": "DqXJCNdmBoU8"
      },
      "source": [
        "alice.print()"
      ],
      "execution_count": null,
      "outputs": []
    },
    {
      "cell_type": "code",
      "metadata": {
        "id": "4k54RYN-Bt7b"
      },
      "source": [
        "class Student(Person):\r\n",
        "\r\n",
        "    def __init__(self, name, age, id):\r\n",
        "        super().__init__(name, age)\r\n",
        "        self.id = id\r\n",
        "        print(\"Student object created.\")\r\n",
        "\r\n",
        "    def print(self):\r\n",
        "        super().print()\r\n",
        "        print(\"ID: \", self.id)"
      ],
      "execution_count": null,
      "outputs": []
    },
    {
      "cell_type": "code",
      "metadata": {
        "id": "G-8eLyI6B-mL"
      },
      "source": [
        "alice = Student(\"Alice\", 25, 12345)"
      ],
      "execution_count": null,
      "outputs": []
    },
    {
      "cell_type": "code",
      "metadata": {
        "id": "bCNiW-WTCBgr"
      },
      "source": [
        "alice.print()"
      ],
      "execution_count": null,
      "outputs": []
    },
    {
      "cell_type": "markdown",
      "metadata": {
        "id": "_--ha2rYCWA9"
      },
      "source": [
        "## Example Program: Analyze Test Scores\r\n"
      ]
    },
    {
      "cell_type": "code",
      "metadata": {
        "id": "fCLNt7SYDCgH"
      },
      "source": [
        "# A list of student names and a list of students scores are given as follows:\r\n",
        "names = ['Alice', 'Bob', 'Clare', 'David', 'Edward', 'Frank', 'Gabriel']\r\n",
        "scores = [99, 88, 77, 66, 55, 44, 33]"
      ],
      "execution_count": 63,
      "outputs": []
    },
    {
      "cell_type": "markdown",
      "metadata": {
        "id": "Vk5_uJlcDYZk"
      },
      "source": [
        "Write a program to find the average score."
      ]
    },
    {
      "cell_type": "code",
      "metadata": {
        "id": "zVTYv48iDfhF"
      },
      "source": [
        "def find_average(scores):\r\n",
        "    \r\n",
        "    pass"
      ],
      "execution_count": 61,
      "outputs": []
    },
    {
      "cell_type": "code",
      "metadata": {
        "id": "Lb5EJVO4DjL7"
      },
      "source": [
        ""
      ],
      "execution_count": null,
      "outputs": []
    },
    {
      "cell_type": "markdown",
      "metadata": {
        "id": "Y32MeoalDkl-"
      },
      "source": [
        "Write a program that returns a list of student names who failed the course."
      ]
    },
    {
      "cell_type": "code",
      "metadata": {
        "id": "IWhhAZreDrwN",
        "colab": {
          "base_uri": "https://localhost:8080/",
          "height": 129
        },
        "outputId": "1f80d75e-70c0-423b-a327-0d283c98c2c5"
      },
      "source": [
        "def who_failed(names, scores)\r\n",
        "\r\n",
        "    pass"
      ],
      "execution_count": 62,
      "outputs": [
        {
          "output_type": "error",
          "ename": "SyntaxError",
          "evalue": "ignored",
          "traceback": [
            "\u001b[0;36m  File \u001b[0;32m\"<ipython-input-62-1db23f64821e>\"\u001b[0;36m, line \u001b[0;32m1\u001b[0m\n\u001b[0;31m    def who_failed(names, scores)\u001b[0m\n\u001b[0m                                 ^\u001b[0m\n\u001b[0;31mSyntaxError\u001b[0m\u001b[0;31m:\u001b[0m invalid syntax\n"
          ]
        }
      ]
    },
    {
      "cell_type": "markdown",
      "metadata": {
        "id": "XqloMDfjEGiC"
      },
      "source": [
        "Write a program that returns a list of letter grades.\r\n",
        "- A: 90 - 100\r\n",
        "- B: 80 - 89\r\n",
        "- C: 70 - 79\r\n",
        "- D: 60 - 69\r\n",
        "- F: Below 60"
      ]
    },
    {
      "cell_type": "code",
      "metadata": {
        "id": "9c5DUF2UEUdd"
      },
      "source": [
        "def get_letter_grades(scores):\r\n",
        "\r\n",
        "    pass"
      ],
      "execution_count": null,
      "outputs": []
    }
  ]
}
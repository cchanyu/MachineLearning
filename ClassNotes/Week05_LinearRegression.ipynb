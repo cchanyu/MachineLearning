{
  "nbformat": 4,
  "nbformat_minor": 0,
  "metadata": {
    "colab": {
      "name": "Week05_LinearRegression",
      "provenance": [],
      "collapsed_sections": []
    },
    "kernelspec": {
      "name": "python3",
      "display_name": "Python 3"
    }
  },
  "cells": [
    {
      "cell_type": "markdown",
      "metadata": {
        "id": "u7HIsHhxuk-V"
      },
      "source": [
        "# Week 5\r\n",
        "# Simple Linear Regression and the Normal Equation\r\n",
        "\r\n",
        "So far we have treated machine learning models and their training algorithms mostly like black boxes. Starting from Chapter 4, we will look into the mechanism of several popular machine learning models, analyze them mathematically and learn how to implement the methods from scratch. Let's start with the linear regression model.\r\n",
        "\r\n",
        "**Reading**: Textbook, Chapter 4"
      ]
    },
    {
      "cell_type": "markdown",
      "metadata": {
        "id": "aQ2Gz9YPupfu"
      },
      "source": [
        "## I. Simple Linear regression: Sales Prediction\r\n",
        "\r\n",
        "To put things into context, let's look at a dataset that contains the sales revenue and the advertising budgets of a company in 200 different markets."
      ]
    },
    {
      "cell_type": "code",
      "metadata": {
        "id": "OlGlaCOhupiD"
      },
      "source": [
        "import numpy as np\r\n",
        "import pandas as pd\r\n",
        "import matplotlib.pyplot as plt\r\n",
        "%matplotlib inline"
      ],
      "execution_count": 15,
      "outputs": []
    },
    {
      "cell_type": "code",
      "metadata": {
        "id": "WQ6pwyVTupkY",
        "colab": {
          "base_uri": "https://localhost:8080/",
          "height": 204
        },
        "outputId": "9c7775c3-b236-42f0-e842-06a58e85b810"
      },
      "source": [
        "url = \"https://www.statlearning.com/s/Advertising.csv\"\r\n",
        "advertising = pd.read_csv(url, index_col=0)\r\n",
        "advertising.head()"
      ],
      "execution_count": 16,
      "outputs": [
        {
          "output_type": "execute_result",
          "data": {
            "text/html": [
              "<div>\n",
              "<style scoped>\n",
              "    .dataframe tbody tr th:only-of-type {\n",
              "        vertical-align: middle;\n",
              "    }\n",
              "\n",
              "    .dataframe tbody tr th {\n",
              "        vertical-align: top;\n",
              "    }\n",
              "\n",
              "    .dataframe thead th {\n",
              "        text-align: right;\n",
              "    }\n",
              "</style>\n",
              "<table border=\"1\" class=\"dataframe\">\n",
              "  <thead>\n",
              "    <tr style=\"text-align: right;\">\n",
              "      <th></th>\n",
              "      <th>TV</th>\n",
              "      <th>radio</th>\n",
              "      <th>newspaper</th>\n",
              "      <th>sales</th>\n",
              "    </tr>\n",
              "  </thead>\n",
              "  <tbody>\n",
              "    <tr>\n",
              "      <th>1</th>\n",
              "      <td>230.1</td>\n",
              "      <td>37.8</td>\n",
              "      <td>69.2</td>\n",
              "      <td>22.1</td>\n",
              "    </tr>\n",
              "    <tr>\n",
              "      <th>2</th>\n",
              "      <td>44.5</td>\n",
              "      <td>39.3</td>\n",
              "      <td>45.1</td>\n",
              "      <td>10.4</td>\n",
              "    </tr>\n",
              "    <tr>\n",
              "      <th>3</th>\n",
              "      <td>17.2</td>\n",
              "      <td>45.9</td>\n",
              "      <td>69.3</td>\n",
              "      <td>9.3</td>\n",
              "    </tr>\n",
              "    <tr>\n",
              "      <th>4</th>\n",
              "      <td>151.5</td>\n",
              "      <td>41.3</td>\n",
              "      <td>58.5</td>\n",
              "      <td>18.5</td>\n",
              "    </tr>\n",
              "    <tr>\n",
              "      <th>5</th>\n",
              "      <td>180.8</td>\n",
              "      <td>10.8</td>\n",
              "      <td>58.4</td>\n",
              "      <td>12.9</td>\n",
              "    </tr>\n",
              "  </tbody>\n",
              "</table>\n",
              "</div>"
            ],
            "text/plain": [
              "      TV  radio  newspaper  sales\n",
              "1  230.1   37.8       69.2   22.1\n",
              "2   44.5   39.3       45.1   10.4\n",
              "3   17.2   45.9       69.3    9.3\n",
              "4  151.5   41.3       58.5   18.5\n",
              "5  180.8   10.8       58.4   12.9"
            ]
          },
          "metadata": {
            "tags": []
          },
          "execution_count": 16
        }
      ]
    },
    {
      "cell_type": "code",
      "metadata": {
        "id": "S-euVXtvupmr",
        "colab": {
          "base_uri": "https://localhost:8080/"
        },
        "outputId": "6c2d3c64-a89b-416b-dcc4-923d0b15dcc5"
      },
      "source": [
        "advertising.info()"
      ],
      "execution_count": 18,
      "outputs": [
        {
          "output_type": "stream",
          "text": [
            "<class 'pandas.core.frame.DataFrame'>\n",
            "Int64Index: 200 entries, 1 to 200\n",
            "Data columns (total 4 columns):\n",
            " #   Column     Non-Null Count  Dtype  \n",
            "---  ------     --------------  -----  \n",
            " 0   TV         200 non-null    float64\n",
            " 1   radio      200 non-null    float64\n",
            " 2   newspaper  200 non-null    float64\n",
            " 3   sales      200 non-null    float64\n",
            "dtypes: float64(4)\n",
            "memory usage: 7.8 KB\n"
          ],
          "name": "stdout"
        }
      ]
    },
    {
      "cell_type": "code",
      "metadata": {
        "id": "4eh00tLDuppH",
        "colab": {
          "base_uri": "https://localhost:8080/",
          "height": 297
        },
        "outputId": "1413a529-42ff-4740-931a-38c35f767efd"
      },
      "source": [
        "advertising.describe()"
      ],
      "execution_count": 19,
      "outputs": [
        {
          "output_type": "execute_result",
          "data": {
            "text/html": [
              "<div>\n",
              "<style scoped>\n",
              "    .dataframe tbody tr th:only-of-type {\n",
              "        vertical-align: middle;\n",
              "    }\n",
              "\n",
              "    .dataframe tbody tr th {\n",
              "        vertical-align: top;\n",
              "    }\n",
              "\n",
              "    .dataframe thead th {\n",
              "        text-align: right;\n",
              "    }\n",
              "</style>\n",
              "<table border=\"1\" class=\"dataframe\">\n",
              "  <thead>\n",
              "    <tr style=\"text-align: right;\">\n",
              "      <th></th>\n",
              "      <th>TV</th>\n",
              "      <th>radio</th>\n",
              "      <th>newspaper</th>\n",
              "      <th>sales</th>\n",
              "    </tr>\n",
              "  </thead>\n",
              "  <tbody>\n",
              "    <tr>\n",
              "      <th>count</th>\n",
              "      <td>200.000000</td>\n",
              "      <td>200.000000</td>\n",
              "      <td>200.000000</td>\n",
              "      <td>200.000000</td>\n",
              "    </tr>\n",
              "    <tr>\n",
              "      <th>mean</th>\n",
              "      <td>147.042500</td>\n",
              "      <td>23.264000</td>\n",
              "      <td>30.554000</td>\n",
              "      <td>14.022500</td>\n",
              "    </tr>\n",
              "    <tr>\n",
              "      <th>std</th>\n",
              "      <td>85.854236</td>\n",
              "      <td>14.846809</td>\n",
              "      <td>21.778621</td>\n",
              "      <td>5.217457</td>\n",
              "    </tr>\n",
              "    <tr>\n",
              "      <th>min</th>\n",
              "      <td>0.700000</td>\n",
              "      <td>0.000000</td>\n",
              "      <td>0.300000</td>\n",
              "      <td>1.600000</td>\n",
              "    </tr>\n",
              "    <tr>\n",
              "      <th>25%</th>\n",
              "      <td>74.375000</td>\n",
              "      <td>9.975000</td>\n",
              "      <td>12.750000</td>\n",
              "      <td>10.375000</td>\n",
              "    </tr>\n",
              "    <tr>\n",
              "      <th>50%</th>\n",
              "      <td>149.750000</td>\n",
              "      <td>22.900000</td>\n",
              "      <td>25.750000</td>\n",
              "      <td>12.900000</td>\n",
              "    </tr>\n",
              "    <tr>\n",
              "      <th>75%</th>\n",
              "      <td>218.825000</td>\n",
              "      <td>36.525000</td>\n",
              "      <td>45.100000</td>\n",
              "      <td>17.400000</td>\n",
              "    </tr>\n",
              "    <tr>\n",
              "      <th>max</th>\n",
              "      <td>296.400000</td>\n",
              "      <td>49.600000</td>\n",
              "      <td>114.000000</td>\n",
              "      <td>27.000000</td>\n",
              "    </tr>\n",
              "  </tbody>\n",
              "</table>\n",
              "</div>"
            ],
            "text/plain": [
              "               TV       radio   newspaper       sales\n",
              "count  200.000000  200.000000  200.000000  200.000000\n",
              "mean   147.042500   23.264000   30.554000   14.022500\n",
              "std     85.854236   14.846809   21.778621    5.217457\n",
              "min      0.700000    0.000000    0.300000    1.600000\n",
              "25%     74.375000    9.975000   12.750000   10.375000\n",
              "50%    149.750000   22.900000   25.750000   12.900000\n",
              "75%    218.825000   36.525000   45.100000   17.400000\n",
              "max    296.400000   49.600000  114.000000   27.000000"
            ]
          },
          "metadata": {
            "tags": []
          },
          "execution_count": 19
        }
      ]
    },
    {
      "cell_type": "code",
      "metadata": {
        "id": "34vliqiQuprc",
        "colab": {
          "base_uri": "https://localhost:8080/",
          "height": 608
        },
        "outputId": "b25eb1cb-936a-48c8-bc62-916658acf585"
      },
      "source": [
        "fig = advertising.hist(figsize=(10, 10))"
      ],
      "execution_count": 20,
      "outputs": [
        {
          "output_type": "display_data",
          "data": {
            "image/png": "[encoded data removed]",
            "text/plain": [
              "<Figure size 720x720 with 4 Axes>"
            ]
          },
          "metadata": {
            "tags": [],
            "needs_background": "light"
          }
        }
      ]
    },
    {
      "cell_type": "code",
      "metadata": {
        "id": "yfmol9Hxupt9",
        "colab": {
          "base_uri": "https://localhost:8080/",
          "height": 295
        },
        "outputId": "7dac547d-fa6d-45e1-ea66-04b3d7ff8ec4"
      },
      "source": [
        "# plot TV vs. sales\r\n",
        "plt.plot(advertising['TV'], advertising['sales'], 'g.')\r\n",
        "plt.title(\"TV vs. sales\")\r\n",
        "plt.xlabel(\"TV budget\")\r\n",
        "plt.ylabel(\"Sales Revenue\")\r\n",
        "plt.savefig(\"TVvsSales.png\")\r\n",
        "plt.show() # this is needed in other Python environments"
      ],
      "execution_count": 21,
      "outputs": [
        {
          "output_type": "display_data",
          "data": {
            "image/png": "[encoded data removed]",
            "text/plain": [
              "<Figure size 432x288 with 1 Axes>"
            ]
          },
          "metadata": {
            "tags": [],
            "needs_background": "light"
          }
        }
      ]
    },
    {
      "cell_type": "code",
      "metadata": {
        "id": "IdmR2IQmupwR",
        "colab": {
          "base_uri": "https://localhost:8080/",
          "height": 295
        },
        "outputId": "0a08b092-9de2-4872-a3a1-b10ab804d520"
      },
      "source": [
        "# Exercise:\r\n",
        "# plot radio vs. sales\r\n",
        "plt.plot(advertising['radio'], advertising['sales'], 'g.')\r\n",
        "plt.title(\"Radio vs. sales\")\r\n",
        "plt.xlabel(\"Radio budget\")\r\n",
        "plt.ylabel(\"Sales Revenue\")\r\n",
        "plt.savefig(\"RadiovsSales.png\")\r\n",
        "plt.show() # this is needed in other Python environments"
      ],
      "execution_count": 22,
      "outputs": [
        {
          "output_type": "display_data",
          "data": {
            "image/png": "[encoded data removed]",
            "text/plain": [
              "<Figure size 432x288 with 1 Axes>"
            ]
          },
          "metadata": {
            "tags": [],
            "needs_background": "light"
          }
        }
      ]
    },
    {
      "cell_type": "code",
      "metadata": {
        "id": "IPWxPApfupy8",
        "colab": {
          "base_uri": "https://localhost:8080/",
          "height": 295
        },
        "outputId": "81e1bae4-c989-4df8-da7c-4ba27f5fb440"
      },
      "source": [
        "# Exercise:\r\n",
        "# plot newspaper vs. sales\r\n",
        "plt.plot(advertising['newspaper'], advertising['sales'], 'g.')\r\n",
        "plt.title(\"Newspaper vs. sales\")\r\n",
        "plt.xlabel(\"Newspaper budget\")\r\n",
        "plt.ylabel(\"Sales Revenue\")\r\n",
        "plt.savefig(\"NewspapervsSales.png\")\r\n",
        "plt.show() # this is needed in other Python environments"
      ],
      "execution_count": 23,
      "outputs": [
        {
          "output_type": "display_data",
          "data": {
            "image/png": "[encoded data removed]",
            "text/plain": [
              "<Figure size 432x288 with 1 Axes>"
            ]
          },
          "metadata": {
            "tags": [],
            "needs_background": "light"
          }
        }
      ]
    },
    {
      "cell_type": "markdown",
      "metadata": {
        "id": "APBfXCE_up3Z"
      },
      "source": [
        "### Correlation Coefficient: Numerical Measure of Correlations\r\n",
        "The **correlation coefficient** is a numerical measurement of **linear correlation** between two variables.\r\n",
        "- The value of correlation coefficient always lies in [-1, 1].\r\n",
        "- If there is a strong positive correlation, then the coefficient is close to 1.\r\n",
        "- If there is a strong negative correlation, then the coefficient is close to -1.\r\n",
        "- If there is a very weak correlation, then the coefficient is close to 0.\r\n",
        "- However, a near-zero coeffient may be caused by non-linear correlations.\r\n",
        "![](https://upload.wikimedia.org/wikipedia/commons/d/d4/Correlation_examples2.svg)"
      ]
    },
    {
      "cell_type": "code",
      "metadata": {
        "id": "8jpDO9UFup5w",
        "colab": {
          "base_uri": "https://localhost:8080/",
          "height": 173
        },
        "outputId": "5d7f2361-03ab-40cc-c3d4-2a590f85966d"
      },
      "source": [
        "# Calculate pair-wise correlation coefficients\r\n",
        "advertising.corr()"
      ],
      "execution_count": 24,
      "outputs": [
        {
          "output_type": "execute_result",
          "data": {
            "text/html": [
              "<div>\n",
              "<style scoped>\n",
              "    .dataframe tbody tr th:only-of-type {\n",
              "        vertical-align: middle;\n",
              "    }\n",
              "\n",
              "    .dataframe tbody tr th {\n",
              "        vertical-align: top;\n",
              "    }\n",
              "\n",
              "    .dataframe thead th {\n",
              "        text-align: right;\n",
              "    }\n",
              "</style>\n",
              "<table border=\"1\" class=\"dataframe\">\n",
              "  <thead>\n",
              "    <tr style=\"text-align: right;\">\n",
              "      <th></th>\n",
              "      <th>TV</th>\n",
              "      <th>radio</th>\n",
              "      <th>newspaper</th>\n",
              "      <th>sales</th>\n",
              "    </tr>\n",
              "  </thead>\n",
              "  <tbody>\n",
              "    <tr>\n",
              "      <th>TV</th>\n",
              "      <td>1.000000</td>\n",
              "      <td>0.054809</td>\n",
              "      <td>0.056648</td>\n",
              "      <td>0.782224</td>\n",
              "    </tr>\n",
              "    <tr>\n",
              "      <th>radio</th>\n",
              "      <td>0.054809</td>\n",
              "      <td>1.000000</td>\n",
              "      <td>0.354104</td>\n",
              "      <td>0.576223</td>\n",
              "    </tr>\n",
              "    <tr>\n",
              "      <th>newspaper</th>\n",
              "      <td>0.056648</td>\n",
              "      <td>0.354104</td>\n",
              "      <td>1.000000</td>\n",
              "      <td>0.228299</td>\n",
              "    </tr>\n",
              "    <tr>\n",
              "      <th>sales</th>\n",
              "      <td>0.782224</td>\n",
              "      <td>0.576223</td>\n",
              "      <td>0.228299</td>\n",
              "      <td>1.000000</td>\n",
              "    </tr>\n",
              "  </tbody>\n",
              "</table>\n",
              "</div>"
            ],
            "text/plain": [
              "                 TV     radio  newspaper     sales\n",
              "TV         1.000000  0.054809   0.056648  0.782224\n",
              "radio      0.054809  1.000000   0.354104  0.576223\n",
              "newspaper  0.056648  0.354104   1.000000  0.228299\n",
              "sales      0.782224  0.576223   0.228299  1.000000"
            ]
          },
          "metadata": {
            "tags": []
          },
          "execution_count": 24
        }
      ]
    },
    {
      "cell_type": "markdown",
      "metadata": {
        "id": "IRA9q_J0up8P"
      },
      "source": [
        "For simplicity, we will only use `TV` as a predictor of `sales`."
      ]
    },
    {
      "cell_type": "code",
      "metadata": {
        "id": "HmDGoPkTup-j",
        "colab": {
          "base_uri": "https://localhost:8080/",
          "height": 204
        },
        "outputId": "cfae76c3-bfb3-44c9-ddb3-5925827b142a"
      },
      "source": [
        "data = advertising.loc[:, ['TV', 'sales']]\r\n",
        "data.head()"
      ],
      "execution_count": 25,
      "outputs": [
        {
          "output_type": "execute_result",
          "data": {
            "text/html": [
              "<div>\n",
              "<style scoped>\n",
              "    .dataframe tbody tr th:only-of-type {\n",
              "        vertical-align: middle;\n",
              "    }\n",
              "\n",
              "    .dataframe tbody tr th {\n",
              "        vertical-align: top;\n",
              "    }\n",
              "\n",
              "    .dataframe thead th {\n",
              "        text-align: right;\n",
              "    }\n",
              "</style>\n",
              "<table border=\"1\" class=\"dataframe\">\n",
              "  <thead>\n",
              "    <tr style=\"text-align: right;\">\n",
              "      <th></th>\n",
              "      <th>TV</th>\n",
              "      <th>sales</th>\n",
              "    </tr>\n",
              "  </thead>\n",
              "  <tbody>\n",
              "    <tr>\n",
              "      <th>1</th>\n",
              "      <td>230.1</td>\n",
              "      <td>22.1</td>\n",
              "    </tr>\n",
              "    <tr>\n",
              "      <th>2</th>\n",
              "      <td>44.5</td>\n",
              "      <td>10.4</td>\n",
              "    </tr>\n",
              "    <tr>\n",
              "      <th>3</th>\n",
              "      <td>17.2</td>\n",
              "      <td>9.3</td>\n",
              "    </tr>\n",
              "    <tr>\n",
              "      <th>4</th>\n",
              "      <td>151.5</td>\n",
              "      <td>18.5</td>\n",
              "    </tr>\n",
              "    <tr>\n",
              "      <th>5</th>\n",
              "      <td>180.8</td>\n",
              "      <td>12.9</td>\n",
              "    </tr>\n",
              "  </tbody>\n",
              "</table>\n",
              "</div>"
            ],
            "text/plain": [
              "      TV  sales\n",
              "1  230.1   22.1\n",
              "2   44.5   10.4\n",
              "3   17.2    9.3\n",
              "4  151.5   18.5\n",
              "5  180.8   12.9"
            ]
          },
          "metadata": {
            "tags": []
          },
          "execution_count": 25
        }
      ]
    },
    {
      "cell_type": "markdown",
      "metadata": {
        "id": "tx1p0xS8xn96"
      },
      "source": [
        "## Simple Linear Regression: Model Representation\r\n",
        "\r\n",
        "In order to describe the model mathematically, we need to introduce a few notations:\r\n",
        "- The input feature `TV` is represented as variable $X$.\r\n",
        "- The output/response feature `sales` is represented as variable $Y$.\r\n",
        "- Each instance of data is represented as $(x_i, y_i)$, where $i$ is the row index, $x_i$ is the value corresponding to $X$, and $y_i$ is the value corresponding to $Y$. For example, $(x_1, y_1) = (230.1, 22.1)$.\r\n",
        "\r\n",
        "The **simple linear regression** model assumes that the relationship between $X$ and $Y$ is\r\n",
        "$$Y \\approx f(X) = \\beta_0 + \\beta_1 X.$$\r\n",
        "\r\n",
        "- $\\beta_0$ and $\\beta_1$ are called **model parameters**. For simple linear regression, the relationship is characterized as a straight line with slope $\\beta_1$ and y-intercept $\\beta_0$.\r\n"
      ]
    },
    {
      "cell_type": "code",
      "metadata": {
        "id": "7OG0xPdQxowG",
        "colab": {
          "base_uri": "https://localhost:8080/"
        },
        "outputId": "dc510f25-2fb8-43e3-a22c-7373610b87b0"
      },
      "source": [
        "# Train a linear regression model using sklearn\r\n",
        "from sklearn.linear_model import LinearRegression\r\n",
        "model_lr = LinearRegression()\r\n",
        "model_lr.fit(data[['TV']], data[['sales']])"
      ],
      "execution_count": 26,
      "outputs": [
        {
          "output_type": "execute_result",
          "data": {
            "text/plain": [
              "LinearRegression(copy_X=True, fit_intercept=True, n_jobs=None, normalize=False)"
            ]
          },
          "metadata": {
            "tags": []
          },
          "execution_count": 26
        }
      ]
    },
    {
      "cell_type": "code",
      "metadata": {
        "id": "p5ug-sihyEH2",
        "colab": {
          "base_uri": "https://localhost:8080/"
        },
        "outputId": "fccff623-ef35-47b3-e49f-e265ac08830f"
      },
      "source": [
        "# The coef_ and intercept_ attributes contain parameter values\r\n",
        "print(model_lr.coef_) # B1 in formula\r\n",
        "print(model_lr.intercept_) # B0 in formula"
      ],
      "execution_count": 71,
      "outputs": [
        {
          "output_type": "stream",
          "text": [
            "[[0.04753664]]\n",
            "[7.03259355]\n"
          ],
          "name": "stdout"
        }
      ]
    },
    {
      "cell_type": "code",
      "metadata": {
        "id": "EHs5H9mWU-sO"
      },
      "source": [
        "# The following expression brings out a helpful description of the object.\r\n",
        "# model_lr.coef_?"
      ],
      "execution_count": 28,
      "outputs": []
    },
    {
      "cell_type": "code",
      "metadata": {
        "id": "7TgQXsAnyHT5",
        "colab": {
          "base_uri": "https://localhost:8080/",
          "height": 282
        },
        "outputId": "7007eb00-887f-48fa-930e-b4606963bd56"
      },
      "source": [
        "# Plot the data points and the optimal regression line.\r\n",
        "m = model_lr.coef_[0, 0]   # slope\r\n",
        "b = model_lr.intercept_[0] # y-intercept\r\n",
        "\r\n",
        "plt.plot(data['TV'], data['sales'], 'b.')\r\n",
        "x_coordinates = np.array([0,300])\r\n",
        "y_coordinates = x_coordinates * m + b\r\n",
        "plt.plot(x_coordinates, y_coordinates, 'g-')"
      ],
      "execution_count": 29,
      "outputs": [
        {
          "output_type": "execute_result",
          "data": {
            "text/plain": [
              "[<matplotlib.lines.Line2D at 0x7f316b13edd0>]"
            ]
          },
          "metadata": {
            "tags": []
          },
          "execution_count": 29
        },
        {
          "output_type": "display_data",
          "data": {
            "image/png": "[encoded data removed]",
            "text/plain": [
              "<Figure size 432x288 with 1 Axes>"
            ]
          },
          "metadata": {
            "tags": [],
            "needs_background": "light"
          }
        }
      ]
    },
    {
      "cell_type": "markdown",
      "metadata": {
        "id": "PDvJFvT-yME3"
      },
      "source": [
        "## Train A Simple Linear Regression Model\r\n",
        "\r\n",
        "- For a given set of model parameters, we need a **cost function** (in some occasions also called **loss function**) that measures how well a given line fits the data.\r\n",
        "- We also need a **training algorithm** that finds values of parameters so that the line fits the data well (usually \"fitting the data well\" means \"minimizing the cost\").\r\n",
        "\r\n",
        "For linear regression:\r\n",
        "- Cost function: \r\n",
        "    - Mean squared error (MSE)\r\n",
        "    - Mean absolute error (MAE)\r\n",
        "    - Other variants\r\n",
        "- Training algorithm: \r\n",
        "    - Normal equation\r\n",
        "    - Gradient descent"
      ]
    },
    {
      "cell_type": "markdown",
      "metadata": {
        "id": "aWHfwa8xzCh1"
      },
      "source": [
        "## Simple Linear Regression: Cost Function\r\n",
        "A common choice of cost function is the **mean squared error (MSE) function**. It is defined as\r\n",
        "$$\\begin{align}\r\n",
        "MSE(\\beta_0, \\beta_1) =& \r\n",
        "\\frac{1}{N}\\sum_{i=1}^N (y_i - f(x_i))^2 \\\\\r\n",
        "=& \\frac{1}{N}\\sum_{i=1}^N\\big(y_i - \\beta_0 - \\beta_1x_i\\big)^2.\r\n",
        "\\end{align}$$"
      ]
    },
    {
      "cell_type": "markdown",
      "metadata": {
        "id": "GW1mYje6zIm6"
      },
      "source": [
        "To better understand the MSE function, let's calculate the value $MSE(7.03, 0.04)$."
      ]
    },
    {
      "cell_type": "code",
      "metadata": {
        "id": "mO4pOxm4zZ-g",
        "colab": {
          "base_uri": "https://localhost:8080/"
        },
        "outputId": "22e8f51f-9532-4169-fbb8-b87f0f177f66"
      },
      "source": [
        "# Example:\r\n",
        "# Calculate the squared error of the model on the first record.\r\n",
        "\r\n",
        "beta0 = 7.03\r\n",
        "beta1 = 0.04\r\n",
        "\r\n",
        "x1 = data.loc[1, 'TV'] # 230.1\r\n",
        "y1 = data.loc[1, 'sales'] #22.1\r\n",
        "print(\"x1, y1:\", x1, y1)\r\n",
        "\r\n",
        "# Calculate f(x1) = beta0 + beta1 * x1\r\n",
        "prediction1 = beta0 + beta1 * x1\r\n",
        "print(\"Prediction on Record 1:\", prediction1)\r\n",
        "\r\n",
        "# Calculate the squared error (y1 - f(x1)) ** 2\r\n",
        "error1 = (y1 - prediction1) ** 2\r\n",
        "print(\"Squared error on Record 1:\", error1)"
      ],
      "execution_count": 37,
      "outputs": [
        {
          "output_type": "stream",
          "text": [
            "x1, y1: 230.1 22.1\n",
            "Prediction on Record 1: 16.234\n",
            "Squared error on Record 1: 34.409955999999994\n"
          ],
          "name": "stdout"
        }
      ]
    },
    {
      "cell_type": "code",
      "metadata": {
        "id": "z1sV3w--0A6i",
        "colab": {
          "base_uri": "https://localhost:8080/"
        },
        "outputId": "d427060e-bc3d-4c88-c6f9-c09aa4b770f5"
      },
      "source": [
        "# Example:\r\n",
        "# Calculate the squared error of the model on an arbitrary record.\r\n",
        "\r\n",
        "beta0 = 7.03\r\n",
        "beta1 = 0.04\r\n",
        "\r\n",
        "i = 10  # index of the record\r\n",
        "xi = data.loc[i, 'TV']\r\n",
        "yi = data.loc[i, 'sales']\r\n",
        "print(\"xi, yi:\", xi, yi)\r\n",
        "\r\n",
        "# Calculate f(xi)\r\n",
        "predictioni = beta0 + beta1 * xi\r\n",
        "print(\"Prediction on Record\",i,\":\", predictioni)\r\n",
        "\r\n",
        "# Calculate the squared error (yi - f(xi)) ** 2\r\n",
        "errori = (yi - predictioni) ** 2\r\n",
        "print(\"Squared error on Record\",i,\":\", errori)"
      ],
      "execution_count": 38,
      "outputs": [
        {
          "output_type": "stream",
          "text": [
            "xi, yi: 199.8 10.6\n",
            "Prediction on Record 10 : 15.022000000000002\n",
            "Squared error on Record 10 : 19.55408400000002\n"
          ],
          "name": "stdout"
        }
      ]
    },
    {
      "cell_type": "code",
      "metadata": {
        "id": "zWD4Yuf20Vnn",
        "colab": {
          "base_uri": "https://localhost:8080/"
        },
        "outputId": "980d0705-016f-4051-e7ca-dba3d3b49f3d"
      },
      "source": [
        "# Write a function that produces the squared error given beta0, beta1, data, and i\r\n",
        "def get_squared_error(beta0, beta1, data, i):\r\n",
        "    x = data.loc[i, 'TV']\r\n",
        "    y = data.loc[i, 'sales']\r\n",
        "\r\n",
        "    # Calculate f(x1) = beta0 + beta1 * x1\r\n",
        "    prediction = beta0 + beta1 * x\r\n",
        "\r\n",
        "    # Calculate the squared error (yi - f(xi)) ** 2\r\n",
        "    error = (y - prediction) ** 2\r\n",
        "\r\n",
        "    return error\r\n",
        "\r\n",
        "beta0 = 7.03\r\n",
        "beta1 = 0.04\r\n",
        "i = 123\r\n",
        "get_squared_error(beta0, beta1, data, i)"
      ],
      "execution_count": 46,
      "outputs": [
        {
          "output_type": "execute_result",
          "data": {
            "text/plain": [
              "19.27210000000002"
            ]
          },
          "metadata": {
            "tags": []
          },
          "execution_count": 46
        }
      ]
    },
    {
      "cell_type": "code",
      "metadata": {
        "id": "DO0O9zPd0gto",
        "colab": {
          "base_uri": "https://localhost:8080/"
        },
        "outputId": "d1c440f5-d5e7-4e42-e8fd-55772af10f73"
      },
      "source": [
        "# Create a list that contains value of (y_1 - f(x_1))^2 for i=1,...,200.\r\n",
        "list_errors = []\r\n",
        "for ind in data.index:\r\n",
        "    # call function `get_sqaured_error` with ind\r\n",
        "    results = get_squared_error(beta0, beta1, data, ind)\r\n",
        "    # append squared error to `list_errors`\r\n",
        "    list_errors.append(results)\r\n",
        "    \r\n",
        "print(list_errors)\r\n",
        "print(len(list_errors))"
      ],
      "execution_count": 48,
      "outputs": [
        {
          "output_type": "stream",
          "text": [
            "[34.409955999999994, 2.5280999999999993, 2.5027240000000024, 29.2681, 1.8550440000000004, 0.031683999999999976, 6.100900000000003, 1.8550439999999955, 6.6254760000000035, 19.55408400000002, 1.1534759999999997, 3.1755240000000002, 1.4835239999999978, 1.512900000000001, 14.485636000000007, 57.06291599999998, 7.606563999999995, 37.38099600000001, 2.256004000000002, 2.815683999999997, 4.990755999999992, 16.208675999999997, 3.833764000000001, 0.4382440000000034, 0.031683999999999664, 30.758115999999994, 5.080515999999998, 0.538756, 3.678723999999997, 0.417316000000001, 7.043716, 0.1253160000000007, 1.7371240000000037, 0.06451600000000068, 1.8441640000000015, 34.31616400000001, 59.19763599999999, 21.92112399999999, 1.8117159999999954, 28.622499999999977, 2.160900000000007, 8.940100000000012, 3.709475999999994, 5.7888360000000025, 0.21715599999999935, 0.7499560000000025, 0.00032400000000002457, 43.21747599999998, 1.7371239999999943, 3.600000000000273e-05, 13.118884000000012, 0.11971600000000006, 47.80339600000002, 47.14195599999999, 7.086243999999994, 75.93379599999997, 3.319684, 0.5212839999999993, 69.52224400000001, 8.655364, 1.1449000000000007, 45.131524, 0.8136040000000019, 8.19104399999999, 32.78707599999999, 0.2401000000000002, 1.4640999999999977, 0.636804, 5.635875999999994, 43.53360399999999, 10.929636000000006, 0.9564839999999996, 0.4872040000000006, 1.4544359999999987, 2.056356000000003, 0.9880359999999978, 1.512900000000001, 5.52249999999999, 3.7869160000000024, 0.4488999999999999, 2.9377960000000014, 18.679683999999995, 1.5825640000000023, 14.699555999999998, 37.57689999999999, 0.19536400000000015, 3.678723999999997, 20.629763999999998, 5.466243999999996, 27.857283999999986, 1.4448040000000042, 0.7638759999999994, 13.410243999999993, 26.357956000000005, 0.03027599999999982, 11.142243999999982, 10.458756000000012, 1.153475999999996, 45.995524, 22.676644000000003, 17.859076000000023, 24.147396000000015, 11.819843999999993, 0.023715999999999973, 17.156163999999997, 44.275715999999996, 0.6889000000000016, 3.786916000000006, 5.080516000000002, 6.522915999999992, 7.086244000000004, 26.030404000000004, 0.0017639999999999845, 0.2361959999999989, 19.731363999999985, 6.584355999999994, 0.15840399999999974, 0.4705959999999999, 14.760964000000005, 1.454436000000001, 7.941123999999998, 0.6115240000000001, 19.27210000000002, 10.536515999999992, 12.180099999999989, 0.00672399999999983, 0.5505640000000013, 2.0678439999999965, 78.46416399999994, 0.08179599999999976, 29.789764, 24.383844000000025, 2.7755560000000012, 14.273284000000016, 5.262436000000002, 6.959044, 2.090915999999999, 7.963683999999995, 0.7224999999999994, 39.363075999999964, 0.8723559999999987, 19.554084000000007, 18.0625, 0.6625960000000001, 0.2724840000000002, 5.484964000000002, 11.792356000000007, 74.684164, 5.522499999999998, 1.6435239999999955, 4.65696399999999, 0.07290000000000073, 2.7755560000000012, 26.193923999999985, 1.1193639999999958, 15.952035999999998, 20.376195999999993, 8.538084000000014, 0.039204000000000155, 0.3624040000000004, 0.2209000000000006, 8.076964000000004, 0.11155599999999975, 19.624899999999997, 0.03312400000000014, 20.3401, 0.06451599999999978, 9.622404000000001, 2.114116000000002, 11.573604000000007, 0.396900000000001, 0.792100000000001, 0.04579600000000018, 4.2683560000000105, 19.589476000000015, 79.10323600000004, 10.458755999999989, 4.571044000000007, 39.664803999999975, 1.1109160000000005, 7.806436000000002, 12.744900000000001, 0.3340840000000014, 58.76755599999995, 0.17472399999999938, 54.31690000000002, 5.336099999999994, 6.895876000000007, 6.604899999999993, 1.1620840000000006, 4.796100000000005, 0.022500000000000107, 3.3051239999999984, 34.786404, 18.335524, 0.9177640000000004, 1.2056040000000017, 1.7160999999999966, 50.779875999999966, 8.491395999999998]\n",
            "200\n"
          ],
          "name": "stdout"
        }
      ]
    },
    {
      "cell_type": "code",
      "metadata": {
        "id": "z-CuWXTJ0ymr",
        "colab": {
          "base_uri": "https://localhost:8080/"
        },
        "outputId": "7b8284f7-891a-4c52-9d38-a92039771f67"
      },
      "source": [
        "# Create list_errors using list comprehension\r\n",
        "# Same thing as above, but compacted in one line\r\n",
        "list_errors = [get_squared_error(beta0, beta1, data, i) for i in data.index]\r\n",
        "print(list_errors)\r\n",
        "print(len(list_errors))"
      ],
      "execution_count": 50,
      "outputs": [
        {
          "output_type": "stream",
          "text": [
            "[34.409955999999994, 2.5280999999999993, 2.5027240000000024, 29.2681, 1.8550440000000004, 0.031683999999999976, 6.100900000000003, 1.8550439999999955, 6.6254760000000035, 19.55408400000002, 1.1534759999999997, 3.1755240000000002, 1.4835239999999978, 1.512900000000001, 14.485636000000007, 57.06291599999998, 7.606563999999995, 37.38099600000001, 2.256004000000002, 2.815683999999997, 4.990755999999992, 16.208675999999997, 3.833764000000001, 0.4382440000000034, 0.031683999999999664, 30.758115999999994, 5.080515999999998, 0.538756, 3.678723999999997, 0.417316000000001, 7.043716, 0.1253160000000007, 1.7371240000000037, 0.06451600000000068, 1.8441640000000015, 34.31616400000001, 59.19763599999999, 21.92112399999999, 1.8117159999999954, 28.622499999999977, 2.160900000000007, 8.940100000000012, 3.709475999999994, 5.7888360000000025, 0.21715599999999935, 0.7499560000000025, 0.00032400000000002457, 43.21747599999998, 1.7371239999999943, 3.600000000000273e-05, 13.118884000000012, 0.11971600000000006, 47.80339600000002, 47.14195599999999, 7.086243999999994, 75.93379599999997, 3.319684, 0.5212839999999993, 69.52224400000001, 8.655364, 1.1449000000000007, 45.131524, 0.8136040000000019, 8.19104399999999, 32.78707599999999, 0.2401000000000002, 1.4640999999999977, 0.636804, 5.635875999999994, 43.53360399999999, 10.929636000000006, 0.9564839999999996, 0.4872040000000006, 1.4544359999999987, 2.056356000000003, 0.9880359999999978, 1.512900000000001, 5.52249999999999, 3.7869160000000024, 0.4488999999999999, 2.9377960000000014, 18.679683999999995, 1.5825640000000023, 14.699555999999998, 37.57689999999999, 0.19536400000000015, 3.678723999999997, 20.629763999999998, 5.466243999999996, 27.857283999999986, 1.4448040000000042, 0.7638759999999994, 13.410243999999993, 26.357956000000005, 0.03027599999999982, 11.142243999999982, 10.458756000000012, 1.153475999999996, 45.995524, 22.676644000000003, 17.859076000000023, 24.147396000000015, 11.819843999999993, 0.023715999999999973, 17.156163999999997, 44.275715999999996, 0.6889000000000016, 3.786916000000006, 5.080516000000002, 6.522915999999992, 7.086244000000004, 26.030404000000004, 0.0017639999999999845, 0.2361959999999989, 19.731363999999985, 6.584355999999994, 0.15840399999999974, 0.4705959999999999, 14.760964000000005, 1.454436000000001, 7.941123999999998, 0.6115240000000001, 19.27210000000002, 10.536515999999992, 12.180099999999989, 0.00672399999999983, 0.5505640000000013, 2.0678439999999965, 78.46416399999994, 0.08179599999999976, 29.789764, 24.383844000000025, 2.7755560000000012, 14.273284000000016, 5.262436000000002, 6.959044, 2.090915999999999, 7.963683999999995, 0.7224999999999994, 39.363075999999964, 0.8723559999999987, 19.554084000000007, 18.0625, 0.6625960000000001, 0.2724840000000002, 5.484964000000002, 11.792356000000007, 74.684164, 5.522499999999998, 1.6435239999999955, 4.65696399999999, 0.07290000000000073, 2.7755560000000012, 26.193923999999985, 1.1193639999999958, 15.952035999999998, 20.376195999999993, 8.538084000000014, 0.039204000000000155, 0.3624040000000004, 0.2209000000000006, 8.076964000000004, 0.11155599999999975, 19.624899999999997, 0.03312400000000014, 20.3401, 0.06451599999999978, 9.622404000000001, 2.114116000000002, 11.573604000000007, 0.396900000000001, 0.792100000000001, 0.04579600000000018, 4.2683560000000105, 19.589476000000015, 79.10323600000004, 10.458755999999989, 4.571044000000007, 39.664803999999975, 1.1109160000000005, 7.806436000000002, 12.744900000000001, 0.3340840000000014, 58.76755599999995, 0.17472399999999938, 54.31690000000002, 5.336099999999994, 6.895876000000007, 6.604899999999993, 1.1620840000000006, 4.796100000000005, 0.022500000000000107, 3.3051239999999984, 34.786404, 18.335524, 0.9177640000000004, 1.2056040000000017, 1.7160999999999966, 50.779875999999966, 8.491395999999998]\n",
            "200\n"
          ],
          "name": "stdout"
        }
      ]
    },
    {
      "cell_type": "code",
      "metadata": {
        "id": "jIvs1hdq05Et",
        "colab": {
          "base_uri": "https://localhost:8080/"
        },
        "outputId": "649c2c67-b161-4fb3-847a-760febdd6f16"
      },
      "source": [
        "# Calculate the MSE\r\n",
        "MSE = np.mean(list_errors)\r\n",
        "print(\"MSE:\", MSE)"
      ],
      "execution_count": 52,
      "outputs": [
        {
          "output_type": "stream",
          "text": [
            "MSE: 12.163113119999998\n"
          ],
          "name": "stdout"
        }
      ]
    },
    {
      "cell_type": "code",
      "metadata": {
        "id": "fjnGTY_809MO"
      },
      "source": [
        "# Write a function MSE(beta0, beta1, data) that returns the value of MSE with given beta0 and beta1.\r\n",
        "def get_MSE(beta0, beta1, data):\r\n",
        "    \r\n",
        "    # create a list of squared errors\r\n",
        "    list_errors = [get_squared_error(beta0, beta1, data , i) for i in data.index]\r\n",
        "\r\n",
        "    # calculate their mean\r\n",
        "    MSE = np.mean(list_errors)\r\n",
        "\r\n",
        "    return MSE"
      ],
      "execution_count": 59,
      "outputs": []
    },
    {
      "cell_type": "markdown",
      "metadata": {
        "id": "SGWuXzWK1AAK"
      },
      "source": [
        "Now, use function `get_MSE` to obtain the MSE for the following two sets of parameter values\r\n",
        "- Case 1: $\\beta_0 = 7.03, \\beta_1 = 0.04$\r\n",
        "- Case 2: $\\beta_0 = 5, \\beta_1 = 1$\r\n",
        "\r\n",
        "Which one fits the data better?"
      ]
    },
    {
      "cell_type": "code",
      "metadata": {
        "id": "-cSOk1Dw1aYm",
        "colab": {
          "base_uri": "https://localhost:8080/"
        },
        "outputId": "979a2aaf-4f8e-4fdc-db34-04ee948f2181"
      },
      "source": [
        "print(get_MSE(7.03, 0.04, data))\r\n",
        "print(get_MSE(5, 1, data))"
      ],
      "execution_count": 62,
      "outputs": [
        {
          "output_type": "stream",
          "text": [
            "12.163113119999998\n",
            "25713.4248\n"
          ],
          "name": "stdout"
        }
      ]
    },
    {
      "cell_type": "markdown",
      "metadata": {
        "id": "C9nwZT2h1gWZ"
      },
      "source": [
        "Now that we have obtained the cost function, our next goal is to find the parameter values that minimizes the cost value."
      ]
    },
    {
      "cell_type": "markdown",
      "metadata": {
        "id": "CJakGFWK1vIq"
      },
      "source": [
        "# Simple Linear Regression: Training Algorithm\r\n",
        "To find the value of $\\beta_0, \\beta_1$ that minimizes the MSE cost function, there is a formula called the **normal equation** that gives the result directly:\r\n",
        "\r\n",
        "$$\\begin{pmatrix} \\beta_0 \\\\ \\beta_1 \\end{pmatrix} = (\\textbf{X}^T\\cdot\\textbf{X})^{-1}\\cdot\\textbf{X}^T\\cdot\\textbf{y}.$$\r\n",
        "\r\n",
        "- $\\textbf{X}$ is the matrix formed as \r\n",
        "$$\\textbf{X} = \\begin{pmatrix} \r\n",
        "1 & x_1 \\\\\r\n",
        "1 & x_2 \\\\\r\n",
        "\\vdots & \\vdots \\\\\r\n",
        "1 & x_N \\\\\r\n",
        "\\end{pmatrix}.$$\r\n",
        "- $\\textbf{X}^T$ represents the **matrix transpose** of $\\textbf{X}$.\r\n",
        "- $\\cdot$ represents **matrix multiplication**.\r\n",
        "- $^{-1}$ represents **matrix inverse**.\r\n",
        "- $\\textbf{y}$ is the vector of target values\r\n",
        "$$\\textbf{y} = \\begin{pmatrix} \r\n",
        "y_1 \\\\\r\n",
        "y_2 \\\\\r\n",
        "\\vdots \\\\\r\n",
        "y_N \\\\\r\n",
        "\\end{pmatrix}.$$"
      ]
    },
    {
      "cell_type": "markdown",
      "metadata": {
        "id": "M9LHCexK1wlQ"
      },
      "source": [
        "Let's apply the normal equation and find the best parameter values."
      ]
    },
    {
      "cell_type": "code",
      "metadata": {
        "colab": {
          "base_uri": "https://localhost:8080/"
        },
        "id": "CGDO7z-HmVin",
        "outputId": "4983f196-a4c5-403d-f5e2-98863efcdb7a"
      },
      "source": [
        "# Ex: Matrix Multiplication of\r\n",
        "# [[1, 2],\r\n",
        "#  [3, 4],\r\n",
        "#  [5, 6]]\r\n",
        "# and\r\n",
        "# [[11, 22],\r\n",
        "#  [33, 44]]\r\n",
        "\r\n",
        "print(\"Bottom right entry:\", 5 * 22 + 6 * 44)\r\n",
        "\r\n",
        "# Numpy has a function dot() to perform matrix multiplication\r\n",
        "A = np.array([[1, 2],\r\n",
        "              [3, 4],\r\n",
        "              [5, 6]])\r\n",
        "B = np.array([[11, 22],\r\n",
        "              [33, 44]])\r\n",
        "print(\"A * B:\\n\", A.dot(B))"
      ],
      "execution_count": 69,
      "outputs": [
        {
          "output_type": "stream",
          "text": [
            "Bottom right entry: 374\n",
            "A * B:\n",
            " [[ 77 110]\n",
            " [165 242]\n",
            " [253 374]]\n"
          ],
          "name": "stdout"
        }
      ]
    },
    {
      "cell_type": "code",
      "metadata": {
        "id": "AWJkxe-31_D1",
        "colab": {
          "base_uri": "https://localhost:8080/"
        },
        "outputId": "941a0315-56e7-4eba-b1b0-5203ff0b2e70"
      },
      "source": [
        "# Construct X and y as numpy arrays\r\n",
        "X = np.hstack([np.ones([len(data), 1]), data[['TV']].values])\r\n",
        "# print(X)\r\n",
        "y = data[['sales']].values\r\n",
        "# print(y)\r\n",
        "\r\n",
        "beta = np.linalg.inv(X.T.dot(X)).dot(X.T).dot(y)\r\n",
        "print(beta)"
      ],
      "execution_count": 70,
      "outputs": [
        {
          "output_type": "stream",
          "text": [
            "[[7.03259355]\n",
            " [0.04753664]]\n"
          ],
          "name": "stdout"
        }
      ]
    },
    {
      "cell_type": "code",
      "metadata": {
        "id": "qViLTn0d2B1f",
        "colab": {
          "base_uri": "https://localhost:8080/"
        },
        "outputId": "132955bb-37af-4098-c667-562df7bb14be"
      },
      "source": [
        "get_MSE(7.03, 0.047, data)"
      ],
      "execution_count": 67,
      "outputs": [
        {
          "output_type": "execute_result",
          "data": {
            "text/plain": [
              "10.52140766755"
            ]
          },
          "metadata": {
            "tags": []
          },
          "execution_count": 67
        }
      ]
    },
    {
      "cell_type": "code",
      "metadata": {
        "id": "Pt2Y5UAO2Ddq",
        "colab": {
          "base_uri": "https://localhost:8080/",
          "height": 282
        },
        "outputId": "5f8fc448-6883-417d-8f86-530dcc5aac67"
      },
      "source": [
        "# Plot the data points and the optimal regression line.\r\n",
        "plt.plot(data['TV'], data['sales'], 'b.')\r\n",
        "x_coordinates = np.array([0,300])\r\n",
        "y_coordinates = x_coordinates * 0.047 + 7.03\r\n",
        "plt.plot(x_coordinates, y_coordinates, 'g-')"
      ],
      "execution_count": 65,
      "outputs": [
        {
          "output_type": "execute_result",
          "data": {
            "text/plain": [
              "[<matplotlib.lines.Line2D at 0x7f3166904890>]"
            ]
          },
          "metadata": {
            "tags": []
          },
          "execution_count": 65
        },
        {
          "output_type": "display_data",
          "data": {
            "image/png": "[encoded data removed]",
            "text/plain": [
              "<Figure size 432x288 with 1 Axes>"
            ]
          },
          "metadata": {
            "tags": [],
            "needs_background": "light"
          }
        }
      ]
    }
  ]
}
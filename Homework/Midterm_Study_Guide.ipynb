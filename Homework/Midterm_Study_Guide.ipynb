{
  "nbformat": 4,
  "nbformat_minor": 0,
  "metadata": {
    "colab": {
      "name": "Midterm Study Guide.ipynb",
      "provenance": [],
      "collapsed_sections": []
    },
    "kernelspec": {
      "name": "python3",
      "display_name": "Python 3"
    },
    "language_info": {
      "name": "python"
    }
  },
  "cells": [
    {
      "cell_type": "markdown",
      "metadata": {
        "id": "mYq6Qbo0YrWH"
      },
      "source": [
        "Test Prep: \n",
        "\n",
        "1) Understand basic things such as creating a data set and creating a machine learning model to analyze the relationship between the variables and the data set. \n",
        "\n",
        "2) Load Data Set from CSV File as a dataframe\n",
        "\n",
        "3) How many rows, columns?\n",
        "\n",
        "4) Names of columns.\n",
        "\n",
        "5) Create a histogram or scatterplot based on a particular column. \n",
        "\n",
        "6) How to apply the machine learning models .. build a classifier to see whether each record is a positive or negative class..  apply k nearest neighbor model to this dataset and see the model's prediction on a particular task  OR build a regression model to predict the sales, the income.."
      ]
    },
    {
      "cell_type": "code",
      "metadata": {
        "colab": {
          "base_uri": "https://localhost:8080/",
          "height": 142
        },
        "id": "fvyy-HZAmzcN",
        "outputId": "43d893c2-7d71-41b4-eeaa-b119273b5f27"
      },
      "source": [
        "# 1) Creating a data set and a machine learning model to analyze \n",
        "# the relationship between the variables and the data set.\n",
        "\n",
        "# Example: A data frame with missing values\n",
        "temp = pd.DataFrame({\n",
        "    \"Midterm\": [100, 90, 80],\n",
        "    \"Final\": [80, 90, 100],\n",
        "    \"Grade\": ['A', np.nan, 'A']\n",
        "})\n",
        "temp"
      ],
      "execution_count": null,
      "outputs": [
        {
          "output_type": "execute_result",
          "data": {
            "text/html": [
              "<div>\n",
              "<style scoped>\n",
              "    .dataframe tbody tr th:only-of-type {\n",
              "        vertical-align: middle;\n",
              "    }\n",
              "\n",
              "    .dataframe tbody tr th {\n",
              "        vertical-align: top;\n",
              "    }\n",
              "\n",
              "    .dataframe thead th {\n",
              "        text-align: right;\n",
              "    }\n",
              "</style>\n",
              "<table border=\"1\" class=\"dataframe\">\n",
              "  <thead>\n",
              "    <tr style=\"text-align: right;\">\n",
              "      <th></th>\n",
              "      <th>Midterm</th>\n",
              "      <th>Final</th>\n",
              "      <th>Grade</th>\n",
              "    </tr>\n",
              "  </thead>\n",
              "  <tbody>\n",
              "    <tr>\n",
              "      <th>0</th>\n",
              "      <td>100</td>\n",
              "      <td>80</td>\n",
              "      <td>A</td>\n",
              "    </tr>\n",
              "    <tr>\n",
              "      <th>1</th>\n",
              "      <td>90</td>\n",
              "      <td>90</td>\n",
              "      <td>NaN</td>\n",
              "    </tr>\n",
              "    <tr>\n",
              "      <th>2</th>\n",
              "      <td>80</td>\n",
              "      <td>100</td>\n",
              "      <td>A</td>\n",
              "    </tr>\n",
              "  </tbody>\n",
              "</table>\n",
              "</div>"
            ],
            "text/plain": [
              "   Midterm  Final Grade\n",
              "0      100     80     A\n",
              "1       90     90   NaN\n",
              "2       80    100     A"
            ]
          },
          "metadata": {
            "tags": []
          },
          "execution_count": 19
        }
      ]
    },
    {
      "cell_type": "code",
      "metadata": {
        "id": "WRaYisT4X7xs"
      },
      "source": [
        "# Importing the libraries\n",
        "import numpy as np\n",
        "import pandas as pd\n",
        "import matplotlib.pyplot as plt\n",
        "%matplotlib inline"
      ],
      "execution_count": null,
      "outputs": []
    },
    {
      "cell_type": "code",
      "metadata": {
        "id": "nX5CJQz_Zkmx",
        "colab": {
          "base_uri": "https://localhost:8080/"
        },
        "outputId": "77db1e1d-97f3-49f7-abe8-8a45a4efcc22"
      },
      "source": [
        "# 2) Load Data Set from CSV File as a dataframe\n",
        "# If the file is uploaded to Google temp folder\n",
        "# data = pd.read_csv(\"file-name.csv\", sep=',')\n",
        "\n",
        "# If the file is fetched from an url\n",
        "url = \"https://raw.githubusercontent.com/cchanyu/MachineLearning/main/SheetData/average-height-of-men-for-selected-countries.csv\"\n",
        "raw_data = pd.read_csv(url)\n",
        "\n",
        "# Display the data\n",
        "print(raw_data.head())"
      ],
      "execution_count": null,
      "outputs": [
        {
          "output_type": "stream",
          "text": [
            "        Entity Code  Year  Human Height (University of Tuebingen (2015))\n",
            "0  Afghanistan  AFG  1870                                          168.4\n",
            "1  Afghanistan  AFG  1880                                          165.7\n",
            "2  Afghanistan  AFG  1930                                          166.8\n",
            "3      Albania  ALB  1880                                          170.1\n",
            "4      Albania  ALB  1890                                          169.8\n"
          ],
          "name": "stdout"
        }
      ]
    },
    {
      "cell_type": "code",
      "metadata": {
        "id": "URF-SjwebNOX",
        "colab": {
          "base_uri": "https://localhost:8080/"
        },
        "outputId": "1fa32a25-dd82-493b-b898-ed9e0615291a"
      },
      "source": [
        "# 3) How many rows, columns?\n",
        "# Show Mean STD Min Max etc\n",
        "print(raw_data.describe())\n",
        "\n",
        "# Show the size of the data set\n",
        "print(raw_data.shape)"
      ],
      "execution_count": null,
      "outputs": [
        {
          "output_type": "stream",
          "text": [
            "             Year  Human Height (University of Tuebingen (2015))\n",
            "count  1250.00000                                    1250.000000\n",
            "mean   1909.86400                                     167.647280\n",
            "std      47.05989                                       4.638687\n",
            "min    1810.00000                                     152.400000\n",
            "25%    1872.50000                                     164.600000\n",
            "50%    1910.00000                                     167.500000\n",
            "75%    1950.00000                                     170.500000\n",
            "max    1980.00000                                     183.200000\n",
            "(1250, 4)\n"
          ],
          "name": "stdout"
        }
      ]
    },
    {
      "cell_type": "code",
      "metadata": {
        "colab": {
          "base_uri": "https://localhost:8080/"
        },
        "id": "eDeyZY1anUVX",
        "outputId": "738f7a08-4d59-44fb-be8a-394b39d02627"
      },
      "source": [
        "# 4) Names of columns.\n",
        "# Show the data type of each column\n",
        "print(raw_data.dtypes)\n",
        "\n",
        "# Is there any missing values?\n",
        "raw_data.isnull().sum()"
      ],
      "execution_count": null,
      "outputs": [
        {
          "output_type": "stream",
          "text": [
            "Entity                                            object\n",
            "Code                                              object\n",
            "Year                                               int64\n",
            "Human Height (University of Tuebingen (2015))    float64\n",
            "dtype: object\n"
          ],
          "name": "stdout"
        },
        {
          "output_type": "execute_result",
          "data": {
            "text/plain": [
              "Entity                                           0\n",
              "Code                                             0\n",
              "Year                                             0\n",
              "Human Height (University of Tuebingen (2015))    0\n",
              "dtype: int64"
            ]
          },
          "metadata": {
            "tags": []
          },
          "execution_count": 17
        }
      ]
    },
    {
      "cell_type": "code",
      "metadata": {
        "colab": {
          "base_uri": "https://localhost:8080/",
          "height": 469
        },
        "id": "8zE7LIdFnqp1",
        "outputId": "b3b16982-dedf-4146-f7fe-ab7fdf090bde"
      },
      "source": [
        "# 5) Create a histogram or scatterplot based on a particular column.\n",
        "# Filtering the dataset\n",
        "filter = (raw_data[\"Entity\"] == \"United Kingdom\") & (raw_data['Year'] >= 1900)\n",
        "data = raw_data[filter]\n",
        "\n",
        "# Cleaning the dataset\n",
        "data = data.set_index([\"Year\"]) # Setting year tab as index tab\n",
        "data.drop(['Entity', 'Code'], axis=1, inplace=True) # Deleting Entity and Code tab\n",
        "data = data.rename(columns={'Human Height (University of Tuebingen (2015))': \"Height(cm)\"}) # Renaming Heights tab\n",
        "\n",
        "# Displaying the dataset\n",
        "print(data.head(10))\n",
        "heights = data['Height(cm)']\n",
        "years = data.index\n",
        "plt.plot(years, heights, 'g.')"
      ],
      "execution_count": null,
      "outputs": [
        {
          "output_type": "stream",
          "text": [
            "      Height(cm)\n",
            "Year            \n",
            "1900       169.4\n",
            "1910       170.9\n",
            "1920       171.0\n",
            "1930       173.9\n",
            "1940       174.9\n",
            "1950       176.0\n",
            "1960       176.9\n",
            "1970       177.1\n",
            "1980       176.8\n"
          ],
          "name": "stdout"
        },
        {
          "output_type": "execute_result",
          "data": {
            "text/plain": [
              "[<matplotlib.lines.Line2D at 0x7f30f4c47b10>]"
            ]
          },
          "metadata": {
            "tags": []
          },
          "execution_count": 12
        },
        {
          "output_type": "display_data",
          "data": {
            "image/png": "[encoded data removed]",
            "text/plain": [
              "<Figure size 432x288 with 1 Axes>"
            ]
          },
          "metadata": {
            "tags": [],
            "needs_background": "light"
          }
        }
      ]
    },
    {
      "cell_type": "code",
      "metadata": {
        "id": "2ia21ndMnuZS"
      },
      "source": [
        "# 6) How to apply the machine learning models .. \n",
        "\n",
        "# Train a linear regression model using sklearn\n",
        "from sklearn.linear_model import LinearRegression\n",
        "model_lr = LinearRegression()\n",
        "model_lr.fit(data[['TV']], data[['sales']])\n",
        "\n",
        "# Build the logistic regression model\n",
        "from sklearn.linear_model import LogisticRegression\n",
        "model = LogisticRegression(solver='lbfgs')\n",
        "model.fit(df_train.iloc[:, :4], df_train['Is_Virginica'])\n",
        "\n",
        "# build a classifier to see whether each record is a positive or negative class.. \n",
        "# confusion matrix (TN, FP, FN, TP) (week7 logistic regression)\n",
        "# array([[x1, x2],\n",
        "#       [x3, x4]])\n",
        "# x1 = True Negative (accurate), x2 = False Positive (Type I Error)\n",
        "# x3 = False Negative (Type II Error), x4 = True Positive (accurate)\n",
        "from sklearn.metrics import confusion_matrix\n",
        "\n",
        "confusion_matrix(df_test['Is_Virginica'], test_predictions)\n",
        "\n",
        "# apply k nearest neighbor model to this dataset and see the model's prediction \n",
        "# kNN model (week3 classification)\n",
        "from sklearn.neighbors import KNeighborsClassifier\n",
        "training_data, test_data = train_test_split(raw_data, test_size=0.2)\n",
        "model_3nn = KNeighborsClassifier(n_neighbors=3)\n",
        "model_3nn.fit(training_data[input_cols], training_data['y'])\n",
        "\n",
        "test_data['prediction'] = model_3nn.predict(test_data[input_cols])\n",
        "test_data.head()\n",
        "\n",
        "accuracy_score(test_data['y'], test_data['prediction'])\n",
        "\n",
        "# on a particular task OR build a regression model to predict the sales, the income..\n"
      ],
      "execution_count": null,
      "outputs": []
    }
  ]
}
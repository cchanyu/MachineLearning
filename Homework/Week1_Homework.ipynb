{
  "nbformat": 4,
  "nbformat_minor": 0,
  "metadata": {
    "colab": {
      "name": "Week1_Homework.ipynb",
      "provenance": [],
      "collapsed_sections": []
    },
    "kernelspec": {
      "name": "python3",
      "display_name": "Python 3"
    }
  },
  "cells": [
    {
      "cell_type": "markdown",
      "metadata": {
        "id": "C7TD7LuECsLw"
      },
      "source": [
        "**Week 1 Homework - Find the average height of the men**\r\n",
        "\r\n",
        "Name: Chanyu Choung\r\n",
        "\r\n",
        "Class: CMP414\r\n",
        "\r\n",
        "Homework due date: Feb 8th, 2021 (Monday)\r\n",
        "\r\n",
        "Years = [1900, 1910, 1920, 1930, 1940, 1950, 1960, 1970, 1980]\r\n",
        "\r\n",
        "Heights = [170, 172.1, 173.1, 173.4, 176.1, 177.1, 177.3, 178.3, 179]"
      ]
    },
    {
      "cell_type": "code",
      "metadata": {
        "id": "wM4gjwMuB2bi",
        "colab": {
          "base_uri": "https://localhost:8080/",
          "height": 0
        },
        "outputId": "108f1bbc-7852-4496-c140-45642fc61f7a"
      },
      "source": [
        "Years = [1900, 1910, 1920, 1930, 1940, 1950, 1960, 1970, 1980]\r\n",
        "Heights = [170, 172.1, 173.1, 173.4, 176.1, 177.1, 177.3, 178.3, 179]\r\n",
        "Average = []\r\n",
        "\r\n",
        "# 1900 - 1910 : Given formula calculation\r\n",
        "calc1 = (Heights[1]-Heights[0])\r\n",
        "calc2 = (calc1 / Heights[0]) * 100\r\n",
        "print(\"%.3f\" % calc2 + \"%\")\r\n",
        "\r\n",
        "print(\"-------------------------\")\r\n",
        "\r\n",
        "# Looping through the list\r\n",
        "b = len(Years) - 1\r\n",
        "for i, v in enumerate(Years):\r\n",
        "  if i < b:\r\n",
        "    calc1 = (Heights[i+1] - Heights[i])\r\n",
        "    calc2 = (calc1 / Heights[i]) * 100\r\n",
        "    print(\"Years:\", Years[i], \"-\", Years[i+1])\r\n",
        "    print(\"Growth Average: \" + \"%.3f\" % calc2 + \"%\")\r\n",
        "    print(\"\")\r\n",
        "    Average.append(calc2)\r\n",
        "\r\n",
        "maxi = max(Average)\r\n",
        "pos = Average.index(maxi)\r\n",
        "print(\"The largest growth:\", \"%.3f\" % maxi + \"%\")\r\n",
        "print(\"During the years:\", Years[pos], \"-\", Years[pos+1])"
      ],
      "execution_count": 100,
      "outputs": [
        {
          "output_type": "stream",
          "text": [
            "1.235%\n",
            "-------------------------\n",
            "Years: 1900 - 1910\n",
            "Growth Average: 1.235%\n",
            "\n",
            "Years: 1910 - 1920\n",
            "Growth Average: 0.581%\n",
            "\n",
            "Years: 1920 - 1930\n",
            "Growth Average: 0.173%\n",
            "\n",
            "Years: 1930 - 1940\n",
            "Growth Average: 1.557%\n",
            "\n",
            "Years: 1940 - 1950\n",
            "Growth Average: 0.568%\n",
            "\n",
            "Years: 1950 - 1960\n",
            "Growth Average: 0.113%\n",
            "\n",
            "Years: 1960 - 1970\n",
            "Growth Average: 0.564%\n",
            "\n",
            "Years: 1970 - 1980\n",
            "Growth Average: 0.393%\n",
            "\n",
            "The largest growth: 1.557%\n",
            "During the years: 1930 - 1940\n"
          ],
          "name": "stdout"
        }
      ]
    }
  ]
}
{
  "nbformat": 4,
  "nbformat_minor": 0,
  "metadata": {
    "colab": {
      "name": "Chanyu MidtermProject Part II",
      "provenance": [],
      "collapsed_sections": []
    },
    "kernelspec": {
      "name": "python3",
      "display_name": "Python 3"
    }
  },
  "cells": [
    {
      "cell_type": "markdown",
      "metadata": {
        "id": "laRpm7hK8pSi"
      },
      "source": [
        "Name: Chanyu Choung\n",
        "\n",
        "Class: CMP414\n",
        "\n",
        "Homework due date: Mar 22nd, 2021 (Monday)\n",
        "\n",
        "# Artificial Intelligence Midterm Project\n",
        "\n",
        "In this project, you will build a regression model and a classification model from scratch. Please follow the instructions closely, and only use Python's Numpy, Pandas, and matplotlib library to complete this project. Using functions from `sklearn` is not allowed.\n",
        "\n",
        "**Part I** dues on Monday, March 22nd at 11:59 PM.\n",
        "**Part II** dues on Monday, April 12th at 11:59 PM."
      ]
    },
    {
      "cell_type": "code",
      "metadata": {
        "id": "bo6dHwyJyEik"
      },
      "source": [
        "import numpy as np\n",
        "import pandas as pd\n",
        "import matplotlib.pyplot as plt\n",
        "%matplotlib inline"
      ],
      "execution_count": null,
      "outputs": []
    },
    {
      "cell_type": "markdown",
      "metadata": {
        "id": "TESGJJp2AVoN"
      },
      "source": [
        "## Part II: A Classification Model\n",
        "\n",
        "In this part, we will build a logistic regression model and evaluate its performance on the classifying the data. The dataset is as follows:\n"
      ]
    },
    {
      "cell_type": "code",
      "metadata": {
        "colab": {
          "base_uri": "https://localhost:8080/"
        },
        "id": "an34K0ecAVql",
        "outputId": "986c441d-d33f-4d13-96de-b3d8cfb35f8d"
      },
      "source": [
        "# Given data frame\n",
        "data2 = pd.DataFrame([[5.0, 2.0, 1],\n",
        "                      [6.2, 3.4, 1],\n",
        "                      [4.9, 3.6, 0],\n",
        "                      [6.2, 2.2, 1],\n",
        "                      [5.7, 3.0, 1],\n",
        "                      [4.8, 3.4, 0],\n",
        "                      [5.0, 3.4, 0]],\n",
        "                     columns=[\"x1\", \"x2\", \"class\"])\n",
        "print(data2.head())"
      ],
      "execution_count": null,
      "outputs": [
        {
          "output_type": "stream",
          "text": [
            "    x1   x2  class\n",
            "0  5.0  2.0      1\n",
            "1  6.2  3.4      1\n",
            "2  4.9  3.6      0\n",
            "3  6.2  2.2      1\n",
            "4  5.7  3.0      1\n"
          ],
          "name": "stdout"
        }
      ]
    },
    {
      "cell_type": "markdown",
      "metadata": {
        "id": "xSoBjGdmAVvj"
      },
      "source": [
        "### Task 1: Data Visualization (10 pts)\n",
        "Visualize the data as a scatter plot. Show class 0 records as green dots and class 1 records as blue dots. Display the following items:\n",
        "- Title of the plot: Distribution of the training data\n",
        "- Label for x axis: x1\n",
        "- Label for y axis: x2\n",
        "- Legend"
      ]
    },
    {
      "cell_type": "code",
      "metadata": {
        "id": "tJ3yYz2TEFtU",
        "colab": {
          "base_uri": "https://localhost:8080/",
          "height": 295
        },
        "outputId": "d65023d9-a39f-4ab5-8d87-d9bd2afb1b7d"
      },
      "source": [
        "# Data Visualization\n",
        "green_dots = data2[data2['class'] == 0]\n",
        "blue_dots = data2[data2['class'] == 1]\n",
        "plt.plot(green_dots['x1'], green_dots['x2'], 'g.', label='y = 0')\n",
        "plt.plot(blue_dots['x1'], blue_dots['x2'], 'b.', label='y = 1')\n",
        "plt.title(\"Distribution of the training data\")\n",
        "plt.xlabel(\"x1\")\n",
        "plt.ylabel(\"x2\")\n",
        "plt.legend(loc='lower left')\n",
        "plt.show()"
      ],
      "execution_count": null,
      "outputs": [
        {
          "output_type": "display_data",
          "data": {
            "image/png": "[encoded data removed]",
            "text/plain": [
              "<Figure size 432x288 with 1 Axes>"
            ]
          },
          "metadata": {
            "tags": [],
            "needs_background": "light"
          }
        }
      ]
    },
    {
      "cell_type": "markdown",
      "metadata": {
        "id": "ci_icuTREOxj"
      },
      "source": [
        "### Task 2: Apply A Logistic Regression Model (10 pts)\n",
        "\n",
        "Suppose that you are given a logistic regression model with explicity paramter values:\n",
        "\n",
        "$p = \\sigma(\\textbf{x}\\cdot\\theta^T).$\n",
        "\n",
        "where\n",
        "- p: the probability that the point belongs to class 1.\n",
        "- $\\textbf{x} = (1, x_1, x_2)$.\n",
        "- $\\theta = (\\theta_0, \\theta_1, \\theta_2) = (-2.15, 0.92, -0.82)$.\n",
        "- $\\sigma(t) = \\frac{1}{1+e^{-t}}$\n",
        "\n",
        "Find the model's prediction on the following test set:"
      ]
    },
    {
      "cell_type": "code",
      "metadata": {
        "colab": {
          "base_uri": "https://localhost:8080/"
        },
        "id": "7gOdAR4pGWOW",
        "outputId": "9250cb9a-35d7-422c-87a2-718548a2d352"
      },
      "source": [
        "# Given data frame\n",
        "data3 = pd.DataFrame([[5.1, 3.4, 0],\n",
        "                      [6.5, 2.8, 1],\n",
        "                      [5.8, 2.7, 1],\n",
        "                      [4.6, 3.1, 0]],\n",
        "                     columns=[\"x1\", \"x2\", \"class\"])\n",
        "print(data3.head())"
      ],
      "execution_count": null,
      "outputs": [
        {
          "output_type": "stream",
          "text": [
            "    x1   x2  class\n",
            "0  5.1  3.4      0\n",
            "1  6.5  2.8      1\n",
            "2  5.8  2.7      1\n",
            "3  4.6  3.1      0\n"
          ],
          "name": "stdout"
        }
      ]
    },
    {
      "cell_type": "code",
      "metadata": {
        "colab": {
          "base_uri": "https://localhost:8080/"
        },
        "id": "lR6hBIwzsoCB",
        "outputId": "6d029461-2d5b-4925-88d1-624c646d941f"
      },
      "source": [
        "# Model Prediction\n",
        "X = np.c_[np.ones((4, 1)), data3[['x1','x2']]]\n",
        "theta = np.array([-2.15, 0.92, -0.82])\n",
        "\n",
        "def sigmoid(n):\n",
        "  return 1 / (1 + np.exp(-n))\n",
        "\n",
        "p = sigmoid(np.dot(X, theta.T))\n",
        "print(\"p:\", p)\n",
        "\n",
        "# Round Decision Rule\n",
        "predictions = []\n",
        "for i in range(len(p)):\n",
        "    if p[i] < 0.5:\n",
        "        val = 0\n",
        "    else:\n",
        "        val = 1\n",
        "    predictions.append(val)\n",
        "print(\"prediction:\", predictions)"
      ],
      "execution_count": null,
      "outputs": [
        {
          "output_type": "stream",
          "text": [
            "p: [0.43880828 0.82259081 0.72551796 0.38698582]\n",
            "prediction: [0, 1, 1, 0]\n"
          ],
          "name": "stdout"
        }
      ]
    },
    {
      "cell_type": "markdown",
      "metadata": {
        "id": "HW5kVRygGo1j"
      },
      "source": [
        "### Task 3: Model Evaluation (40 pts)\n",
        "Calculate the following model metrics regarding the performance on the test set:\n",
        "- classification accuracy\n",
        "- precision score\n",
        "- recall score\n",
        "- F-1 score"
      ]
    },
    {
      "cell_type": "code",
      "metadata": {
        "colab": {
          "base_uri": "https://localhost:8080/"
        },
        "id": "p1vMyZJ6j6rC",
        "outputId": "7f1a923f-d78d-47ea-b4d1-a2d7c9a49b56"
      },
      "source": [
        "# Classification Accuracy\n",
        "array1 = np.array(data3['class'])\n",
        "array2 = np.array(predictions)\n",
        "\n",
        "count = 0\n",
        "for i in range(len(array1)):\n",
        "    actual = array1[i]\n",
        "    pred = array2[i]\n",
        "    if actual == pred:\n",
        "        count = count + 1\n",
        "accuracy = count / len(array1)\n",
        "print(\"accuracy\", accuracy)"
      ],
      "execution_count": null,
      "outputs": [
        {
          "output_type": "stream",
          "text": [
            "accuracy 1.0\n"
          ],
          "name": "stdout"
        }
      ]
    },
    {
      "cell_type": "code",
      "metadata": {
        "colab": {
          "base_uri": "https://localhost:8080/"
        },
        "id": "EH8pUABFKZO7",
        "outputId": "72f05e34-908d-4ee5-836d-9c5544af1f4e"
      },
      "source": [
        "# True Posiive, False Positive, False Negative\n",
        "true_pos, false_pos, false_neg = 0, 0, 0\n",
        "def score(atype, x, y):\n",
        "    for i in range(len(array1)):\n",
        "        label = array1[i]\n",
        "        pred = array2[i]\n",
        "        if label == x and pred == y :\n",
        "            atype = atype + 1\n",
        "    return atype\n",
        "true_pos = score(true_pos, 1, 1)\n",
        "false_pos = score(false_pos, 0, 1)\n",
        "false_neg = score(false_neg, 1, 0)\n",
        "print(\"true pos:\", true_pos)\n",
        "print(\"false pos:\", false_pos)\n",
        "print(\"false neg:\", false_neg)"
      ],
      "execution_count": null,
      "outputs": [
        {
          "output_type": "stream",
          "text": [
            "true pos: 2\n",
            "false pos: 0\n",
            "false neg: 0\n"
          ],
          "name": "stdout"
        }
      ]
    },
    {
      "cell_type": "code",
      "metadata": {
        "colab": {
          "base_uri": "https://localhost:8080/"
        },
        "id": "RLBWxWaIGlrT",
        "outputId": "601badfc-85f9-43cb-f9d3-0c0d279299d9"
      },
      "source": [
        "# Precision Score\n",
        "precision = true_pos / (true_pos + false_pos)\n",
        "print(\"precision:\", precision)"
      ],
      "execution_count": null,
      "outputs": [
        {
          "output_type": "stream",
          "text": [
            "precision: 1.0\n"
          ],
          "name": "stdout"
        }
      ]
    },
    {
      "cell_type": "code",
      "metadata": {
        "colab": {
          "base_uri": "https://localhost:8080/"
        },
        "id": "2CBmQzzuHVUn",
        "outputId": "1d779133-5318-41ff-d20a-67c92e187841"
      },
      "source": [
        "# Recall Score\n",
        "recall = true_pos / (true_pos + false_neg)\n",
        "print(\"recall:\", recall)"
      ],
      "execution_count": null,
      "outputs": [
        {
          "output_type": "stream",
          "text": [
            "recall: 1.0\n"
          ],
          "name": "stdout"
        }
      ]
    },
    {
      "cell_type": "code",
      "metadata": {
        "colab": {
          "base_uri": "https://localhost:8080/"
        },
        "id": "v7CfxlHKLFTI",
        "outputId": "b011c718-a6ef-4e18-bdff-73cf515aad76"
      },
      "source": [
        "# F-1 Score\n",
        "f1 = 2 * (precision * recall) / (precision + recall)\n",
        "print(\"f1:\", f1)"
      ],
      "execution_count": null,
      "outputs": [
        {
          "output_type": "stream",
          "text": [
            "f1: 1.0\n"
          ],
          "name": "stdout"
        }
      ]
    }
  ]
}
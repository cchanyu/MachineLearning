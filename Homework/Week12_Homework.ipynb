{
  "nbformat": 4,
  "nbformat_minor": 0,
  "metadata": {
    "colab": {
      "name": "Week12_Homework",
      "provenance": [],
      "collapsed_sections": []
    },
    "kernelspec": {
      "name": "python3",
      "display_name": "Python 3"
    },
    "language_info": {
      "name": "python"
    }
  },
  "cells": [
    {
      "cell_type": "markdown",
      "metadata": {
        "id": "wWOqbZO9V36N"
      },
      "source": [
        "Name: Chanyu Choung\n",
        "\n",
        "Class: CMP414\n",
        "\n",
        "Homework due date: May 10th, 2021 (Monday)\n",
        "\n",
        "# Homework: FashionMNIST\n",
        "\n",
        "For this homework assignment, you are asked to build a neural network classifier on the FasionMNIST dataset. The FashionMNIST dataset has a lot in common with the MNIST dataset:\n",
        "- The dataset contains 70,000 grayscale images, split into training set (60,000 images) and test set (10,000 images).\n",
        "- The resolution of images is 28 by 28 pixels.\n",
        "- There are a total of 10 target labels.\n",
        "\n",
        "<img src=\"https://tensorflow.org/images/fashion-mnist-sprite.png\" width=\"600\">"
      ]
    },
    {
      "cell_type": "code",
      "metadata": {
        "id": "ryKQmAcpV7Yh",
        "colab": {
          "base_uri": "https://localhost:8080/"
        },
        "outputId": "41b91fd1-1981-45bd-9f62-3b97e67aff74"
      },
      "source": [
        "import numpy as np\n",
        "import tensorflow as tf\n",
        "import tensorflow.keras as K\n",
        "import matplotlib.pyplot as plt\n",
        "from sklearn.metrics import confusion_matrix\n",
        "print(\"Version: \", tf.__version__)"
      ],
      "execution_count": null,
      "outputs": [
        {
          "output_type": "stream",
          "text": [
            "Version:  2.4.1\n"
          ],
          "name": "stdout"
        }
      ]
    },
    {
      "cell_type": "code",
      "metadata": {
        "id": "z2YkOEyRV7ax",
        "colab": {
          "base_uri": "https://localhost:8080/"
        },
        "outputId": "f733fa21-f017-40a2-b29b-fb6d2933e140"
      },
      "source": [
        "# Import the dataset\n",
        "fashion_mnist = K.datasets.fashion_mnist\n",
        "\n",
        "(train_images, train_labels), (test_images, test_labels) = fashion_mnist.load_data()"
      ],
      "execution_count": null,
      "outputs": [
        {
          "output_type": "stream",
          "text": [
            "Downloading data from https://storage.googleapis.com/tensorflow/tf-keras-datasets/train-labels-idx1-ubyte.gz\n",
            "32768/29515 [=================================] - 0s 0us/step\n",
            "Downloading data from https://storage.googleapis.com/tensorflow/tf-keras-datasets/train-images-idx3-ubyte.gz\n",
            "26427392/26421880 [==============================] - 0s 0us/step\n",
            "Downloading data from https://storage.googleapis.com/tensorflow/tf-keras-datasets/t10k-labels-idx1-ubyte.gz\n",
            "8192/5148 [===============================================] - 0s 0us/step\n",
            "Downloading data from https://storage.googleapis.com/tensorflow/tf-keras-datasets/t10k-images-idx3-ubyte.gz\n",
            "4423680/4422102 [==============================] - 0s 0us/step\n"
          ],
          "name": "stdout"
        }
      ]
    },
    {
      "cell_type": "code",
      "metadata": {
        "id": "CSm_u-O6V7dh"
      },
      "source": [
        "# Here are the list of class names\n",
        "class_names = ['T-shirt/top', 'Trouser', 'Pullover', 'Dress', 'Coat',\n",
        "               'Sandal', 'Shirt', 'Sneaker', 'Bag', 'Ankle boot']"
      ],
      "execution_count": null,
      "outputs": []
    },
    {
      "cell_type": "markdown",
      "metadata": {
        "id": "1oO38lwbV7f9"
      },
      "source": [
        "Please complete the following tasks:\n",
        "1. Scale the values to [0, 1] by dividing every value by 255.0.\n",
        "2. Use `plt.imshow()` to display the first image from the training set.\n",
        "3. Build a neural network with three layers:\n",
        "    - The first layer is a flatten layer of size 28 * 28.\n",
        "    - The second layer is a dense layer with 128 nodes, with ReLU as activation function.\n",
        "    - The last layer is a dense layer with 10 nodes without activation.\n",
        "4. Compile the model, using `adam` as optimizer and `tf.keras.losses.SparseCategoricalCrossentropy(from_logits=True)` as loss function. Use `accuracy` as performance metrics.\n",
        "5. Train the model using `train_images` and `train_labels` for 10 epochs.\n",
        "6. Evaluate the accuracy on the test set.\n",
        "7. Compute the confusion matrix over test set. Which type of prediction mistake occurs most frequently?"
      ]
    },
    {
      "cell_type": "code",
      "metadata": {
        "id": "NGAfn9ZKV7io",
        "colab": {
          "base_uri": "https://localhost:8080/"
        },
        "outputId": "3e09a325-9783-49f4-94ef-7d64a51d831e"
      },
      "source": [
        "train_images, test_images = train_images / 255.0, test_images / 255.0\n",
        "print(train_images.shape, test_images.shape)"
      ],
      "execution_count": null,
      "outputs": [
        {
          "output_type": "stream",
          "text": [
            "(60000, 28, 28) (10000, 28, 28)\n"
          ],
          "name": "stdout"
        }
      ]
    },
    {
      "cell_type": "code",
      "metadata": {
        "colab": {
          "base_uri": "https://localhost:8080/",
          "height": 299
        },
        "id": "Q1nnzsKOzekC",
        "outputId": "c5071dfb-e0ea-4af7-920e-66c4031421ba"
      },
      "source": [
        "idx = 0\n",
        "img = train_images[idx, :, :]\n",
        "print(\"Shape of the image:\", img.shape)\n",
        "plt.imshow(img, cmap=plt.cm.binary)"
      ],
      "execution_count": null,
      "outputs": [
        {
          "output_type": "stream",
          "text": [
            "Shape of the image: (28, 28)\n"
          ],
          "name": "stdout"
        },
        {
          "output_type": "execute_result",
          "data": {
            "text/plain": [
              "<matplotlib.image.AxesImage at 0x7f654de73e50>"
            ]
          },
          "metadata": {
            "tags": []
          },
          "execution_count": 5
        },
        {
          "output_type": "display_data",
          "data": {
            "image/png": "[encoded data removed]",
            "text/plain": [
              "<Figure size 432x288 with 1 Axes>"
            ]
          },
          "metadata": {
            "tags": [],
            "needs_background": "light"
          }
        }
      ]
    },
    {
      "cell_type": "code",
      "metadata": {
        "id": "5DGSmiLw1MAV"
      },
      "source": [
        "model = K.models.Sequential([\n",
        "    K.layers.Flatten(input_shape=(28, 28)),\n",
        "    K.layers.Dense(128, activation='relu'),\n",
        "    K.layers.Dense(10)                                   \n",
        "])"
      ],
      "execution_count": null,
      "outputs": []
    },
    {
      "cell_type": "code",
      "metadata": {
        "colab": {
          "base_uri": "https://localhost:8080/"
        },
        "id": "L8jjGDaX2jSS",
        "outputId": "10206fc2-45c5-47fd-b1ad-409d97adc60b"
      },
      "source": [
        "index = 0\n",
        "predictions = model(train_images[index:(index+1)]).numpy()\n",
        "print(predictions)"
      ],
      "execution_count": null,
      "outputs": [
        {
          "output_type": "stream",
          "text": [
            "[[ 0.33017     0.09013558  1.0581692  -0.20862415  0.45227444 -1.1781316\n",
            "   0.25636882  0.17390569 -0.96072364 -0.49461243]]\n"
          ],
          "name": "stdout"
        }
      ]
    },
    {
      "cell_type": "code",
      "metadata": {
        "colab": {
          "base_uri": "https://localhost:8080/"
        },
        "id": "cAJ8yXoa17Xz",
        "outputId": "66699a65-945b-4f48-f22f-0e3fea3806d0"
      },
      "source": [
        "loss_fn = K.losses.SparseCategoricalCrossentropy(from_logits=True)\n",
        "loss_fn(train_labels[index:(index+1)], predictions).numpy()"
      ],
      "execution_count": null,
      "outputs": [
        {
          "output_type": "execute_result",
          "data": {
            "text/plain": [
              "2.9397948"
            ]
          },
          "metadata": {
            "tags": []
          },
          "execution_count": 8
        }
      ]
    },
    {
      "cell_type": "code",
      "metadata": {
        "id": "N3BlBm622bpc"
      },
      "source": [
        "model.compile(optimizer='adam',\n",
        "              loss=loss_fn,\n",
        "              metrics=['accuracy'])"
      ],
      "execution_count": null,
      "outputs": []
    },
    {
      "cell_type": "code",
      "metadata": {
        "colab": {
          "base_uri": "https://localhost:8080/"
        },
        "id": "Roa25AS62wcs",
        "outputId": "d64572d6-6878-44d6-f3fe-b14a81b2f8d4"
      },
      "source": [
        "model.fit(train_images, train_labels, epochs=10)"
      ],
      "execution_count": null,
      "outputs": [
        {
          "output_type": "stream",
          "text": [
            "Epoch 1/10\n",
            "1875/1875 [==============================] - 6s 3ms/step - loss: 0.6232 - accuracy: 0.7818\n",
            "Epoch 2/10\n",
            "1875/1875 [==============================] - 5s 3ms/step - loss: 0.3794 - accuracy: 0.8633\n",
            "Epoch 3/10\n",
            "1875/1875 [==============================] - 4s 2ms/step - loss: 0.3397 - accuracy: 0.8763\n",
            "Epoch 4/10\n",
            "1875/1875 [==============================] - 5s 2ms/step - loss: 0.3113 - accuracy: 0.8867\n",
            "Epoch 5/10\n",
            "1875/1875 [==============================] - 4s 2ms/step - loss: 0.2975 - accuracy: 0.8892\n",
            "Epoch 6/10\n",
            "1875/1875 [==============================] - 4s 2ms/step - loss: 0.2746 - accuracy: 0.8994\n",
            "Epoch 7/10\n",
            "1875/1875 [==============================] - 4s 2ms/step - loss: 0.2666 - accuracy: 0.9015\n",
            "Epoch 8/10\n",
            "1875/1875 [==============================] - 5s 2ms/step - loss: 0.2554 - accuracy: 0.9033\n",
            "Epoch 9/10\n",
            "1875/1875 [==============================] - 4s 2ms/step - loss: 0.2441 - accuracy: 0.9092\n",
            "Epoch 10/10\n",
            "1875/1875 [==============================] - 4s 2ms/step - loss: 0.2358 - accuracy: 0.9103\n"
          ],
          "name": "stdout"
        },
        {
          "output_type": "execute_result",
          "data": {
            "text/plain": [
              "<tensorflow.python.keras.callbacks.History at 0x7f654a1049d0>"
            ]
          },
          "metadata": {
            "tags": []
          },
          "execution_count": 10
        }
      ]
    },
    {
      "cell_type": "code",
      "metadata": {
        "colab": {
          "base_uri": "https://localhost:8080/"
        },
        "id": "eckdGgSa3S_x",
        "outputId": "23543741-ff73-481a-8cf5-efa01edde060"
      },
      "source": [
        "model.evaluate(test_images, test_labels)"
      ],
      "execution_count": null,
      "outputs": [
        {
          "output_type": "stream",
          "text": [
            "313/313 [==============================] - 1s 2ms/step - loss: 0.3370 - accuracy: 0.8794\n"
          ],
          "name": "stdout"
        },
        {
          "output_type": "execute_result",
          "data": {
            "text/plain": [
              "[0.33697283267974854, 0.8794000148773193]"
            ]
          },
          "metadata": {
            "tags": []
          },
          "execution_count": 11
        }
      ]
    },
    {
      "cell_type": "code",
      "metadata": {
        "colab": {
          "base_uri": "https://localhost:8080/"
        },
        "id": "K4pOL1vj3bGZ",
        "outputId": "b715199b-6e99-4f8d-8bc3-5461b3af9ff0"
      },
      "source": [
        "test_labels_pred = []\n",
        "raw_predictions = model(test_images).numpy()\n",
        "for row_idx in range(raw_predictions.shape[0]):\n",
        "    logits = raw_predictions[row_idx, :]\n",
        "    probs = tf.nn.softmax(logits).numpy()\n",
        "    class_pred = np.argmax(probs)\n",
        "    test_labels_pred.append(class_pred)\n",
        "print(test_labels_pred)"
      ],
      "execution_count": null,
      "outputs": [
        {
          "output_type": "stream",
          "text": [
            "[9, 2, 1, 1, 6, 1, 4, 6, 5, 7, 4, 5, 5, 3, 4, 1, 2, 2, 8, 0, 2, 5, 7, 5, 1, 2, 6, 0, 9, 6, 8, 8, 3, 3, 8, 0, 7, 5, 7, 9, 0, 1, 6, 7, 6, 7, 2, 1, 2, 6, 4, 2, 5, 8, 2, 2, 8, 4, 8, 0, 7, 7, 8, 5, 1, 1, 6, 4, 7, 8, 7, 0, 6, 6, 2, 3, 1, 2, 8, 4, 1, 8, 5, 9, 5, 0, 3, 2, 0, 6, 5, 3, 6, 7, 1, 8, 0, 1, 2, 2, 3, 6, 7, 6, 7, 8, 5, 7, 9, 4, 2, 5, 7, 0, 5, 2, 8, 6, 7, 8, 0, 0, 9, 9, 3, 0, 8, 2, 1, 5, 4, 1, 9, 1, 8, 4, 2, 1, 2, 5, 1, 6, 0, 0, 1, 6, 1, 3, 2, 2, 3, 6, 1, 3, 5, 6, 4, 7, 9, 3, 7, 2, 3, 9, 0, 9, 4, 7, 4, 2, 0, 5, 6, 1, 2, 1, 3, 0, 9, 1, 0, 9, 3, 6, 7, 9, 9, 4, 4, 7, 1, 2, 3, 6, 3, 2, 8, 3, 6, 1, 1, 0, 2, 9, 2, 4, 0, 7, 9, 8, 4, 1, 8, 4, 1, 3, 1, 6, 7, 2, 8, 5, 2, 0, 7, 7, 6, 2, 7, 0, 7, 8, 9, 2, 9, 0, 5, 1, 4, 2, 5, 4, 9, 2, 2, 8, 6, 2, 2, 4, 9, 7, 6, 5, 5, 2, 8, 5, 2, 3, 0, 4, 8, 0, 0, 6, 3, 8, 9, 6, 1, 3, 0, 2, 3, 0, 8, 3, 7, 4, 0, 1, 6, 4, 0, 4, 6, 7, 5, 4, 5, 9, 5, 6, 5, 5, 1, 9, 8, 8, 3, 3, 6, 8, 0, 0, 2, 9, 7, 7, 1, 3, 6, 6, 6, 4, 7, 1, 6, 4, 8, 2, 6, 5, 6, 2, 7, 7, 7, 3, 3, 7, 6, 7, 1, 3, 7, 6, 2, 3, 4, 0, 3, 1, 6, 1, 9, 4, 9, 9, 1, 7, 8, 3, 6, 0, 2, 4, 8, 0, 1, 6, 2, 4, 4, 7, 3, 2, 6, 5, 0, 7, 9, 4, 6, 9, 3, 9, 3, 2, 5, 6, 0, 3, 5, 8, 1, 6, 2, 6, 6, 4, 9, 5, 2, 0, 6, 6, 1, 2, 0, 9, 7, 0, 4, 4, 6, 0, 2, 3, 0, 6, 7, 6, 9, 4, 2, 1, 5, 4, 5, 3, 8, 5, 8, 4, 4, 8, 9, 8, 6, 2, 4, 4, 2, 4, 1, 6, 1, 3, 0, 7, 8, 8, 4, 5, 3, 1, 9, 5, 3, 3, 0, 1, 2, 2, 9, 4, 0, 6, 0, 4, 2, 0, 0, 3, 3, 8, 2, 8, 9, 4, 0, 7, 6, 4, 4, 9, 2, 9, 7, 9, 3, 7, 5, 7, 8, 1, 0, 0, 6, 6, 8, 9, 7, 9, 1, 2, 7, 0, 2, 0, 5, 7, 1, 8, 2, 2, 2, 2, 4, 2, 6, 1, 9, 8, 5, 1, 9, 1, 2, 8, 3, 8, 9, 2, 2, 2, 8, 0, 2, 0, 5, 8, 8, 5, 3, 9, 4, 3, 4, 4, 5, 1, 0, 1, 2, 0, 6, 9, 6, 1, 5, 1, 1, 1, 9, 3, 4, 5, 3, 6, 2, 0, 4, 0, 0, 5, 8, 0, 3, 4, 0, 7, 7, 8, 9, 0, 3, 8, 7, 6, 7, 9, 0, 4, 0, 0, 5, 8, 1, 1, 5, 9, 4, 6, 5, 7, 8, 1, 2, 9, 7, 7, 1, 0, 9, 3, 2, 9, 0, 7, 6, 8, 2, 7, 0, 2, 3, 8, 2, 2, 6, 9, 3, 0, 7, 8, 6, 2, 9, 4, 6, 6, 2, 8, 0, 6, 4, 6, 7, 5, 8, 4, 9, 1, 0, 5, 4, 4, 4, 0, 0, 4, 5, 6, 0, 4, 5, 4, 1, 3, 1, 3, 6, 4, 3, 8, 2, 8, 6, 7, 0, 4, 0, 8, 5, 0, 8, 2, 9, 6, 8, 9, 6, 4, 2, 9, 6, 2, 5, 0, 9, 5, 3, 6, 6, 8, 3, 3, 8, 3, 4, 0, 9, 7, 9, 4, 8, 9, 1, 3, 7, 3, 0, 2, 6, 7, 1, 0, 0, 8, 7, 2, 6, 4, 6, 4, 1, 5, 9, 0, 0, 1, 6, 5, 0, 0, 3, 3, 3, 8, 1, 1, 8, 5, 7, 7, 8, 7, 2, 0, 7, 6, 8, 0, 9, 7, 6, 1, 6, 2, 4, 8, 0, 6, 3, 6, 8, 4, 0, 8, 9, 2, 4, 5, 9, 1, 4, 4, 9, 2, 1, 7, 9, 5, 8, 3, 7, 7, 1, 1, 1, 6, 9, 5, 3, 8, 4, 2, 9, 6, 8, 3, 2, 4, 4, 7, 1, 4, 9, 3, 5, 8, 5, 4, 7, 2, 8, 5, 9, 3, 3, 6, 7, 1, 7, 3, 5, 4, 6, 5, 8, 3, 7, 1, 2, 0, 1, 9, 8, 2, 7, 1, 3, 7, 5, 9, 9, 1, 8, 4, 5, 7, 1, 9, 8, 1, 0, 0, 6, 1, 7, 1, 1, 5, 7, 1, 5, 2, 6, 3, 3, 1, 1, 4, 9, 2, 3, 7, 7, 6, 8, 9, 9, 6, 1, 3, 4, 0, 0, 5, 9, 2, 0, 5, 5, 1, 5, 7, 8, 7, 7, 3, 6, 6, 0, 2, 0, 2, 0, 2, 5, 5, 1, 2, 0, 9, 3, 7, 8, 4, 8, 3, 4, 7, 6, 7, 4, 8, 0, 3, 4, 4, 3, 6, 9, 6, 6, 4, 9, 1, 8, 1, 7, 5, 5, 6, 0, 2, 1, 0, 5, 4, 0, 0, 6, 7, 5, 0, 4, 5, 9, 6, 8, 6, 6, 4, 6, 2, 9, 6, 7, 7, 1, 4, 4, 0, 5, 0, 9, 9, 8, 8, 3, 6, 2, 4, 6, 6, 3, 2, 3, 5, 2, 9, 3, 4, 7, 7, 6, 3, 5, 5, 2, 4, 5, 9, 6, 3, 7, 5, 1, 9, 8, 8, 9, 9, 2, 7, 2, 2, 3, 8, 7, 4, 6, 5, 4, 3, 6, 1, 4, 9, 3, 1, 6, 5, 0, 5, 7, 5, 2, 3, 3, 9, 6, 3, 6, 0, 4, 5, 0, 4, 9, 2, 6, 3, 6, 7, 0, 2, 1, 1, 4, 4, 8, 5, 9, 0, 1, 6, 5, 1, 4, 4, 8, 4, 7, 5, 3, 8, 0, 1, 9, 8, 1, 3, 3, 7, 5, 6, 5, 7, 8, 9, 6, 3, 5, 8, 4, 6, 3, 8, 6, 5, 5, 6, 7, 1, 5, 3, 5, 4, 8, 6, 2, 1, 1, 7, 9, 2, 2, 7, 0, 4, 8, 2, 2, 0, 6, 4, 4, 9, 6, 8, 4, 5, 9, 6, 3, 9, 2, 9, 8, 7, 4, 2, 2, 5, 3, 7, 0, 7, 2, 9, 3, 7, 6, 9, 3, 8, 4, 4, 7, 2, 4, 6, 2, 0, 7, 8, 4, 2, 4, 5, 5, 6, 4, 5, 5, 8, 1, 1, 7, 4, 6, 9, 6, 8, 7, 2, 6, 1, 6, 7, 7, 6, 9, 8, 5, 1, 1, 0, 2, 0, 9, 3, 1, 9, 0, 5, 5, 6, 0, 7, 0, 2, 6, 1, 3, 1, 3, 2, 7, 2, 4, 9, 5, 2, 9, 6, 3, 4, 4, 6, 6, 5, 2, 2, 5, 6, 1, 4, 2, 5, 4, 4, 8, 0, 2, 4, 0, 6, 6, 6, 8, 3, 8, 2, 0, 4, 4, 8, 8, 4, 5, 2, 2, 3, 0, 1, 9, 0, 9, 1, 9, 6, 5, 2, 2, 7, 3, 8, 5, 0, 8, 0, 7, 5, 5, 9, 5, 0, 0, 0, 3, 4, 4, 4, 5, 7, 1, 3, 4, 6, 6, 5, 1, 6, 7, 3, 4, 8, 8, 4, 8, 7, 4, 1, 6, 5, 2, 7, 8, 5, 6, 8, 5, 2, 2, 8, 9, 8, 4, 4, 0, 8, 8, 3, 0, 9, 4, 2, 8, 1, 3, 6, 1, 9, 2, 1, 6, 2, 7, 9, 2, 6, 0, 4, 4, 2, 4, 5, 0, 2, 8, 3, 7, 6, 4, 0, 0, 5, 4, 8, 2, 4, 3, 0, 2, 1, 7, 7, 5, 4, 7, 2, 6, 7, 3, 3, 1, 3, 3, 6, 0, 1, 7, 6, 4, 7, 1, 0, 6, 5, 8, 4, 6, 7, 9, 5, 0, 7, 9, 5, 1, 2, 9, 5, 5, 3, 9, 9, 1, 6, 7, 8, 0, 1, 7, 2, 7, 1, 1, 5, 5, 6, 4, 5, 9, 5, 5, 2, 3, 9, 3, 8, 5, 4, 0, 0, 0, 5, 7, 3, 5, 2, 6, 4, 4, 7, 8, 0, 5, 1, 7, 2, 3, 2, 8, 7, 8, 7, 1, 2, 3, 2, 9, 7, 5, 6, 1, 0, 7, 1, 2, 6, 9, 3, 6, 4, 4, 3, 0, 0, 6, 3, 6, 1, 3, 7, 6, 5, 3, 9, 1, 1, 8, 6, 9, 5, 0, 7, 4, 6, 7, 1, 1, 5, 3, 8, 7, 8, 3, 8, 9, 6, 6, 1, 1, 3, 5, 6, 7, 1, 9, 9, 2, 4, 7, 0, 1, 3, 9, 6, 3, 7, 2, 8, 1, 8, 0, 7, 9, 8, 5, 8, 2, 6, 4, 6, 6, 5, 8, 3, 8, 7, 5, 7, 3, 7, 6, 7, 0, 2, 2, 5, 3, 5, 1, 1, 7, 7, 6, 3, 6, 4, 6, 8, 6, 3, 1, 4, 9, 9, 4, 5, 2, 2, 7, 8, 0, 7, 9, 1, 2, 9, 4, 7, 3, 4, 3, 3, 1, 8, 8, 5, 3, 8, 0, 3, 4, 3, 6, 0, 2, 7, 3, 6, 8, 3, 7, 7, 3, 1, 7, 5, 8, 8, 2, 0, 6, 4, 4, 6, 5, 7, 0, 6, 0, 7, 7, 3, 9, 2, 5, 9, 7, 3, 7, 2, 2, 5, 1, 4, 5, 4, 5, 0, 4, 2, 1, 4, 4, 8, 4, 5, 9, 4, 1, 1, 7, 2, 3, 5, 6, 3, 9, 7, 5, 3, 8, 8, 8, 9, 1, 1, 6, 3, 1, 6, 3, 4, 9, 9, 6, 0, 6, 9, 4, 9, 0, 6, 1, 8, 9, 2, 9, 4, 8, 0, 7, 2, 3, 6, 2, 5, 6, 1, 9, 6, 4, 2, 9, 9, 0, 8, 3, 6, 6, 6, 0, 4, 6, 6, 6, 5, 0, 2, 7, 8, 7, 4, 6, 6, 6, 5, 2, 4, 2, 9, 5, 2, 6, 7, 0, 1, 9, 5, 5, 0, 7, 7, 5, 0, 5, 0, 8, 4, 7, 9, 8, 2, 4, 7, 3, 3, 7, 7, 7, 8, 2, 9, 5, 7, 6, 5, 7, 5, 1, 3, 0, 4, 9, 9, 8, 3, 7, 0, 4, 4, 9, 3, 3, 1, 7, 9, 1, 5, 7, 2, 5, 6, 5, 5, 3, 7, 5, 5, 4, 0, 7, 3, 3, 2, 6, 2, 9, 9, 0, 6, 0, 8, 3, 8, 0, 4, 4, 1, 8, 2, 8, 5, 0, 2, 2, 3, 0, 0, 1, 0, 8, 4, 9, 0, 7, 6, 7, 7, 1, 5, 8, 7, 2, 9, 9, 1, 2, 4, 1, 1, 1, 8, 8, 1, 3, 7, 5, 2, 0, 8, 4, 8, 9, 2, 1, 3, 1, 9, 8, 1, 1, 1, 8, 6, 9, 9, 7, 6, 0, 4, 2, 1, 1, 7, 9, 2, 2, 0, 3, 0, 4, 8, 1, 7, 2, 4, 2, 2, 4, 8, 7, 1, 8, 5, 5, 7, 7, 6, 6, 2, 7, 0, 6, 3, 5, 5, 0, 2, 1, 0, 3, 5, 7, 3, 7, 4, 5, 7, 9, 8, 9, 1, 2, 8, 3, 2, 6, 6, 0, 8, 3, 8, 6, 8, 6, 0, 8, 8, 3, 2, 9, 3, 2, 0, 8, 5, 7, 0, 1, 1, 1, 9, 5, 1, 3, 3, 6, 0, 8, 4, 1, 3, 8, 8, 0, 7, 5, 6, 6, 7, 3, 3, 2, 4, 2, 5, 5, 4, 4, 0, 9, 1, 1, 7, 3, 8, 7, 2, 2, 9, 3, 9, 9, 0, 1, 7, 1, 2, 8, 1, 6, 9, 3, 4, 0, 0, 7, 6, 9, 9, 5, 5, 7, 0, 9, 3, 3, 6, 9, 8, 4, 2, 6, 3, 9, 4, 3, 2, 7, 4, 0, 3, 8, 1, 8, 7, 4, 4, 5, 2, 6, 9, 1, 9, 4, 9, 1, 6, 2, 8, 8, 7, 7, 7, 7, 2, 6, 0, 7, 5, 8, 5, 0, 0, 2, 4, 9, 2, 6, 1, 1, 9, 3, 1, 2, 2, 2, 3, 7, 5, 7, 4, 2, 4, 1, 2, 3, 5, 4, 2, 9, 1, 5, 9, 3, 6, 6, 4, 0, 1, 7, 7, 6, 6, 7, 7, 3, 0, 4, 3, 2, 7, 8, 7, 2, 8, 0, 8, 7, 4, 4, 2, 7, 0, 9, 9, 3, 1, 5, 9, 3, 1, 0, 3, 3, 5, 9, 7, 9, 8, 0, 5, 9, 3, 7, 9, 3, 6, 6, 0, 5, 7, 7, 2, 3, 5, 3, 1, 1, 9, 4, 3, 9, 5, 5, 7, 2, 4, 9, 0, 2, 1, 9, 7, 1, 5, 0, 5, 5, 0, 3, 5, 0, 3, 3, 7, 4, 2, 6, 8, 5, 9, 2, 1, 0, 5, 5, 8, 5, 3, 7, 4, 4, 6, 9, 0, 0, 0, 9, 1, 4, 3, 1, 5, 3, 8, 5, 1, 1, 2, 9, 4, 0, 5, 2, 8, 0, 2, 9, 8, 6, 4, 8, 3, 8, 0, 2, 0, 0, 4, 8, 5, 4, 9, 0, 9, 5, 8, 0, 9, 1, 4, 7, 2, 1, 6, 6, 0, 6, 5, 0, 4, 8, 5, 5, 2, 0, 3, 8, 3, 0, 1, 9, 2, 7, 7, 2, 6, 2, 8, 3, 4, 8, 5, 6, 8, 3, 3, 1, 4, 4, 0, 4, 9, 0, 4, 1, 9, 9, 8, 1, 8, 8, 3, 3, 3, 8, 5, 9, 2, 6, 8, 7, 0, 3, 0, 0, 0, 5, 7, 5, 0, 7, 9, 1, 6, 4, 8, 9, 3, 5, 6, 0, 4, 4, 7, 8, 9, 1, 8, 2, 5, 5, 3, 1, 1, 8, 8, 3, 0, 7, 0, 1, 8, 3, 0, 4, 9, 8, 9, 8, 8, 6, 9, 1, 8, 4, 2, 7, 7, 0, 5, 1, 1, 0, 0, 4, 3, 0, 2, 3, 5, 1, 2, 3, 3, 4, 4, 5, 0, 9, 8, 3, 4, 1, 0, 6, 1, 4, 4, 4, 8, 4, 9, 0, 5, 9, 5, 0, 6, 0, 5, 0, 3, 9, 8, 3, 6, 1, 9, 2, 1, 0, 4, 5, 4, 1, 2, 8, 5, 9, 4, 5, 3, 6, 8, 3, 0, 6, 8, 9, 0, 5, 6, 2, 6, 9, 3, 2, 2, 8, 5, 9, 2, 3, 1, 0, 3, 2, 2, 7, 4, 1, 2, 6, 4, 0, 2, 8, 5, 0, 8, 5, 2, 7, 8, 1, 5, 9, 8, 6, 9, 0, 9, 3, 7, 5, 7, 9, 6, 0, 7, 1, 5, 5, 9, 5, 4, 4, 2, 4, 5, 9, 7, 4, 2, 6, 9, 9, 4, 2, 1, 3, 7, 1, 8, 7, 7, 1, 8, 9, 3, 7, 7, 7, 1, 7, 4, 6, 2, 2, 4, 5, 2, 8, 9, 0, 8, 0, 0, 7, 7, 5, 0, 1, 9, 6, 0, 4, 9, 2, 6, 6, 7, 1, 0, 5, 8, 7, 2, 8, 6, 3, 6, 1, 7, 4, 8, 7, 4, 1, 7, 8, 6, 4, 6, 4, 4, 1, 8, 6, 7, 2, 9, 4, 5, 6, 0, 3, 8, 8, 2, 0, 7, 2, 4, 0, 4, 1, 0, 8, 1, 7, 5, 2, 6, 3, 1, 2, 7, 6, 6, 0, 6, 2, 7, 2, 6, 3, 2, 3, 0, 9, 7, 3, 5, 4, 9, 2, 2, 5, 0, 6, 8, 4, 0, 4, 4, 0, 6, 1, 6, 6, 3, 7, 1, 6, 6, 4, 1, 1, 5, 6, 6, 8, 3, 4, 1, 7, 4, 9, 8, 8, 4, 5, 5, 6, 7, 3, 9, 1, 6, 5, 3, 7, 6, 1, 1, 8, 6, 2, 0, 5, 9, 6, 3, 8, 1, 0, 4, 6, 6, 2, 8, 3, 4, 2, 1, 9, 0, 7, 9, 5, 7, 6, 1, 5, 8, 8, 2, 6, 4, 6, 3, 1, 6, 4, 0, 3, 9, 8, 4, 0, 8, 4, 3, 9, 7, 1, 1, 7, 5, 1, 9, 2, 4, 2, 3, 8, 6, 7, 1, 3, 0, 7, 3, 5, 8, 1, 4, 2, 3, 4, 8, 8, 8, 4, 8, 1, 8, 9, 3, 0, 0, 0, 2, 9, 7, 3, 7, 0, 1, 3, 5, 9, 8, 0, 5, 0, 5, 8, 7, 3, 6, 2, 8, 0, 0, 9, 3, 0, 5, 8, 1, 1, 6, 6, 6, 0, 8, 4, 2, 3, 3, 9, 5, 4, 3, 3, 1, 8, 1, 5, 2, 0, 0, 7, 9, 3, 2, 7, 1, 7, 4, 1, 6, 2, 6, 6, 7, 0, 4, 9, 3, 2, 5, 2, 8, 6, 2, 2, 7, 4, 2, 1, 1, 0, 3, 5, 5, 2, 6, 4, 1, 8, 8, 4, 4, 3, 4, 2, 7, 6, 4, 9, 6, 2, 6, 6, 4, 5, 4, 9, 8, 1, 6, 4, 6, 4, 9, 4, 3, 5, 1, 4, 6, 0, 1, 1, 0, 2, 6, 9, 7, 0, 1, 2, 4, 0, 7, 2, 1, 1, 7, 7, 8, 7, 6, 5, 3, 7, 2, 0, 9, 2, 1, 6, 2, 2, 5, 8, 5, 2, 9, 8, 4, 0, 9, 0, 8, 1, 0, 8, 6, 8, 2, 0, 6, 3, 8, 7, 8, 2, 2, 0, 6, 0, 4, 5, 4, 4, 1, 1, 9, 7, 0, 4, 2, 1, 4, 2, 7, 5, 1, 8, 3, 3, 7, 9, 8, 7, 2, 7, 9, 7, 2, 2, 6, 6, 3, 3, 9, 1, 1, 4, 8, 0, 9, 7, 5, 4, 8, 8, 3, 6, 3, 8, 8, 6, 2, 5, 9, 2, 3, 8, 6, 2, 8, 3, 0, 1, 1, 3, 0, 1, 8, 2, 1, 5, 8, 1, 5, 8, 0, 7, 8, 7, 9, 5, 5, 5, 3, 0, 7, 8, 4, 5, 1, 6, 6, 6, 4, 3, 7, 7, 7, 5, 2, 5, 8, 5, 8, 5, 3, 0, 9, 7, 2, 0, 6, 8, 4, 0, 7, 4, 7, 6, 8, 4, 7, 0, 0, 4, 0, 2, 7, 8, 1, 3, 8, 1, 7, 3, 6, 1, 1, 6, 6, 9, 8, 2, 8, 2, 7, 7, 1, 8, 0, 3, 0, 7, 8, 7, 6, 5, 2, 6, 7, 5, 5, 8, 9, 7, 3, 2, 4, 8, 3, 9, 5, 7, 6, 2, 6, 7, 3, 8, 5, 1, 8, 9, 2, 2, 1, 6, 2, 7, 4, 0, 4, 4, 8, 9, 7, 9, 6, 6, 8, 2, 6, 0, 6, 3, 4, 1, 5, 2, 7, 5, 0, 7, 6, 2, 0, 5, 1, 1, 0, 7, 3, 8, 8, 7, 5, 9, 9, 5, 5, 4, 0, 7, 1, 4, 6, 0, 9, 7, 2, 6, 8, 0, 5, 7, 8, 8, 2, 7, 0, 6, 4, 8, 1, 0, 4, 8, 0, 7, 5, 8, 7, 7, 5, 5, 0, 7, 6, 0, 2, 0, 3, 4, 2, 0, 2, 9, 4, 5, 4, 4, 1, 2, 5, 7, 0, 5, 0, 2, 5, 0, 4, 6, 0, 6, 7, 6, 7, 2, 3, 2, 7, 1, 4, 3, 4, 2, 4, 3, 9, 9, 2, 8, 0, 4, 0, 0, 1, 9, 3, 9, 6, 8, 6, 9, 4, 7, 9, 1, 5, 8, 1, 0, 6, 2, 6, 8, 6, 3, 3, 0, 0, 0, 3, 3, 1, 6, 8, 4, 7, 3, 0, 6, 5, 8, 8, 8, 6, 1, 0, 8, 7, 8, 5, 8, 7, 6, 7, 2, 7, 1, 5, 5, 8, 3, 3, 8, 5, 9, 9, 4, 0, 6, 7, 1, 8, 8, 8, 7, 2, 0, 9, 7, 9, 4, 9, 2, 1, 4, 7, 2, 5, 6, 4, 2, 9, 0, 7, 1, 9, 7, 6, 5, 3, 8, 4, 9, 3, 9, 5, 7, 5, 1, 3, 3, 2, 0, 7, 5, 3, 5, 5, 8, 7, 7, 4, 6, 5, 5, 3, 4, 8, 3, 0, 7, 2, 3, 2, 6, 7, 4, 6, 9, 1, 4, 8, 1, 4, 7, 8, 2, 6, 7, 2, 0, 2, 2, 4, 6, 3, 0, 5, 2, 3, 6, 8, 5, 0, 7, 4, 6, 4, 8, 3, 5, 1, 3, 9, 1, 2, 9, 0, 7, 4, 8, 0, 2, 5, 0, 3, 5, 6, 5, 1, 7, 9, 4, 6, 7, 4, 0, 2, 8, 1, 0, 9, 9, 7, 8, 2, 6, 9, 7, 7, 5, 8, 8, 7, 5, 3, 5, 5, 0, 8, 9, 7, 2, 1, 4, 7, 1, 3, 6, 3, 4, 0, 9, 4, 7, 7, 0, 5, 0, 8, 8, 2, 8, 5, 6, 0, 7, 3, 0, 0, 4, 5, 2, 0, 7, 7, 5, 1, 5, 2, 1, 8, 5, 2, 6, 8, 7, 7, 6, 7, 1, 6, 9, 5, 3, 9, 3, 5, 0, 7, 4, 6, 0, 1, 6, 5, 9, 3, 2, 8, 5, 7, 3, 1, 4, 0, 8, 1, 8, 5, 6, 9, 3, 3, 8, 6, 4, 2, 0, 0, 4, 2, 3, 4, 5, 9, 1, 1, 9, 4, 7, 0, 3, 1, 0, 0, 7, 7, 0, 7, 8, 0, 5, 6, 4, 4, 8, 9, 7, 4, 9, 5, 3, 7, 2, 4, 1, 9, 7, 8, 1, 0, 9, 3, 6, 7, 8, 6, 5, 6, 7, 9, 9, 7, 0, 4, 2, 3, 4, 6, 7, 5, 3, 9, 2, 8, 8, 6, 0, 4, 1, 9, 3, 3, 5, 1, 7, 5, 9, 2, 8, 5, 5, 9, 5, 4, 0, 7, 3, 5, 2, 2, 0, 9, 4, 8, 1, 9, 2, 6, 6, 4, 8, 8, 7, 7, 4, 9, 3, 9, 6, 8, 2, 6, 9, 0, 4, 2, 5, 7, 0, 4, 6, 4, 1, 3, 1, 6, 7, 8, 8, 7, 7, 0, 5, 7, 3, 6, 0, 4, 0, 3, 6, 8, 8, 8, 0, 2, 3, 2, 8, 8, 1, 2, 1, 1, 6, 3, 2, 2, 8, 0, 6, 4, 1, 0, 2, 7, 0, 6, 7, 9, 9, 2, 7, 6, 9, 9, 8, 4, 8, 3, 4, 0, 9, 4, 2, 4, 3, 8, 3, 6, 6, 7, 6, 2, 7, 3, 7, 8, 8, 2, 4, 8, 8, 0, 1, 5, 8, 9, 8, 7, 1, 0, 3, 0, 0, 0, 9, 3, 9, 9, 1, 5, 9, 4, 1, 7, 6, 1, 0, 5, 3, 8, 8, 4, 1, 7, 0, 5, 0, 4, 1, 7, 1, 7, 9, 6, 3, 9, 2, 2, 9, 3, 5, 8, 8, 4, 4, 7, 7, 4, 2, 0, 5, 5, 1, 6, 2, 5, 6, 8, 5, 6, 9, 1, 3, 1, 4, 5, 9, 0, 7, 0, 3, 5, 6, 1, 5, 8, 5, 6, 6, 9, 1, 9, 1, 7, 1, 8, 0, 3, 4, 6, 2, 0, 3, 3, 8, 8, 0, 3, 4, 8, 1, 1, 3, 3, 2, 2, 1, 8, 3, 4, 6, 2, 4, 2, 3, 9, 2, 3, 0, 4, 5, 7, 1, 6, 1, 6, 6, 3, 8, 5, 1, 6, 5, 4, 8, 1, 7, 1, 6, 4, 9, 4, 6, 1, 5, 3, 1, 5, 8, 7, 7, 7, 2, 7, 5, 4, 2, 2, 0, 4, 8, 9, 9, 5, 8, 0, 4, 4, 1, 3, 7, 5, 0, 0, 9, 8, 5, 3, 0, 7, 1, 9, 5, 8, 2, 0, 9, 9, 1, 2, 0, 0, 2, 4, 5, 1, 0, 2, 8, 3, 4, 8, 3, 4, 0, 0, 3, 6, 7, 4, 4, 1, 7, 3, 0, 7, 9, 9, 1, 5, 5, 9, 1, 4, 6, 1, 2, 8, 3, 5, 5, 8, 0, 4, 2, 7, 2, 7, 5, 6, 8, 7, 8, 6, 4, 9, 6, 5, 5, 9, 9, 4, 4, 2, 0, 6, 6, 8, 7, 6, 6, 7, 5, 2, 9, 0, 3, 4, 4, 8, 4, 0, 2, 7, 0, 5, 2, 6, 4, 8, 0, 0, 2, 3, 2, 5, 5, 8, 0, 7, 0, 8, 9, 0, 2, 1, 4, 5, 1, 0, 2, 9, 6, 4, 5, 9, 1, 4, 3, 1, 6, 8, 0, 3, 8, 6, 2, 0, 2, 3, 8, 5, 2, 3, 2, 6, 8, 5, 4, 0, 1, 0, 2, 2, 6, 7, 9, 6, 2, 3, 3, 0, 8, 5, 4, 4, 0, 3, 3, 5, 2, 5, 1, 5, 5, 1, 7, 7, 2, 1, 8, 8, 0, 9, 0, 0, 0, 3, 6, 1, 8, 3, 4, 2, 1, 2, 0, 3, 0, 8, 5, 1, 5, 0, 2, 6, 3, 9, 8, 3, 8, 1, 0, 2, 6, 2, 6, 3, 7, 5, 0, 6, 2, 0, 8, 2, 2, 1, 8, 6, 8, 2, 9, 2, 6, 8, 5, 2, 7, 3, 2, 2, 0, 0, 6, 8, 5, 2, 1, 5, 2, 8, 2, 9, 0, 6, 3, 6, 4, 2, 7, 7, 9, 6, 2, 9, 8, 0, 5, 8, 7, 7, 0, 7, 7, 0, 7, 7, 4, 9, 7, 4, 2, 2, 3, 8, 0, 1, 9, 8, 0, 6, 2, 8, 3, 8, 0, 7, 6, 3, 3, 8, 1, 3, 8, 7, 3, 0, 3, 2, 8, 8, 9, 1, 3, 2, 1, 4, 8, 0, 4, 6, 7, 3, 9, 4, 9, 0, 4, 6, 5, 7, 0, 8, 1, 7, 5, 4, 9, 5, 7, 3, 2, 0, 9, 8, 7, 3, 7, 7, 4, 7, 5, 8, 5, 2, 4, 6, 6, 3, 8, 9, 7, 1, 3, 4, 2, 9, 7, 1, 2, 2, 6, 6, 5, 5, 4, 5, 2, 8, 7, 4, 9, 9, 1, 4, 8, 1, 5, 5, 5, 6, 8, 1, 5, 5, 7, 7, 9, 8, 3, 1, 1, 4, 6, 6, 9, 3, 2, 6, 4, 8, 6, 5, 4, 9, 0, 2, 8, 4, 8, 6, 3, 6, 1, 4, 3, 3, 8, 4, 9, 9, 0, 7, 9, 5, 3, 1, 5, 2, 8, 4, 9, 0, 1, 6, 0, 5, 8, 1, 9, 3, 6, 8, 3, 8, 4, 2, 5, 6, 9, 0, 1, 2, 0, 7, 9, 0, 1, 3, 9, 5, 1, 2, 1, 1, 4, 8, 3, 9, 5, 4, 4, 3, 7, 7, 7, 6, 0, 9, 1, 9, 6, 2, 0, 5, 6, 6, 7, 7, 0, 6, 4, 9, 0, 4, 0, 2, 7, 9, 6, 1, 1, 2, 0, 8, 8, 7, 6, 2, 7, 5, 7, 6, 1, 8, 1, 4, 9, 8, 9, 0, 1, 0, 0, 0, 3, 0, 6, 4, 1, 9, 7, 1, 2, 2, 5, 3, 4, 1, 7, 6, 7, 0, 2, 8, 8, 1, 4, 9, 7, 6, 3, 4, 9, 3, 9, 8, 5, 3, 8, 4, 7, 1, 4, 1, 7, 6, 8, 3, 2, 4, 8, 1, 1, 5, 8, 6, 1, 6, 6, 5, 0, 9, 5, 3, 5, 6, 6, 5, 6, 8, 3, 8, 0, 2, 9, 9, 1, 5, 3, 2, 6, 5, 3, 0, 3, 0, 7, 4, 0, 4, 1, 9, 5, 1, 7, 5, 5, 5, 9, 4, 8, 2, 6, 6, 4, 6, 2, 1, 1, 4, 2, 8, 2, 9, 0, 5, 8, 1, 3, 8, 3, 2, 4, 8, 6, 6, 9, 3, 2, 9, 7, 2, 3, 2, 6, 8, 9, 6, 1, 4, 7, 7, 9, 7, 3, 6, 9, 6, 7, 3, 0, 2, 0, 9, 4, 3, 3, 1, 9, 5, 8, 2, 3, 5, 0, 6, 4, 5, 6, 3, 5, 3, 7, 7, 6, 0, 9, 5, 1, 4, 4, 5, 3, 0, 0, 1, 4, 0, 5, 4, 8, 5, 7, 3, 0, 8, 3, 5, 4, 4, 9, 8, 9, 9, 8, 1, 7, 5, 0, 1, 5, 3, 3, 3, 3, 4, 4, 3, 0, 7, 8, 0, 9, 6, 3, 0, 4, 2, 7, 3, 5, 7, 3, 7, 8, 4, 6, 6, 2, 3, 1, 0, 7, 5, 6, 6, 4, 1, 1, 4, 7, 2, 3, 5, 5, 0, 2, 4, 4, 8, 9, 9, 2, 0, 9, 8, 3, 5, 3, 1, 2, 5, 0, 1, 8, 5, 8, 4, 0, 7, 8, 9, 2, 4, 6, 3, 2, 2, 6, 7, 9, 1, 9, 7, 4, 5, 6, 3, 2, 4, 5, 6, 6, 5, 8, 6, 4, 4, 9, 4, 7, 8, 0, 0, 2, 7, 7, 5, 9, 5, 7, 3, 8, 7, 5, 9, 9, 8, 2, 1, 0, 8, 0, 2, 6, 7, 9, 6, 4, 5, 2, 3, 4, 1, 1, 9, 0, 5, 5, 4, 9, 8, 9, 0, 5, 4, 0, 6, 5, 7, 8, 4, 8, 8, 7, 4, 9, 4, 9, 6, 9, 7, 3, 9, 9, 3, 3, 0, 2, 8, 7, 9, 3, 0, 6, 4, 1, 0, 3, 8, 4, 8, 4, 4, 2, 3, 9, 7, 7, 8, 5, 6, 3, 2, 1, 8, 3, 8, 5, 4, 2, 3, 0, 8, 3, 0, 4, 9, 0, 9, 7, 0, 1, 8, 0, 6, 3, 8, 6, 8, 5, 1, 3, 0, 1, 9, 3, 5, 0, 6, 2, 6, 1, 5, 3, 6, 8, 5, 7, 8, 0, 1, 1, 0, 6, 2, 5, 9, 0, 7, 2, 3, 6, 4, 4, 3, 3, 9, 4, 7, 0, 8, 3, 5, 6, 4, 0, 1, 3, 9, 4, 2, 5, 0, 5, 3, 6, 5, 0, 0, 0, 0, 6, 9, 1, 3, 3, 2, 5, 5, 6, 6, 1, 4, 9, 7, 2, 4, 7, 5, 7, 1, 4, 8, 7, 9, 5, 7, 0, 2, 9, 2, 5, 0, 5, 8, 2, 5, 2, 7, 4, 3, 2, 5, 9, 2, 5, 7, 7, 3, 8, 3, 9, 6, 5, 3, 6, 7, 6, 9, 9, 1, 3, 6, 9, 3, 4, 4, 5, 3, 4, 9, 9, 1, 2, 2, 2, 4, 6, 8, 7, 9, 9, 4, 8, 8, 9, 0, 7, 0, 4, 3, 8, 6, 4, 2, 0, 1, 4, 0, 2, 1, 5, 6, 6, 6, 0, 3, 4, 5, 6, 8, 7, 6, 0, 3, 1, 8, 8, 8, 9, 9, 5, 5, 8, 2, 5, 4, 4, 2, 5, 4, 9, 2, 9, 1, 0, 3, 4, 6, 9, 8, 0, 4, 9, 1, 9, 4, 7, 3, 5, 4, 3, 4, 2, 1, 6, 2, 4, 3, 7, 8, 4, 5, 5, 9, 0, 4, 3, 4, 5, 5, 5, 7, 6, 1, 3, 3, 7, 0, 5, 7, 6, 8, 3, 5, 5, 8, 1, 9, 4, 0, 4, 2, 1, 6, 0, 1, 6, 5, 0, 8, 1, 1, 7, 5, 2, 5, 9, 0, 8, 3, 4, 4, 2, 7, 0, 7, 3, 3, 2, 3, 7, 1, 6, 2, 3, 4, 0, 0, 6, 4, 8, 7, 0, 3, 0, 4, 7, 3, 6, 6, 0, 2, 4, 4, 1, 8, 1, 9, 1, 2, 6, 4, 6, 5, 3, 3, 5, 3, 5, 8, 3, 9, 7, 3, 0, 6, 1, 0, 1, 0, 7, 7, 4, 8, 9, 6, 1, 5, 4, 9, 4, 7, 9, 9, 5, 0, 1, 0, 9, 9, 5, 1, 7, 2, 9, 3, 5, 6, 8, 1, 5, 4, 3, 8, 2, 7, 0, 8, 9, 8, 8, 4, 5, 6, 4, 5, 9, 6, 0, 5, 4, 7, 7, 4, 4, 7, 4, 5, 8, 3, 7, 2, 7, 3, 8, 8, 8, 7, 8, 6, 0, 5, 7, 9, 8, 5, 6, 0, 4, 2, 6, 6, 8, 9, 9, 1, 9, 5, 8, 4, 4, 8, 4, 8, 7, 2, 8, 3, 0, 7, 8, 8, 3, 9, 9, 5, 9, 2, 6, 9, 7, 5, 7, 2, 9, 9, 2, 3, 9, 5, 3, 5, 3, 1, 2, 9, 1, 2, 8, 5, 1, 7, 9, 6, 3, 3, 0, 9, 0, 4, 0, 0, 0, 2, 9, 7, 1, 9, 8, 5, 6, 8, 5, 9, 5, 2, 4, 6, 5, 2, 2, 5, 4, 2, 7, 1, 6, 6, 4, 6, 5, 6, 4, 6, 7, 5, 5, 1, 5, 2, 3, 4, 2, 4, 1, 9, 0, 7, 2, 7, 4, 2, 9, 7, 4, 2, 6, 1, 7, 1, 4, 7, 6, 1, 7, 3, 0, 3, 6, 6, 6, 0, 4, 1, 7, 9, 0, 2, 9, 2, 0, 7, 1, 7, 5, 2, 9, 8, 6, 4, 0, 3, 3, 2, 2, 8, 1, 0, 8, 1, 8, 1, 0, 1, 2, 7, 3, 7, 7, 3, 3, 9, 9, 0, 8, 2, 5, 8, 9, 3, 3, 5, 4, 1, 3, 9, 4, 3, 2, 6, 1, 8, 1, 4, 4, 0, 2, 1, 7, 0, 5, 6, 5, 3, 6, 2, 1, 6, 0, 7, 3, 6, 2, 3, 6, 4, 5, 2, 9, 0, 8, 0, 4, 2, 0, 1, 7, 5, 2, 3, 3, 2, 0, 3, 5, 2, 6, 2, 5, 1, 4, 2, 2, 1, 9, 3, 4, 6, 9, 5, 8, 0, 0, 3, 6, 0, 8, 1, 2, 3, 3, 1, 5, 5, 3, 2, 2, 7, 1, 3, 2, 3, 0, 1, 2, 2, 8, 6, 8, 8, 7, 0, 3, 1, 3, 8, 3, 4, 1, 2, 0, 3, 6, 7, 7, 8, 3, 6, 9, 5, 6, 6, 9, 5, 4, 3, 8, 7, 3, 8, 3, 7, 9, 0, 2, 5, 1, 0, 5, 6, 3, 9, 7, 9, 6, 0, 7, 1, 6, 0, 8, 6, 2, 2, 7, 8, 6, 2, 4, 6, 9, 7, 3, 2, 5, 4, 5, 1, 9, 5, 0, 5, 6, 4, 1, 7, 9, 0, 4, 3, 4, 9, 1, 0, 3, 9, 5, 6, 8, 2, 4, 1, 4, 0, 6, 7, 9, 0, 0, 3, 2, 1, 6, 9, 8, 1, 3, 7, 3, 9, 9, 5, 4, 2, 3, 6, 8, 8, 5, 5, 1, 8, 8, 5, 7, 9, 9, 3, 4, 4, 6, 7, 9, 4, 6, 7, 5, 4, 7, 6, 1, 4, 2, 2, 0, 9, 0, 0, 5, 1, 1, 7, 8, 3, 6, 6, 2, 0, 6, 4, 9, 5, 2, 4, 4, 4, 6, 1, 5, 2, 7, 8, 6, 7, 7, 0, 8, 4, 3, 6, 9, 1, 2, 1, 7, 4, 3, 4, 9, 9, 6, 6, 4, 3, 0, 5, 7, 5, 2, 7, 8, 9, 9, 2, 7, 8, 7, 7, 5, 8, 7, 6, 6, 9, 0, 1, 8, 7, 5, 2, 5, 3, 7, 6, 6, 5, 5, 6, 9, 9, 1, 9, 5, 9, 4, 4, 1, 9, 8, 3, 5, 1, 8, 6, 5, 0, 2, 3, 7, 1, 1, 1, 8, 7, 5, 4, 4, 2, 7, 0, 0, 5, 3, 4, 8, 6, 5, 2, 7, 3, 2, 3, 2, 7, 8, 0, 7, 6, 9, 5, 8, 0, 7, 3, 5, 0, 9, 7, 3, 0, 6, 5, 7, 8, 2, 3, 1, 9, 0, 2, 9, 1, 3, 4, 6, 4, 0, 6, 2, 4, 8, 6, 4, 9, 5, 0, 1, 8, 2, 4, 1, 6, 2, 9, 4, 3, 7, 9, 6, 3, 5, 6, 5, 9, 8, 5, 3, 0, 1, 2, 4, 4, 1, 9, 4, 4, 0, 5, 5, 4, 0, 2, 0, 1, 4, 9, 9, 7, 0, 1, 2, 0, 0, 2, 6, 2, 5, 9, 4, 8, 4, 6, 1, 5, 9, 6, 1, 8, 9, 3, 1, 7, 1, 1, 1, 9, 1, 3, 8, 9, 9, 1, 9, 6, 0, 5, 8, 5, 5, 9, 3, 8, 9, 2, 7, 8, 2, 9, 2, 0, 1, 5, 0, 7, 8, 0, 0, 9, 1, 1, 8, 2, 8, 7, 2, 0, 7, 2, 0, 0, 5, 1, 6, 8, 2, 3, 7, 2, 1, 9, 7, 6, 1, 3, 7, 2, 4, 0, 3, 7, 5, 1, 1, 9, 5, 3, 5, 4, 6, 6, 1, 5, 2, 1, 6, 2, 5, 7, 9, 4, 0, 2, 1, 7, 9, 0, 7, 7, 3, 3, 8, 4, 1, 8, 2, 7, 6, 4, 8, 9, 2, 9, 3, 2, 6, 1, 1, 6, 4, 1, 6, 7, 6, 5, 9, 1, 5, 6, 9, 4, 2, 1, 7, 2, 9, 8, 8, 9, 5, 5, 3, 8, 6, 0, 3, 6, 1, 1, 9, 0, 9, 7, 5, 3, 2, 9, 5, 5, 4, 2, 9, 9, 3, 0, 6, 4, 1, 7, 4, 9, 2, 8, 5, 8, 6, 0, 1, 3, 2, 2, 3, 0, 6, 0, 2, 8, 3, 6, 8, 0, 1, 8, 6, 5, 4, 2, 3, 9, 6, 2, 6, 2, 5, 2, 2, 7, 3, 7, 3, 3, 6, 9, 6, 8, 5, 6, 0, 3, 6, 7, 2, 5, 3, 1, 1, 9, 7, 5, 2, 2, 1, 6, 4, 5, 9, 2, 5, 5, 3, 3, 0, 9, 2, 4, 6, 6, 2, 4, 7, 2, 3, 6, 4, 2, 0, 4, 1, 3, 7, 2, 4, 2, 2, 3, 2, 3, 0, 8, 3, 5, 1, 2, 6, 8, 2, 1, 2, 1, 1, 9, 6, 5, 9, 6, 8, 0, 3, 2, 3, 6, 3, 7, 5, 6, 1, 1, 2, 0, 5, 5, 0, 1, 0, 5, 2, 8, 9, 7, 9, 1, 1, 3, 3, 5, 6, 7, 5, 9, 6, 9, 3, 6, 6, 2, 8, 5, 6, 5, 9, 8, 3, 8, 1, 3, 1, 4, 5, 6, 5, 4, 4, 9, 6, 7, 1, 4, 8, 3, 7, 7, 6, 7, 9, 4, 7, 7, 0, 1, 4, 1, 2, 8, 2, 2, 7, 6, 7, 1, 8, 7, 5, 1, 3, 1, 0, 3, 4, 5, 3, 8, 6, 3, 4, 9, 3, 1, 5, 3, 0, 7, 0, 6, 4, 5, 1, 6, 6, 2, 8, 8, 9, 8, 6, 7, 2, 4, 2, 5, 1, 9, 6, 0, 8, 5, 1, 8, 1, 2, 0, 9, 2, 4, 3, 4, 6, 1, 3, 5, 2, 9, 5, 5, 4, 5, 5, 5, 2, 4, 8, 0, 7, 0, 8, 8, 2, 1, 9, 7, 7, 6, 8, 0, 3, 0, 9, 8, 5, 6, 4, 8, 1, 5, 5, 7, 0, 1, 6, 1, 3, 4, 6, 2, 6, 1, 7, 6, 2, 2, 6, 1, 8, 2, 4, 6, 3, 0, 8, 8, 4, 4, 2, 0, 7, 0, 8, 9, 1, 4, 6, 7, 6, 8, 1, 8, 2, 6, 4, 7, 5, 7, 9, 9, 3, 9, 4, 4, 0, 6, 1, 4, 8, 4, 2, 7, 6, 2, 2, 7, 1, 8, 0, 6, 2, 6, 0, 3, 6, 6, 1, 3, 6, 3, 4, 1, 7, 8, 1, 0, 7, 6, 5, 0, 8, 2, 8, 5, 8, 7, 8, 4, 5, 9, 5, 5, 1, 2, 4, 7, 2, 9, 7, 8, 6, 7, 4, 6, 3, 8, 6, 4, 5, 1, 8, 2, 4, 2, 2, 9, 8, 9, 0, 2, 7, 9, 3, 5, 9, 8, 6, 3, 9, 5, 9, 3, 0, 8, 2, 0, 6, 3, 5, 8, 0, 6, 1, 8, 2, 9, 0, 0, 7, 6, 6, 8, 7, 4, 8, 8, 2, 0, 3, 6, 7, 1, 4, 7, 2, 6, 7, 1, 6, 5, 2, 0, 7, 9, 6, 3, 8, 6, 1, 1, 8, 8, 3, 5, 7, 5, 6, 9, 4, 3, 9, 3, 8, 9, 0, 6, 0, 4, 5, 7, 0, 2, 3, 9, 7, 7, 4, 6, 5, 8, 3, 1, 3, 7, 4, 9, 4, 3, 9, 7, 2, 0, 8, 0, 9, 1, 9, 9, 0, 7, 1, 4, 5, 0, 3, 8, 7, 4, 5, 5, 9, 3, 2, 0, 6, 9, 0, 5, 0, 1, 3, 7, 9, 1, 5, 9, 0, 0, 9, 7, 2, 9, 2, 1, 2, 7, 5, 1, 0, 7, 3, 4, 7, 6, 4, 6, 8, 5, 7, 9, 5, 7, 3, 3, 3, 9, 3, 3, 1, 5, 6, 9, 7, 4, 0, 6, 5, 8, 0, 7, 7, 3, 4, 0, 4, 8, 2, 0, 6, 9, 8, 9, 6, 5, 0, 6, 0, 2, 6, 3, 1, 8, 7, 4, 1, 9, 1, 2, 8, 5, 2, 3, 0, 0, 2, 6, 0, 7, 2, 1, 8, 2, 8, 7, 9, 2, 1, 6, 5, 7, 7, 3, 6, 5, 7, 3, 6, 7, 3, 2, 3, 9, 6, 7, 3, 9, 1, 2, 1, 9, 7, 2, 3, 3, 8, 1, 8, 3, 5, 0, 5, 3, 8, 5, 7, 6, 9, 0, 6, 8, 3, 2, 3, 3, 6, 3, 7, 8, 7, 1, 3, 7, 8, 9, 5, 5, 2, 4, 4, 5, 0, 8, 6, 6, 4, 0, 8, 8, 9, 6, 9, 1, 5, 1, 2, 1, 3, 2, 6, 2, 4, 5, 7, 5, 9, 6, 0, 5, 7, 0, 5, 6, 5, 0, 0, 4, 0, 7, 1, 5, 4, 9, 8, 1, 7, 6, 4, 4, 0, 7, 1, 8, 5, 7, 8, 5, 5, 1, 8, 5, 7, 7, 7, 6, 5, 2, 2, 1, 2, 6, 6, 1, 6, 6, 9, 1, 8, 2, 4, 7, 4, 9, 5, 7, 4, 3, 9, 5, 6, 6, 2, 7, 3, 9, 3, 0, 5, 9, 0, 9, 6, 0, 4, 5, 7, 1, 6, 5, 4, 0, 2, 3, 1, 1, 1, 7, 6, 2, 6, 5, 9, 8, 7, 9, 3, 4, 7, 9, 4, 0, 1, 1, 1, 4, 8, 6, 8, 0, 9, 5, 6, 7, 0, 8, 2, 4, 4, 2, 2, 2, 5, 7, 2, 9, 7, 2, 2, 2, 0, 7, 4, 5, 2, 3, 3, 1, 9, 8, 1, 8, 2, 6, 3, 9, 1, 9, 5, 2, 9, 3, 9, 3, 0, 4, 6, 0, 4, 6, 0, 9, 6, 1, 1, 0, 5, 6, 7, 0, 4, 1, 1, 7, 0, 0, 1, 9, 2, 7, 3, 5, 4, 1, 6, 6, 4, 0, 3, 0, 2, 3, 5, 9, 5, 8, 9, 3, 1, 7, 8, 9, 4, 1, 1, 7, 0, 7, 0, 0, 9, 6, 0, 4, 9, 2, 8, 5, 5, 9, 3, 3, 5, 7, 1, 3, 3, 3, 5, 6, 6, 4, 1, 1, 9, 1, 4, 0, 6, 2, 2, 6, 6, 0, 3, 5, 0, 3, 0, 5, 1, 1, 8, 2, 5, 3, 5, 1, 2, 6, 3, 1, 2, 7, 9, 6, 3, 8, 5, 2, 6, 9, 1, 5, 7, 7, 6, 2, 2, 7, 5, 4, 1, 5, 7, 7, 8, 2, 8, 3, 7, 4, 6, 8, 9, 9, 0, 6, 7, 3, 1, 0, 8, 2, 4, 4, 4, 7, 1, 8, 2, 0, 3, 2, 0, 6, 9, 8, 0, 0, 8, 3, 9, 2, 1, 5, 6, 5, 0, 8, 4, 2, 5, 9, 3, 0, 4, 7, 8, 5, 9, 5, 0, 0, 6, 9, 7, 2, 9, 2, 2, 2, 4, 0, 1, 4, 3, 9, 4, 0, 3, 4, 2, 6, 9, 4, 7, 2, 5, 4, 3, 4, 5, 7, 0, 2, 1, 1, 8, 7, 1, 2, 0, 5, 2, 3, 8, 8, 8, 9, 3, 6, 9, 2, 0, 3, 6, 3, 2, 8, 8, 5, 9, 6, 7, 1, 9, 0, 3, 3, 3, 2, 3, 9, 9, 5, 3, 0, 4, 2, 4, 6, 4, 5, 2, 4, 9, 8, 5, 8, 1, 4, 1, 4, 8, 9, 2, 6, 2, 3, 5, 6, 3, 5, 2, 5, 3, 9, 1, 2, 9, 8, 9, 3, 8, 8, 5, 5, 8, 4, 4, 0, 8, 3, 0, 4, 9, 6, 1, 0, 8, 1, 6, 0, 9, 2, 6, 3, 6, 7, 4, 6, 4, 3, 8, 5, 1, 8, 3, 4, 4, 5, 6, 3, 7, 8, 7, 4, 2, 2, 2, 9, 3, 5, 0, 9, 9, 0, 1, 3, 7, 1, 9, 6, 7, 2, 6, 9, 5, 7, 9, 4, 2, 8, 3, 1, 7, 8, 8, 6, 8, 0, 5, 5, 7, 1, 9, 6, 2, 1, 5, 1, 9, 6, 1, 6, 3, 6, 5, 3, 9, 3, 5, 4, 0, 6, 9, 9, 4, 2, 3, 8, 5, 8, 3, 6, 4, 1, 4, 9, 5, 8, 9, 7, 3, 6, 9, 5, 9, 1, 1, 2, 8, 4, 1, 4, 6, 9, 9, 8, 9, 7, 4, 6, 1, 9, 9, 1, 9, 6, 2, 3, 7, 3, 1, 3, 6, 8, 3, 4, 3, 3, 8, 3, 7, 1, 0, 3, 8, 4, 7, 9, 8, 0, 3, 0, 4, 5, 7, 0, 7, 3, 5, 0, 2, 6, 3, 3, 0, 0, 4, 4, 4, 4, 6, 9, 9, 0, 7, 4, 0, 2, 2, 1, 9, 5, 9, 9, 0, 5, 8, 6, 7, 3, 9, 5, 2, 8, 9, 5, 8, 0, 0, 3, 0, 6, 3, 7, 8, 0, 1, 2, 2, 6, 1, 1, 2, 2, 3, 5, 4, 3, 9, 3, 4, 2, 3, 7, 2, 9, 2, 1, 6, 7, 5, 5, 9, 2, 6, 9, 7, 9, 9, 4, 1, 8, 3, 3, 8, 0, 8, 7, 0, 7, 7, 9, 6, 4, 0, 3, 7, 2, 1, 5, 2, 0, 5, 8, 6, 7, 0, 1, 0, 5, 6, 2, 1, 4, 1, 8, 7, 9, 9, 7, 3, 6, 2, 2, 7, 6, 3, 9, 6, 3, 9, 5, 1, 0, 7, 8, 7, 4, 3, 5, 7, 2, 7, 2, 8, 7, 5, 4, 5, 9, 6, 3, 5, 0, 2, 5, 5, 3, 1, 9, 3, 7, 1, 0, 3, 4, 4, 2, 5, 7, 2, 1, 1, 7, 7, 9, 0, 1, 6, 8, 5, 2, 5, 3, 7, 8, 7, 7, 0, 8, 5, 6, 0, 5, 5, 6, 7, 7, 9, 7, 1, 0, 0, 8, 0, 4, 0, 6, 4, 5, 5, 0, 5, 3, 0, 4, 5, 0, 7, 1, 8, 7, 1, 3, 2, 0, 4, 7, 3, 7, 4, 8, 6, 3, 9, 4, 0, 3, 0, 8, 7, 3, 3, 0, 5, 6, 1, 5, 0, 9, 9, 1, 3, 0, 6, 1, 6, 6, 5, 7, 2, 4, 0, 9, 2, 6, 8, 2, 8, 3, 7, 7, 3, 3, 9, 5, 7, 0, 0, 9, 4, 5, 0, 7, 2, 9, 5, 5, 8, 7, 4, 9, 5, 6, 3, 6, 3, 6, 4, 7, 6, 4, 2, 5, 4, 1, 5, 7, 9, 7, 3, 9, 8, 8, 5, 1, 9, 6, 1, 6, 6, 8, 0, 7, 6, 9, 8, 8, 4, 3, 4, 1, 7, 7, 1, 1, 6, 7, 0, 3, 2, 8, 7, 8, 7, 7, 1, 1, 3, 8, 7, 9, 9, 1, 0, 6, 3, 4, 4, 4, 7, 1, 4, 0, 1, 5, 8, 4, 9, 2, 4, 2, 4, 0, 7, 7, 6, 7, 1, 4, 0, 8, 3, 3, 5, 6, 0, 8, 3, 0, 2, 0, 1, 8, 4, 0, 2, 7, 5, 4, 4, 5, 2, 1, 6, 4, 4, 5, 8, 0, 7, 3, 6, 6, 7, 4, 2, 3, 6, 0, 2, 6, 3, 6, 5, 1, 7, 5, 2, 5, 7, 7, 9, 9, 9, 2, 0, 9, 2, 0, 5, 5, 5, 0, 5, 6, 6, 6, 0, 6, 9, 9, 6, 4, 5, 4, 0, 1, 0, 8, 9, 5, 7, 3, 0, 6, 4, 1, 6, 8, 1, 8, 2, 6, 6, 9, 8, 5, 1, 2, 4, 0, 9, 0, 8, 8, 0, 7, 3, 6, 9, 8, 9, 9, 6, 9, 6, 3, 3, 2, 5, 0, 8, 0, 4, 6, 3, 0, 0, 0, 3, 3, 5, 9, 4, 7, 1, 5, 4, 1, 6, 1, 7, 9, 4, 6, 4, 5, 2, 9, 2, 9, 8, 8, 7, 4, 2, 3, 9, 3, 6, 7, 0, 2, 7, 0, 6, 1, 0, 5, 7, 0, 5, 9, 2, 3, 2, 8, 5, 8, 1, 9, 6, 7, 6, 7, 3, 6, 2, 5, 6, 8, 8, 8, 7, 4, 6, 5, 1, 5, 9, 6, 0, 9, 5, 8, 5, 7, 3, 9, 8, 3, 4, 6, 5, 7, 5, 1, 1, 5, 4, 1, 8, 5, 8, 4, 9, 6, 3, 3, 4, 6, 3, 4, 1, 1, 4, 7, 8, 5, 0, 2, 8, 8, 8, 6, 7, 7, 1, 2, 6, 6, 1, 6, 0, 2, 5, 8, 2, 4, 6, 6, 1, 5, 5, 4, 4, 0, 5, 4, 7, 0, 3, 4, 5, 5, 7, 5, 7, 0, 1, 1, 9, 7, 5, 0, 1, 9, 6, 3, 6, 5, 4, 0, 4, 5, 7, 2, 2, 2, 0, 5, 6, 2, 3, 7, 8, 6, 2, 2, 1, 1, 7, 5, 2, 5, 3, 6, 8, 5, 8, 8, 6, 1, 2, 3, 7, 6, 9, 0, 4, 5, 2, 3, 4, 9, 5, 5, 9, 4, 6, 4, 1, 1, 8, 9, 4, 4, 2, 3, 3, 0, 7, 1, 8, 8, 5, 0, 2, 7, 7, 1, 0, 1, 4, 1, 9, 0, 4, 1, 1, 0, 7, 3, 7, 3, 9, 0, 1, 8, 9, 6, 6, 6, 0, 9, 1, 0, 1, 2, 7, 8, 0, 5, 0, 8, 2, 5, 5, 1, 5, 9, 1, 8, 5, 3, 1, 2, 6, 0, 7, 3, 5, 4, 8, 0, 7, 1, 6, 3, 9, 8, 3, 8, 7, 7, 9, 7, 0, 9, 4, 0, 9, 6, 1, 9, 8, 6, 3, 7, 6, 9, 5, 4, 7, 1, 2, 1, 2, 3, 9, 2, 0, 5, 0, 0, 5, 5, 4, 0, 9, 9, 1, 3, 7, 7, 7, 4, 5, 1, 4, 0, 6, 3, 8, 9, 8, 4, 1, 0, 8, 3, 9, 8, 8, 7, 8, 3, 3, 0, 7, 6, 8, 6, 9, 9, 4, 7, 7, 6, 6, 1, 5, 3, 2, 0, 5, 5, 0, 8, 2, 7, 8, 9, 4, 2, 1, 7, 6, 6, 4, 9, 4, 3, 6, 0, 7, 7, 8, 0, 9, 1, 2, 6, 2, 9, 7, 1, 9, 7, 3, 3, 1, 2, 3, 5, 6, 3, 7, 4, 1, 4, 4, 6, 7, 5, 4, 6, 7, 7, 8, 1, 8, 1, 2, 2, 5, 5, 0, 1, 4, 6, 0, 1, 2, 0, 7, 6, 8, 8, 2, 8, 2, 5, 0, 0, 1, 7, 9, 7, 4, 5, 4, 0, 2, 8, 7, 1, 0, 8, 7, 8, 8, 6, 8, 2, 8, 0, 1, 5, 3, 8, 1, 7, 6, 9, 3, 7, 9, 5, 1, 8, 3, 0, 9, 3, 6, 2, 4, 2, 7, 6, 6, 9, 8, 8, 1, 5, 7, 7, 1, 7, 5, 4, 1, 0, 7, 8, 7, 3, 7, 0, 6, 5, 5, 2, 6, 7, 2, 6, 3, 2, 0, 4, 7, 8, 6, 6, 0, 1, 5, 3, 8, 3, 9, 7, 1, 7, 1, 0, 4, 8, 5, 0, 0, 6, 4, 1, 1, 2, 9, 0, 8, 2, 1, 3, 2, 7, 0, 1, 8, 5, 7, 0, 0, 5, 0, 4, 6, 2, 2, 5, 4, 1, 8, 2, 1, 5, 3, 8, 8, 9, 5, 0, 1, 8, 1, 4, 9, 0, 3, 1, 1, 4, 7, 8, 3, 4, 9, 6, 2, 8, 4, 5, 6, 9, 4, 7, 5, 0, 3, 6, 2, 5, 7, 3, 7, 4, 6, 6, 9, 3, 6, 5, 4, 1, 2, 1, 8, 1, 9, 4, 8, 9, 9, 3, 3, 7, 0, 0, 6, 1, 0, 6, 6, 4, 2, 2, 7, 0, 6, 0, 4, 0, 0, 1, 6, 6, 6, 5, 7, 9, 6, 6, 3, 7, 5, 1, 6, 7, 7, 5, 8, 0, 9, 1, 6, 1, 4, 9, 1, 6, 5, 3, 3, 0, 7, 1, 6, 7, 9, 3, 7, 4, 4, 4, 6, 7, 2, 7, 6, 1, 7, 8, 8, 7, 0, 1, 6, 0, 9, 7, 7, 9, 1, 2, 0, 4, 7, 4, 3, 3, 1, 7, 5, 7, 6, 9, 0, 0, 3, 1, 4, 7, 9, 3, 6, 7, 8, 4, 7, 4, 0, 8, 3, 0, 1, 7, 9, 6, 9, 1, 6, 6, 7, 1, 0, 6, 3, 7, 3, 1, 8, 2, 5, 9, 5, 8, 1, 0, 9, 6, 6, 4, 1, 1, 4, 7, 3, 0, 7, 5, 8, 9, 5, 4, 0, 4, 5, 2, 0, 8, 3, 8, 1, 1, 2, 4, 8, 1, 6, 8, 1, 8, 5, 3, 2, 7, 0, 2, 4, 9, 6, 2, 4, 9, 9, 6, 9, 9, 6, 7, 3, 4, 3, 3, 9, 6, 7, 7, 8, 1, 1, 6, 6, 5, 7, 9, 4, 7, 4, 7, 0, 8, 6, 9, 7, 7, 7, 5, 0, 1, 2, 3, 4, 6, 2, 0, 9, 8, 7, 8, 4, 2, 8, 9, 9, 1, 6, 7, 9, 9, 0, 1, 5, 1, 1, 3, 6, 7, 9, 8, 3, 3, 8, 5, 2, 4, 3, 6, 8, 0, 9, 6, 6, 9, 0, 1, 6, 8, 1, 8, 2, 1, 8, 1, 7, 1, 9, 1, 8, 3, 9, 4, 1, 0, 8, 4, 4, 6, 8, 2, 2, 5, 5, 0, 2, 0, 9, 8, 0, 1, 0, 0, 4, 8, 3, 4, 7, 7, 5, 9, 2, 5, 4, 6, 9, 9, 4, 8, 7, 2, 9, 1, 4, 6, 2, 8, 0, 1, 9, 2, 1, 6, 7, 1, 8, 5, 6, 2, 6, 4, 1, 1, 9, 8, 8, 9, 1, 2, 6, 0, 5, 2, 5, 6, 8, 3, 2, 1, 8, 6, 1, 5, 0, 3, 3, 1, 9, 2, 8, 7, 8, 2, 3, 6, 2, 5, 6, 9, 0, 7, 1, 1, 7, 9, 0, 1, 6, 7, 5, 4, 6, 3, 3, 6, 1, 0, 0, 9, 9, 8, 2, 9, 6, 2, 5, 4, 7, 2, 6, 5, 6, 0, 9, 3, 7, 0, 6, 3, 5, 6, 4, 3, 4, 6, 9, 8, 8, 0, 2, 0, 0, 3, 9, 2, 2, 8, 1, 9, 2, 4, 9, 0, 0, 2, 0, 6, 7, 0, 5, 0, 6, 3, 1, 3, 0, 9, 5, 4, 3, 7, 0, 6, 6, 9, 0, 7, 6, 5, 6, 8, 2, 1, 0, 3, 6, 5, 9, 3, 5, 0, 2, 0, 7, 4, 0, 8, 3, 3, 8, 0, 3, 8, 9, 4, 0, 8, 8, 3, 8, 6, 7, 7, 0, 3, 6, 8, 1, 5, 9, 2, 6, 8, 9, 4, 1, 0, 5, 5, 4, 2, 8, 2, 4, 6, 7, 4, 5, 3, 7, 4, 5, 8, 8, 3, 9, 5, 0, 6, 8, 6, 3, 6, 6, 9, 2, 5, 6, 5, 0, 3, 1, 7, 8, 6, 2, 7, 3, 3, 8, 0, 0, 9, 2, 8, 5, 4, 9, 6, 6, 4, 6, 0, 1, 1, 9, 2, 8, 2, 1, 9, 5, 8, 4, 8, 2, 3, 5, 6, 6, 4, 9, 6, 6, 2, 9, 8, 6, 5, 9, 4, 4, 5, 2, 1, 6, 7, 2, 4, 2, 7, 2, 6, 2, 6, 1, 5, 4, 0, 1, 9, 7, 5, 6, 5, 6, 9, 6, 6, 3, 5, 4, 8, 9, 0, 9, 5, 5, 7, 7, 9, 3, 3, 8, 4, 3, 9, 3, 1, 0, 2, 5, 3, 8, 7, 9, 7, 7, 7, 9, 2, 0, 0, 6, 7, 6, 1, 8, 0, 3, 8, 5, 0, 5, 6, 9, 1, 1, 2, 2, 8, 9, 7, 7, 5, 8, 6, 1, 4, 0, 1, 8, 4, 3, 4, 7, 9, 3, 7, 5, 5, 0, 9, 1, 4, 1, 6, 7, 8, 6, 9, 3, 4, 0, 1, 7, 8, 1, 6, 5, 9, 0, 0, 9, 5, 3, 8, 8, 2, 8, 5, 7, 0, 7, 0, 9, 6, 9, 2, 9, 4, 8, 5, 2, 0, 1, 6, 6, 6, 7, 4, 1, 7, 7, 8, 5, 7, 0, 6, 4, 2, 1, 6, 8, 0, 0, 2, 7, 5, 9, 1, 0, 4, 3, 7, 0, 6, 3, 1, 8, 4, 7, 2, 5, 9, 3, 1, 5, 1, 9, 2, 9, 6, 2, 2, 1, 8, 3, 9, 8, 4, 6, 4, 8, 4, 5, 1, 6, 2, 6, 4, 1, 8, 5, 7, 7, 7, 6, 5, 5, 7, 9, 9, 8, 2, 8, 2, 1, 3, 3, 2, 8, 9, 4, 6, 7, 0, 6, 8, 1, 6, 6, 1, 6, 5, 4, 9, 7, 2, 8, 7, 3, 7, 6, 1, 2, 1, 7, 4, 8, 8, 7, 0, 2, 3, 0, 1, 6, 6, 5, 0, 1, 5, 5, 2, 5, 1, 7, 8, 7, 1, 2, 9, 0, 9, 6, 1, 9, 0, 4, 6, 6, 5, 9, 9, 4, 2, 7, 1, 8, 1, 4, 2, 3, 7, 8, 4, 0, 4, 5, 1, 2, 9, 3, 5, 8, 0, 1, 9, 6, 7, 3, 7, 4, 4, 6, 6, 2, 1, 3, 3, 0, 7, 0, 5, 9, 8, 9, 3, 7, 9, 9, 6, 8, 8, 0, 1, 4, 4, 0, 6, 8, 1, 2, 1, 0, 3, 2, 7, 8, 7, 0, 4, 3, 6, 4, 5, 7, 7, 4, 5, 2, 4, 5, 0, 1, 7, 6, 7, 6, 0, 0, 0, 5, 1, 1, 2, 4, 6, 9, 8, 1, 0, 1, 6, 8, 5, 4, 0, 4, 0, 4, 9, 3, 8, 5, 2, 8, 6, 2, 8, 6, 4, 4, 0, 8, 7, 5, 2, 8, 9, 2, 9, 5, 9, 2, 1, 0, 4, 1, 7, 7, 1, 7, 3, 5, 8, 7, 2, 9, 1, 5, 6, 0, 6, 0, 1, 2, 4, 4, 8, 0, 3, 2, 6, 3, 5, 1, 6, 3, 0, 5, 1, 8, 3, 1, 8, 7, 8, 4, 2, 0, 0, 7, 8, 1, 3, 9, 0, 2, 8, 1, 4, 8, 8, 3, 0, 8, 5, 7, 5, 4, 7, 7, 6, 1, 8, 1, 7, 7, 0, 3, 1, 6, 5, 5, 3, 8, 9, 4, 0, 9, 5, 1, 7, 6, 1, 5, 2, 8, 3, 3, 8, 7, 1, 3, 4, 4, 7, 7, 0, 6, 7, 3, 3, 7, 8, 8, 2, 9, 6, 9, 7, 1, 2, 9, 3, 0, 5, 5, 6, 9, 1, 4, 1, 5, 6, 4, 1, 4, 0, 3, 3, 6, 3, 0, 8, 4, 7, 5, 5, 7, 0, 7, 9, 4, 4, 2, 9, 1, 7, 1, 8, 8, 8, 5, 8, 3, 8, 9, 6, 0, 0, 2, 1, 8, 4, 4, 0, 0, 9, 5, 3, 1, 5, 1, 3, 5, 0, 6, 2, 1, 5, 3, 0, 8, 2, 9, 0, 9, 0, 0, 4, 1, 2, 6, 4, 5, 1, 4, 9, 7, 8, 2, 6, 6, 9, 7, 8, 5, 0, 9, 0, 0, 0, 8, 1, 3, 2, 7, 5, 8, 2, 5, 6, 8, 9, 1, 9, 1, 8, 1, 5]\n"
          ],
          "name": "stdout"
        }
      ]
    },
    {
      "cell_type": "code",
      "metadata": {
        "colab": {
          "base_uri": "https://localhost:8080/"
        },
        "id": "XA5zLMXv4NDT",
        "outputId": "42f65283-5e63-4457-9b9a-0022e902fcad"
      },
      "source": [
        "mat = confusion_matrix(test_labels, test_labels_pred)\n",
        "print(mat)"
      ],
      "execution_count": null,
      "outputs": [
        {
          "output_type": "stream",
          "text": [
            "[[851   1   9  13   2   1 114   0   9   0]\n",
            " [  5 969   1  18   2   0   5   0   0   0]\n",
            " [ 10   1 774  10  81   0 121   0   3   0]\n",
            " [ 28   4   8 873  40   0  41   0   6   0]\n",
            " [  1   0 113  23 784   0  76   0   3   0]\n",
            " [  0   0   0   1   0 963   0  22   1  13]\n",
            " [135   0  72  20  61   0 705   0   7   0]\n",
            " [  0   0   0   0   0  22   0 966   0  12]\n",
            " [  2   0   0   3   2   3   9   3 978   0]\n",
            " [  0   0   0   0   0  10   1  58   0 931]]\n"
          ],
          "name": "stdout"
        }
      ]
    },
    {
      "cell_type": "markdown",
      "metadata": {
        "id": "TDq-079W4ypV"
      },
      "source": [
        "There's a lot of mistakes being made with Shirt category, the mistake primarily consist of labelling shirt as either T-Shirt, Pullover, Coat categories."
      ]
    }
  ]
}
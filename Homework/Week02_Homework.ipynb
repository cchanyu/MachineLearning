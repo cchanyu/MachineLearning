{
  "nbformat": 4,
  "nbformat_minor": 0,
  "metadata": {
    "colab": {
      "name": "Week02_Homework.ipynb",
      "provenance": [],
      "collapsed_sections": []
    },
    "kernelspec": {
      "name": "python3",
      "display_name": "Python 3"
    }
  },
  "cells": [
    {
      "cell_type": "markdown",
      "metadata": {
        "id": "M1uRcBBCCIY1"
      },
      "source": [
        "Name: Chanyu Choung\r\n",
        "\r\n",
        "Class: CMP414\r\n",
        "\r\n",
        "Homework due date: Feb 17th, 2021 (Wednesday)\r\n",
        "\r\n",
        "# Week 2 Homework\r\n",
        "Build a linear model (height = m * year + b) to describe the trend of height increase for **United Kingdom** between 1900 and 1980. Compute the mean square error of your model, and display the model line together with the data points."
      ]
    },
    {
      "cell_type": "markdown",
      "metadata": {
        "id": "mIir7uKPMWpJ"
      },
      "source": [
        "- Linear model: ($height = m \\cdot year + b$) (y = mx + b)"
      ]
    },
    {
      "cell_type": "markdown",
      "metadata": {
        "id": "NAH7fnQVCmkl"
      },
      "source": [
        "- Metric on closeness: **mean squared error (MSE):**\r\n",
        "$$MSE = \\frac{1}{\\textit{number of data}}\\sum_{\\text{(x, y) in dataset}}(mx + b - y)^2$$\r\n"
      ]
    },
    {
      "cell_type": "code",
      "metadata": {
        "id": "CB32KprQCHtY"
      },
      "source": [
        "import numpy as np  # scientific computation\r\n",
        "import pandas as pd  # data handling\r\n",
        "import matplotlib.pyplot as plt  # plotting\r\n",
        "\r\n",
        "# The following \"magic command\" allows figures to be displayed automatically in notebook\r\n",
        "%matplotlib inline\r\n",
        "raw_data = pd.read_csv(\"average-height-of-men-for-selected-countries.csv\", sep=',')"
      ],
      "execution_count": 4,
      "outputs": []
    },
    {
      "cell_type": "code",
      "metadata": {
        "colab": {
          "base_uri": "https://localhost:8080/",
          "height": 469
        },
        "id": "XGwfJ2nWFxXE",
        "outputId": "130a7224-cd40-4eae-8fad-298904f4e004"
      },
      "source": [
        "# Filtering the dataset\r\n",
        "filter = (raw_data[\"Entity\"] == \"United Kingdom\") & (raw_data['Year'] >= 1900)\r\n",
        "data = raw_data[filter]\r\n",
        "\r\n",
        "# Cleaning the dataset\r\n",
        "data = data.set_index([\"Year\"]) # Setting year tab as index tab\r\n",
        "data.drop(['Entity', 'Code'], axis=1, inplace=True) # Deleting Entity and Code tab\r\n",
        "data = data.rename(columns={'Human Height (University of Tuebingen (2015))': \"Height(cm)\"}) # Renaming Heights tab\r\n",
        "\r\n",
        "# Displaying the dataset\r\n",
        "print(data.head(10))\r\n",
        "heights = data['Height(cm)']\r\n",
        "years = data.index\r\n",
        "plt.plot(years, heights, 'g.')"
      ],
      "execution_count": 70,
      "outputs": [
        {
          "output_type": "stream",
          "text": [
            "      Height(cm)\n",
            "Year            \n",
            "1900       169.4\n",
            "1910       170.9\n",
            "1920       171.0\n",
            "1930       173.9\n",
            "1940       174.9\n",
            "1950       176.0\n",
            "1960       176.9\n",
            "1970       177.1\n",
            "1980       176.8\n"
          ],
          "name": "stdout"
        },
        {
          "output_type": "execute_result",
          "data": {
            "text/plain": [
              "[<matplotlib.lines.Line2D at 0x7f23cf456320>]"
            ]
          },
          "metadata": {
            "tags": []
          },
          "execution_count": 70
        },
        {
          "output_type": "display_data",
          "data": {
            "image/png": "[encoded data removed]",
            "text/plain": [
              "<Figure size 432x288 with 1 Axes>"
            ]
          },
          "metadata": {
            "tags": [],
            "needs_background": "light"
          }
        }
      ]
    },
    {
      "cell_type": "code",
      "metadata": {
        "colab": {
          "base_uri": "https://localhost:8080/",
          "height": 350
        },
        "id": "voiP0KeCi4oV",
        "outputId": "9d5dcf6e-5dc4-4037-f7b1-fe918ddd0c73"
      },
      "source": [
        "m2 = 0.0925\r\n",
        "b2 = -5.25\r\n",
        "\r\n",
        "# Finding the value of M\r\n",
        "m = (176.8 - 169.4) / (1980 - 1900)\r\n",
        "print(\"Slope(m)(RED):\", m)\r\n",
        "print(\"Slope(m)(BLUE):\", m2)\r\n",
        "\r\n",
        "# Finding the value of B\r\n",
        "height = 169.4\r\n",
        "year = 1900\r\n",
        "b = height - m * year\r\n",
        "print(\"Y-Intercept(b)(RED):\", b)\r\n",
        "print(\"Y-Intercept(b)(BLUE):\", b2)\r\n",
        "\r\n",
        "# plot the new model\r\n",
        "years = np.array([1900,1980])\r\n",
        "heights = m * years + b\r\n",
        "\r\n",
        "plt.plot(years, heights, 'r-')\r\n",
        "plt.plot(data.index, data['Height(cm)'],'g.')\r\n",
        "\r\n",
        "# plot the second line on this graph\r\n",
        "heights2 = m2 * years + b2\r\n",
        "plt.plot(years, heights2, 'b-')"
      ],
      "execution_count": 79,
      "outputs": [
        {
          "output_type": "stream",
          "text": [
            "Slope(m)(RED): 0.09250000000000007\n",
            "Slope(m)(BLUE): 0.0925\n",
            "Y-Intercept(b)(RED): -6.350000000000136\n",
            "Y-Intercept(b)(BLUE): -5.25\n"
          ],
          "name": "stdout"
        },
        {
          "output_type": "execute_result",
          "data": {
            "text/plain": [
              "[<matplotlib.lines.Line2D at 0x7f23cf3d8c50>]"
            ]
          },
          "metadata": {
            "tags": []
          },
          "execution_count": 79
        },
        {
          "output_type": "display_data",
          "data": {
            "image/png": "[encoded data removed]",
            "text/plain": [
              "<Figure size 432x288 with 1 Axes>"
            ]
          },
          "metadata": {
            "tags": [],
            "needs_background": "light"
          }
        }
      ]
    },
    {
      "cell_type": "markdown",
      "metadata": {
        "id": "updMbqSnqMkv"
      },
      "source": [
        "The heights model (UK) is linearly increasing over time. "
      ]
    },
    {
      "cell_type": "code",
      "metadata": {
        "colab": {
          "base_uri": "https://localhost:8080/"
        },
        "id": "BY_LHBtilYnx",
        "outputId": "d1fc63f3-fd38-4d8e-b7a9-2baa51339f70"
      },
      "source": [
        "# Calculate errors for each year\r\n",
        "heights = [169.4, 170.9, 171.0, 173.9, 174.9, 176.0, 176.9, 177.1, 176.8]\r\n",
        "errors = []\r\n",
        "errors2 = []\r\n",
        "\r\n",
        "for i, year in enumerate(data.index):\r\n",
        "    # For the data point:\r\n",
        "    x = year\r\n",
        "    y = heights[i]\r\n",
        "\r\n",
        "    # Calculate the squared error for that year\r\n",
        "    prediction = m * x + b\r\n",
        "    error = (prediction - y) ** 2\r\n",
        "    prediction2 = m2 * x + b2\r\n",
        "    error2 = (prediction2 - y) ** 2\r\n",
        "\r\n",
        "    # append the error to the error list\r\n",
        "    errors.append(error)\r\n",
        "    errors2.append(error2)\r\n",
        "\r\n",
        "# Now you should have a list of errors.\r\n",
        "print(\"List of Errors(RED):\",errors)\r\n",
        "print(\"List of Errors(BLUE):\",errors2)\r\n",
        "\r\n",
        "# Calculate the mean squared error, use np.mean() function\r\n",
        "print(\"Mean Squared Error(RED):\",np.mean(errors))\r\n",
        "print(\"Mean Squared Error(BLUE):\",np.mean(errors2))\r\n"
      ],
      "execution_count": 78,
      "outputs": [
        {
          "output_type": "stream",
          "text": [
            "List of Errors(RED): [0.0, 0.3306250000000196, 0.0625, 2.9756250000000786, 3.240000000000041, 3.9006249999999776, 3.8025000000000664, 1.500624999999986, 0.0]\n",
            "List of Errors(BLUE): [1.2099999999999875, 0.27562500000000595, 1.8224999999999847, 0.390625, 0.49000000000002386, 0.765625, 0.7224999999999904, 0.015625, 1.2099999999999875]\n",
            "Mean Squared Error(RED): 1.7569444444444633\n",
            "Mean Squared Error(BLUE): 0.7669444444444422\n"
          ],
          "name": "stdout"
        }
      ]
    }
  ]
}
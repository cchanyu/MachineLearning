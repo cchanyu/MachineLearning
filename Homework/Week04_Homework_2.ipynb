{
  "nbformat": 4,
  "nbformat_minor": 0,
  "metadata": {
    "colab": {
      "name": "Week04_Homework_2.ipynb",
      "provenance": [],
      "collapsed_sections": []
    },
    "kernelspec": {
      "name": "python3",
      "display_name": "Python 3"
    }
  },
  "cells": [
    {
      "cell_type": "markdown",
      "metadata": {
        "id": "n-dW9O6GJ37y"
      },
      "source": [
        "Name: Chanyu Choung\r\n",
        "\r\n",
        "Class: CMP414\r\n",
        "\r\n",
        "Homework due date: Mar 1st, 2021 (Monday)\r\n",
        "\r\n",
        "# Week 4 Homework\r\n",
        "Evaluate k-nearest-neighbor method with different k values on the dataset used in Week 03 notebook (Source: https://raw.githubusercontent.com/empathy87/The-Elements-of-Statistical-Learning-Python-Notebooks/master/data/mixture.txt)\r\n",
        "\r\n",
        "1. Load the data as a Pandas data frame.\r\n",
        "\r\n",
        "2. Split the data into 80% training data and 20% test data.\r\n",
        "\r\n",
        "3. Build three k-nearest-neighbor model with k = 1, 5, 25, respectively.\r\n",
        "\r\n",
        "4. Train the models on the training set, and obtain the model predictions on the test set.\r\n",
        "\r\n",
        "5. Calculate the test accuracy score for each model. Which k value give the best accuracy score?\r\n"
      ]
    },
    {
      "cell_type": "code",
      "metadata": {
        "id": "ZWN0fdfCKqLi"
      },
      "source": [
        "# Importing the libraries\r\n",
        "import numpy as np\r\n",
        "import pandas as pd\r\n",
        "import matplotlib.pyplot as plt\r\n",
        "%matplotlib inline\r\n",
        "\r\n",
        "# Importing the data frame\r\n",
        "url = \"https://raw.githubusercontent.com/empathy87/The-Elements-of-Statistical-Learning-Python-Notebooks/master/data/mixture.txt\"\r\n",
        "raw_data = pd.read_csv(url, sep=',')"
      ],
      "execution_count": 22,
      "outputs": []
    },
    {
      "cell_type": "code",
      "metadata": {
        "id": "APnYL4WSLnfs"
      },
      "source": [
        "# Split the data into 80% training data and 20% test data.\r\n",
        "from sklearn.model_selection import train_test_split\r\n",
        "training_data, test_data = train_test_split(raw_data, test_size=0.2)\r\n",
        "test_data = test_data.copy()\r\n",
        "input_cols = ['x1', 'x2']"
      ],
      "execution_count": 23,
      "outputs": []
    },
    {
      "cell_type": "code",
      "metadata": {
        "id": "nIyAP1hBL-6O"
      },
      "source": [
        "# Build three k-nearest-neighbor model with k = 1, 5, 25, respectively.\r\n",
        "from sklearn.neighbors import KNeighborsClassifier\r\n",
        "from sklearn.metrics import accuracy_score\r\n",
        "\r\n",
        "def use_knn(data, num):\r\n",
        "    # kNN Model\r\n",
        "    model_3nn = KNeighborsClassifier(n_neighbors=num)\r\n",
        "    model_3nn.fit(data[input_cols], data['y'])\r\n",
        "\r\n",
        "    # Use kNN model to predict on 10,000 points\r\n",
        "    test_data['prediction'] = model_3nn.predict(test_data[input_cols])\r\n",
        "    print(test_data.head())\r\n",
        "\r\n",
        "    # Accuracy score on test model\r\n",
        "    print(\"Accuracy:\",accuracy_score(test_data['y'], test_data['prediction']))\r\n",
        "        \r\n",
        "    return model_3nn"
      ],
      "execution_count": 24,
      "outputs": []
    },
    {
      "cell_type": "code",
      "metadata": {
        "colab": {
          "base_uri": "https://localhost:8080/"
        },
        "id": "6GMbxmmxwR17",
        "outputId": "87ac613f-bfd6-4570-cb13-cadebab8b0f0"
      },
      "source": [
        "# kNN model with 1 neighbor using training data\r\n",
        "kNN1 = use_knn(training_data, 1)\r\n",
        "print(kNN1,'\\n')\r\n",
        "\r\n",
        "# kNN model with 5 neighbor using training data\r\n",
        "kNN2 = use_knn(training_data, 5)\r\n",
        "print(kNN2,'\\n')\r\n",
        "\r\n",
        "# kNN model with 25 neighbor using training data\r\n",
        "kNN3 = use_knn(training_data, 25)\r\n",
        "print(kNN3,'\\n')"
      ],
      "execution_count": 25,
      "outputs": [
        {
          "output_type": "stream",
          "text": [
            "           x1        x2  y  prediction\n",
            "189 -1.162763  1.250971  1           0\n",
            "87   0.574291 -0.454657  0           1\n",
            "89   2.624578 -1.406259  0           0\n",
            "109  1.238770  1.052236  1           1\n",
            "86  -0.074079  0.919702  0           0\n",
            "Accuracy: 0.675\n",
            "KNeighborsClassifier(algorithm='auto', leaf_size=30, metric='minkowski',\n",
            "                     metric_params=None, n_jobs=None, n_neighbors=1, p=2,\n",
            "                     weights='uniform') \n",
            "\n",
            "           x1        x2  y  prediction\n",
            "189 -1.162763  1.250971  1           0\n",
            "87   0.574291 -0.454657  0           0\n",
            "89   2.624578 -1.406259  0           0\n",
            "109  1.238770  1.052236  1           1\n",
            "86  -0.074079  0.919702  0           1\n",
            "Accuracy: 0.75\n",
            "KNeighborsClassifier(algorithm='auto', leaf_size=30, metric='minkowski',\n",
            "                     metric_params=None, n_jobs=None, n_neighbors=5, p=2,\n",
            "                     weights='uniform') \n",
            "\n",
            "           x1        x2  y  prediction\n",
            "189 -1.162763  1.250971  1           1\n",
            "87   0.574291 -0.454657  0           0\n",
            "89   2.624578 -1.406259  0           0\n",
            "109  1.238770  1.052236  1           1\n",
            "86  -0.074079  0.919702  0           1\n",
            "Accuracy: 0.8\n",
            "KNeighborsClassifier(algorithm='auto', leaf_size=30, metric='minkowski',\n",
            "                     metric_params=None, n_jobs=None, n_neighbors=25, p=2,\n",
            "                     weights='uniform') \n",
            "\n"
          ],
          "name": "stdout"
        }
      ]
    },
    {
      "cell_type": "code",
      "metadata": {
        "colab": {
          "base_uri": "https://localhost:8080/"
        },
        "id": "0yvEg9nbtUvc",
        "outputId": "1aee205b-27f3-4bec-9618-5661c5ad2348"
      },
      "source": [
        "# kNN model with 1 neighbor using raw data\r\n",
        "kNN4 = use_knn(raw_data, 1)\r\n",
        "print(kNN4,'\\n')\r\n",
        "\r\n",
        "# kNN model with 5 neighbor using raw data\r\n",
        "kNN5 = use_knn(raw_data, 5)\r\n",
        "print(kNN5,'\\n')\r\n",
        "\r\n",
        "# kNN model with 25 neighbor using raw data\r\n",
        "kNN6 = use_knn(raw_data, 25)\r\n",
        "print(kNN6,'\\n')"
      ],
      "execution_count": 26,
      "outputs": [
        {
          "output_type": "stream",
          "text": [
            "           x1        x2  y  prediction\n",
            "189 -1.162763  1.250971  1           1\n",
            "87   0.574291 -0.454657  0           0\n",
            "89   2.624578 -1.406259  0           0\n",
            "109  1.238770  1.052236  1           1\n",
            "86  -0.074079  0.919702  0           0\n",
            "Accuracy: 1.0\n",
            "KNeighborsClassifier(algorithm='auto', leaf_size=30, metric='minkowski',\n",
            "                     metric_params=None, n_jobs=None, n_neighbors=1, p=2,\n",
            "                     weights='uniform') \n",
            "\n",
            "           x1        x2  y  prediction\n",
            "189 -1.162763  1.250971  1           1\n",
            "87   0.574291 -0.454657  0           0\n",
            "89   2.624578 -1.406259  0           0\n",
            "109  1.238770  1.052236  1           1\n",
            "86  -0.074079  0.919702  0           0\n",
            "Accuracy: 0.825\n",
            "KNeighborsClassifier(algorithm='auto', leaf_size=30, metric='minkowski',\n",
            "                     metric_params=None, n_jobs=None, n_neighbors=5, p=2,\n",
            "                     weights='uniform') \n",
            "\n",
            "           x1        x2  y  prediction\n",
            "189 -1.162763  1.250971  1           1\n",
            "87   0.574291 -0.454657  0           0\n",
            "89   2.624578 -1.406259  0           0\n",
            "109  1.238770  1.052236  1           1\n",
            "86  -0.074079  0.919702  0           1\n",
            "Accuracy: 0.8\n",
            "KNeighborsClassifier(algorithm='auto', leaf_size=30, metric='minkowski',\n",
            "                     metric_params=None, n_jobs=None, n_neighbors=25, p=2,\n",
            "                     weights='uniform') \n",
            "\n"
          ],
          "name": "stdout"
        }
      ]
    }
  ]
}
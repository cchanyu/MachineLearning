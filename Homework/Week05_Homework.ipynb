{
  "nbformat": 4,
  "nbformat_minor": 0,
  "metadata": {
    "colab": {
      "name": "Week05_Homework.ipynb",
      "provenance": [],
      "collapsed_sections": []
    },
    "kernelspec": {
      "name": "python3",
      "display_name": "Python 3"
    }
  },
  "cells": [
    {
      "cell_type": "markdown",
      "metadata": {
        "id": "n-dW9O6GJ37y"
      },
      "source": [
        "Name: Chanyu Choung\r\n",
        "\r\n",
        "Class: CMP414\r\n",
        "\r\n",
        "Homework due date: Mar 8th, 2021 (Monday)\r\n",
        "\r\n",
        "# Week 5 Homework\r\n",
        "This homework assignment aims to build a simple linear regression model using the `radio` feature. (Source of data: https://www.statlearning.com/s/Advertising.csv)\r\n",
        "\r\n",
        "\r\n",
        "1. Apply the normal equation to calculate parameter values for the best fit.\r\n",
        "\r\n",
        "2. Display the regression line with the training data points.\r\n",
        "\r\n",
        "3. Use `sklearn` to build the same model. Verify that the parameters values are the same as those from the normal equation."
      ]
    },
    {
      "cell_type": "code",
      "metadata": {
        "id": "qrg_erTfYQYC"
      },
      "source": [
        "# Importing the libraries\r\n",
        "import numpy as np\r\n",
        "import pandas as pd\r\n",
        "import matplotlib.pyplot as plt\r\n",
        "%matplotlib inline\r\n",
        "\r\n",
        "# Importing the data frame\r\n",
        "url = \"https://www.statlearning.com/s/Advertising.csv\"\r\n",
        "advertising = pd.read_csv(url, index_col=0)"
      ],
      "execution_count": 6,
      "outputs": []
    },
    {
      "cell_type": "code",
      "metadata": {
        "colab": {
          "base_uri": "https://localhost:8080/"
        },
        "id": "GQerslYZt4zc",
        "outputId": "32176780-67e5-43f6-da07-599faaef6097"
      },
      "source": [
        "# Applying the Normal Equation\r\n",
        "X = np.hstack([np.ones([len(data), 1]), data[['radio']].values])\r\n",
        "y = data[['sales']].values\r\n",
        "\r\n",
        "beta = np.linalg.inv(X.T.dot(X)).dot(X.T).dot(y)\r\n",
        "print(beta)"
      ],
      "execution_count": 54,
      "outputs": [
        {
          "output_type": "stream",
          "text": [
            "[[9.3116381 ]\n",
            " [0.20249578]]\n"
          ],
          "name": "stdout"
        }
      ]
    },
    {
      "cell_type": "code",
      "metadata": {
        "id": "DbtXDQwvuZFQ"
      },
      "source": [
        "# Calculates Squared Error\r\n",
        "def SE(B0, B1, data, i):\r\n",
        "    x = data.loc[i, 'radio']\r\n",
        "    y = data.loc[i, 'sales']\r\n",
        "    prediction = B0 + B1 * x\r\n",
        "    error = (y - prediction) ** 2\r\n",
        "    return error\r\n",
        "\r\n",
        "# Finding the Mean of MSE\r\n",
        "def get_MSE(B0, B1, data):\r\n",
        "    list_errors = [SE(B0, B1, data , i) for i in data.index] # loops SE function\r\n",
        "    MSE = np.mean(list_errors)\r\n",
        "    return MSE"
      ],
      "execution_count": 49,
      "outputs": []
    },
    {
      "cell_type": "code",
      "metadata": {
        "colab": {
          "base_uri": "https://localhost:8080/",
          "height": 315
        },
        "id": "fa4tqiqfvJSk",
        "outputId": "6e72a579-c655-4e5b-cfb4-aedd66f822ad"
      },
      "source": [
        "# Calling the MSE function\r\n",
        "B0 = beta[0]\r\n",
        "B1 = beta[1]\r\n",
        "print(\"Mean Squared Error:\", get_MSE(B0, B1, data))\r\n",
        "\r\n",
        "# Plot the data points with a regression line.\r\n",
        "plt.title('Radio vs. Sales')\r\n",
        "plt.plot(data['radio'], data['sales'], 'g.')\r\n",
        "x_coordinates = np.array([0,50])\r\n",
        "y_coordinates = x_coordinates * B1 + B0\r\n",
        "plt.plot(x_coordinates, y_coordinates, 'r-')"
      ],
      "execution_count": 50,
      "outputs": [
        {
          "output_type": "stream",
          "text": [
            "Mean Squared Error: 18.09239774512544\n"
          ],
          "name": "stdout"
        },
        {
          "output_type": "execute_result",
          "data": {
            "text/plain": [
              "[<matplotlib.lines.Line2D at 0x7f6be5322b10>]"
            ]
          },
          "metadata": {
            "tags": []
          },
          "execution_count": 50
        },
        {
          "output_type": "display_data",
          "data": {
            "image/png": "[encoded data removed]",
            "text/plain": [
              "<Figure size 432x288 with 1 Axes>"
            ]
          },
          "metadata": {
            "tags": [],
            "needs_background": "light"
          }
        }
      ]
    },
    {
      "cell_type": "code",
      "metadata": {
        "colab": {
          "base_uri": "https://localhost:8080/"
        },
        "id": "zxwqsQY8Q-3i",
        "outputId": "2cf8b47b-c098-45a4-fe9f-cc768f6685fa"
      },
      "source": [
        "# Importing Linear Regression\r\n",
        "from sklearn.linear_model import LinearRegression\r\n",
        "model_lr = LinearRegression()\r\n",
        "data = advertising.loc[:, ['radio', 'sales']]\r\n",
        "model_lr.fit(data[['radio']], data[['sales']])\r\n",
        "\r\n",
        "# Result of Slope, Y-Intercept from SKLearn\r\n",
        "print(model_lr.coef_) # Slope\r\n",
        "print(model_lr.intercept_) # Y-Intercept"
      ],
      "execution_count": 56,
      "outputs": [
        {
          "output_type": "stream",
          "text": [
            "[[0.20249578]]\n",
            "[9.3116381]\n"
          ],
          "name": "stdout"
        }
      ]
    },
    {
      "cell_type": "markdown",
      "metadata": {
        "id": "VDgpS7ZMy0Y4"
      },
      "source": [
        "Yes, I verified that they're both the same:\r\n",
        "[[0.20249578], [9.3116381]]"
      ]
    }
  ]
}
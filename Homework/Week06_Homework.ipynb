{
  "nbformat": 4,
  "nbformat_minor": 0,
  "metadata": {
    "colab": {
      "name": "Week06_Homework.ipynb",
      "provenance": [],
      "collapsed_sections": []
    },
    "kernelspec": {
      "name": "python3",
      "display_name": "Python 3"
    }
  },
  "cells": [
    {
      "cell_type": "markdown",
      "metadata": {
        "id": "n-dW9O6GJ37y"
      },
      "source": [
        "Name: Chanyu Choung\r\n",
        "\r\n",
        "Class: CMP414\r\n",
        "\r\n",
        "Homework due date: Mar 15th, 2021 (Monday)\r\n",
        "\r\n",
        "# Week 6 Homework\r\n",
        "This homework assignment will build three models on the advertising data and evaluate their performance. You can use tools from sklearn to complete this task.\r\n",
        "\r\n",
        "Source of data:  https://www.statlearning.com/s/Advertising.csv\r\n",
        "\r\n",
        "1. Use train_test_split to split the data into training set (80%) and test set (20%).\r\n",
        "\r\n",
        "2. Build a multilinear regression model with 'TV', 'Radio', and 'newspaper' as input variables and 'sales' as output variable. Name the model model_lr. Train the model on the training set and obtain model predictions on the test set.\r\n",
        "\r\n",
        "3.  Build a degree 2 polynomial regression model with 'TV', 'Radio', and 'newspaper' as input variables and 'sales' as output variable. Name the model model_pr2. Train the model on the training set and obtain model predictions on the test set.\r\n",
        "\r\n",
        "4.  Build a degree 10 polynomial regression model with 'TV', 'Radio', and 'newspaper' as input variables and 'sales' as output variable. Name the model model_pr10. Train the model on the training set and obtain model predictions on the test set.\r\n",
        "\r\n",
        "5. Calculate the test MSE of each model using the mean_squared_error function. Which model gives the best MSE?"
      ]
    },
    {
      "cell_type": "code",
      "metadata": {
        "id": "qrg_erTfYQYC"
      },
      "source": [
        "# Importing the libraries\r\n",
        "import numpy as np\r\n",
        "import pandas as pd\r\n",
        "import matplotlib.pyplot as plt\r\n",
        "%matplotlib inline\r\n",
        "\r\n",
        "# Importing the data frame\r\n",
        "url = \"https://www.statlearning.com/s/Advertising.csv\"\r\n",
        "data = pd.read_csv(url, index_col=0)"
      ],
      "execution_count": 1,
      "outputs": []
    },
    {
      "cell_type": "code",
      "metadata": {
        "id": "3Dp666rPrD8G"
      },
      "source": [
        "# Split the data into 80% training data and 20% test data.\r\n",
        "from sklearn.model_selection import train_test_split\r\n",
        "training_data, test_data = train_test_split(data, test_size=0.2)\r\n",
        "test_data = test_data.copy()"
      ],
      "execution_count": 2,
      "outputs": []
    },
    {
      "cell_type": "code",
      "metadata": {
        "id": "m2GDzyDyzC_v"
      },
      "source": [
        "# Initializing values\r\n",
        "trainingX = training_data[[\"TV\",\"radio\",\"newspaper\"]]\r\n",
        "trainingY = training_data[\"sales\"]\r\n",
        "testX = test_data[[\"TV\",\"radio\",\"newspaper\"]]\r\n",
        "testY = test_data[\"sales\"]"
      ],
      "execution_count": 3,
      "outputs": []
    },
    {
      "cell_type": "code",
      "metadata": {
        "colab": {
          "base_uri": "https://localhost:8080/"
        },
        "id": "qgCQcLOgqHoo",
        "outputId": "4d5dbabb-3a86-4275-e95b-51892367f527"
      },
      "source": [
        "from sklearn.linear_model import LinearRegression\r\n",
        "from sklearn.preprocessing import PolynomialFeatures\r\n",
        "\r\n",
        "def get_Poly(n):\r\n",
        "    poly_features = PolynomialFeatures(degree=n, include_bias=False)\r\n",
        "    X_poly = poly_features.fit_transform(trainingX)\r\n",
        "    X_polyT2 = poly_features.fit_transform(testX)\r\n",
        "    return X_poly, X_polyT2\r\n",
        "\r\n",
        "def get_Predict(X1, X2, Y1, Name):\r\n",
        "    # Train the model on training set\r\n",
        "    model = LinearRegression()\r\n",
        "    model.fit(X1, Y1)\r\n",
        "    print(model.coef_[:3], model.intercept_)\r\n",
        "\r\n",
        "    # Obtain the model predictions\r\n",
        "    test_data[Name] = model.predict(X2)\r\n",
        "    print(test_data.head(), \"\\n\")\r\n",
        "    return model\r\n",
        "\r\n",
        "# Multilinear Regression\r\n",
        "model_lr = get_Predict(trainingX, testX, trainingY, \"MLR\")\r\n",
        "# Polynomial-2 Regression\r\n",
        "poly2, polyT2 = get_Poly(2)\r\n",
        "model_pr2 = get_Predict(poly2, polyT2, trainingY, \"PR2\")\r\n",
        "# Polynomial-10 Regression\r\n",
        "poly10, polyT10 = get_Poly(10)\r\n",
        "model_pr10 = get_Predict(poly10, polyT10, trainingY, \"PR10\")"
      ],
      "execution_count": 4,
      "outputs": [
        {
          "output_type": "stream",
          "text": [
            "[0.04490328 0.1923331  0.00308131] 2.7609259506115222\n",
            "        TV  radio  newspaper  sales        MLR\n",
            "74   129.4    5.7       31.3   11.0   9.764154\n",
            "99   289.7   42.3       51.2   25.4  24.062858\n",
            "4    151.5   41.3       58.5   18.5  17.687386\n",
            "7     57.5   32.8       23.5   11.8  11.723801\n",
            "148  243.2   49.0       44.3   25.4  23.242227 \n",
            "\n",
            "[0.05144743 0.0139232  0.00617618] 5.146370827724629\n",
            "        TV  radio  newspaper  sales        MLR        PR2\n",
            "74   129.4    5.7       31.3   11.0   9.764154  10.915946\n",
            "99   289.7   42.3       51.2   25.4  24.062858  25.390029\n",
            "4    151.5   41.3       58.5   18.5  17.687386  18.647582\n",
            "7     57.5   32.8       23.5   11.8  11.723801  10.745232\n",
            "148  243.2   49.0       44.3   25.4  23.242227  25.707361 \n",
            "\n",
            "[ 3.56407077e-12 -9.37041060e-13 -3.90278475e-12] 6.638132258400819\n",
            "        TV  radio  newspaper  sales        MLR        PR2        PR10\n",
            "74   129.4    5.7       31.3   11.0   9.764154  10.915946   14.559169\n",
            "99   289.7   42.3       51.2   25.4  24.062858  25.390029  521.192875\n",
            "4    151.5   41.3       58.5   18.5  17.687386  18.647582  154.227050\n",
            "7     57.5   32.8       23.5   11.8  11.723801  10.745232    7.015558\n",
            "148  243.2   49.0       44.3   25.4  23.242227  25.707361  324.742363 \n",
            "\n"
          ],
          "name": "stdout"
        }
      ]
    },
    {
      "cell_type": "code",
      "metadata": {
        "id": "bqLgZWX7usTp",
        "colab": {
          "base_uri": "https://localhost:8080/"
        },
        "outputId": "5bcfccb2-5609-4c55-fc9d-dcc8756907bf"
      },
      "source": [
        "# Calculate MSE of each model\r\n",
        "from sklearn.metrics import mean_squared_error\r\n",
        "LR = model_lr\r\n",
        "\r\n",
        "# MSE of Multilinear Regression \r\n",
        "theta = np.array([LR.intercept_, LR.coef_[0], LR.coef_[1], LR.coef_[2]])\r\n",
        "list_errors = []\r\n",
        "\r\n",
        "for i in data.index:\r\n",
        "    x = np.array([1, data.loc[i, \"TV\"], data.loc[i, \"radio\"], data.loc[i, \"newspaper\"]])\r\n",
        "    theta_dot_x = theta.dot(x)\r\n",
        "    y = data.loc[i, \"sales\"]\r\n",
        "    squared_error = (theta_dot_x - y) ** 2\r\n",
        "    list_errors.append(squared_error)\r\n",
        "print(\"Multilinear Regression MSE:\", np.mean(list_errors))\r\n",
        "\r\n",
        "# MSE of Polynomial-2 Regression\r\n",
        "predictions_pr2 = model_pr2.predict(polyT2)\r\n",
        "mse_pr2 = mean_squared_error(testY, predictions_pr2)\r\n",
        "print(\"Polynomial Regression 2 MSE:\", mse_pr2)\r\n",
        "\r\n",
        "# MSE of Polynomial-10 Regression\r\n",
        "predictions_pr10 = model_pr10.predict(polyT10)\r\n",
        "mse_pr10 = mean_squared_error(testY, predictions_pr10)\r\n",
        "print(\"Polynomial Regression 10 MSE:\", mse_pr10)"
      ],
      "execution_count": 5,
      "outputs": [
        {
          "output_type": "stream",
          "text": [
            "Multilinear Regression MSE: 2.811266255099626\n",
            "Polynomial Regression 2 MSE: 0.22111810420567551\n",
            "Polynomial Regression 10 MSE: 160088.90246208335\n"
          ],
          "name": "stdout"
        }
      ]
    },
    {
      "cell_type": "markdown",
      "metadata": {
        "id": "sxTgEQpanUPg"
      },
      "source": [
        "Polynomial of degree 2 gives the least MSE output, which is the best outcome."
      ]
    }
  ]
}
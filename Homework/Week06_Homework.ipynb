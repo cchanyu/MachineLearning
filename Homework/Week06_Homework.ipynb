{
  "nbformat": 4,
  "nbformat_minor": 0,
  "metadata": {
    "colab": {
      "name": "Week06_Homework.ipynb",
      "provenance": [],
      "collapsed_sections": []
    },
    "kernelspec": {
      "name": "python3",
      "display_name": "Python 3"
    }
  },
  "cells": [
    {
      "cell_type": "markdown",
      "metadata": {
        "id": "n-dW9O6GJ37y"
      },
      "source": [
        "Name: Chanyu Choung\r\n",
        "\r\n",
        "Class: CMP414\r\n",
        "\r\n",
        "Homework due date: Mar 15th, 2021 (Monday)\r\n",
        "\r\n",
        "# Week 6 Homework\r\n",
        "This homework assignment will build three models on the advertising data and evaluate their performance. You can use tools from sklearn to complete this task.\r\n",
        "\r\n",
        "Source of data:  https://www.statlearning.com/s/Advertising.csv\r\n",
        "\r\n",
        "1. Use train_test_split to split the data into training set (80%) and test set (20%).\r\n",
        "\r\n",
        "2. Build a multilinear regression model with 'TV', 'Radio', and 'newspaper' as input variables and 'sales' as output variable. Name the model model_lr. Train the model on the training set and obtain model predictions on the test set.\r\n",
        "\r\n",
        "3.  Build a degree 2 polynomial regression model with 'TV', 'Radio', and 'newspaper' as input variables and 'sales' as output variable. Name the model model_pr2. Train the model on the training set and obtain model predictions on the test set.\r\n",
        "\r\n",
        "4.  Build a degree 10 polynomial regression model with 'TV', 'Radio', and 'newspaper' as input variables and 'sales' as output variable. Name the model model_pr10. Train the model on the training set and obtain model predictions on the test set.\r\n",
        "\r\n",
        "5. Calculate the test MSE of each model using the mean_squared_error function. Which model gives the best MSE?"
      ]
    },
    {
      "cell_type": "code",
      "metadata": {
        "id": "qrg_erTfYQYC"
      },
      "source": [
        "# Importing the libraries\r\n",
        "import numpy as np\r\n",
        "import pandas as pd\r\n",
        "import matplotlib.pyplot as plt\r\n",
        "%matplotlib inline\r\n",
        "\r\n",
        "# Importing the data frame\r\n",
        "url = \"https://www.statlearning.com/s/Advertising.csv\"\r\n",
        "advertising = pd.read_csv(url, index_col=0)"
      ],
      "execution_count": null,
      "outputs": []
    },
    {
      "cell_type": "code",
      "metadata": {
        "id": "3Dp666rPrD8G"
      },
      "source": [
        "# Split the data into 80% training data and 20% test data.\r\n",
        "from sklearn.model_selection import train_test_split\r\n",
        "training_data, test_data = train_test_split(advertising, test_size=0.2)\r\n",
        "test_data = test_data.copy()"
      ],
      "execution_count": null,
      "outputs": []
    },
    {
      "cell_type": "code",
      "metadata": {
        "id": "m2GDzyDyzC_v"
      },
      "source": [
        "# Initializing values\r\n",
        "X1 = advertising[[\"TV\",\"radio\",\"newspaper\"]]\r\n",
        "Y1 = advertising[\"sales\"]\r\n",
        "X2 = test_data[[\"TV\",\"radio\",\"newspaper\"]]\r\n",
        "Y2 = test_data[\"sales\"]"
      ],
      "execution_count": null,
      "outputs": []
    },
    {
      "cell_type": "code",
      "metadata": {
        "colab": {
          "base_uri": "https://localhost:8080/",
          "height": 0
        },
        "id": "qgCQcLOgqHoo",
        "outputId": "c477c1b4-f7fd-4fd4-f10b-83e82c82b522"
      },
      "source": [
        "from sklearn.linear_model import LinearRegression\r\n",
        "from sklearn.preprocessing import PolynomialFeatures\r\n",
        "\r\n",
        "def get_Poly(n):\r\n",
        "    poly_features = PolynomialFeatures(degree=n, include_bias=False)\r\n",
        "    X_poly = poly_features.fit_transform(X2)\r\n",
        "    return X_poly\r\n",
        "\r\n",
        "def get_Predict(X, X2, Y, Name):\r\n",
        "    # Train the model on training set\r\n",
        "    model = LinearRegression()\r\n",
        "    model.fit(X, Y)\r\n",
        "    print(model.coef_[:3], model.intercept_)\r\n",
        "\r\n",
        "    # Obtain the model predictions\r\n",
        "    predictions = model.predict(X2)\r\n",
        "    test_data[Name] = predictions\r\n",
        "    print(test_data.head(), \"\\n\")\r\n",
        "    return model\r\n",
        "\r\n",
        "# Multilinear Regression\r\n",
        "MLR = get_Predict(X1, X2, Y1, \"MLR\")\r\n",
        "# Polynomial-2 Regression\r\n",
        "Poly2 = get_Poly(2)\r\n",
        "PR2 = get_Predict(Poly2, Poly2, Y2, \"PR2\")\r\n",
        "# Polynomial-10 Regression\r\n",
        "Poly10 = get_Poly(10)\r\n",
        "PR10 = get_Predict(Poly10, Poly10, Y2, \"PR10\")"
      ],
      "execution_count": 26,
      "outputs": [
        {
          "output_type": "stream",
          "text": [
            "[ 0.04576465  0.18853002 -0.00103749] 2.938889369459412\n",
            "        TV  radio  newspaper  sales        MLR        PR2  PR10\n",
            "93   217.7   33.5       59.0   19.4  19.156396  19.770318  19.4\n",
            "80   116.0    7.7       23.1   11.0   9.675303  10.892426  11.0\n",
            "159   11.7   36.9       45.2    7.3  10.384199   7.944791   7.3\n",
            "174  168.4    7.1       12.8   11.7  11.970939  11.966313  11.7\n",
            "3     17.2   45.9       69.3    9.3  12.307671   8.898595   9.3 \n",
            "\n",
            "[3.45320599e-02 2.92561282e-05 4.20297512e-03] 6.7550325644375215\n",
            "        TV  radio  newspaper  sales        MLR        PR2  PR10\n",
            "93   217.7   33.5       59.0   19.4  19.156396  19.770318  19.4\n",
            "80   116.0    7.7       23.1   11.0   9.675303  10.892426  11.0\n",
            "159   11.7   36.9       45.2    7.3  10.384199   7.944791   7.3\n",
            "174  168.4    7.1       12.8   11.7  11.970939  11.966313  11.7\n",
            "3     17.2   45.9       69.3    9.3  12.307671   8.898595   9.3 \n",
            "\n",
            "[-1.41766495e-19  1.09845544e-21 -4.12007220e-24] 8.810517122133792\n",
            "        TV  radio  newspaper  sales        MLR        PR2  PR10\n",
            "93   217.7   33.5       59.0   19.4  19.156396  19.770318  19.4\n",
            "80   116.0    7.7       23.1   11.0   9.675303  10.892426  11.0\n",
            "159   11.7   36.9       45.2    7.3  10.384199   7.944791   7.3\n",
            "174  168.4    7.1       12.8   11.7  11.970939  11.966313  11.7\n",
            "3     17.2   45.9       69.3    9.3  12.307671   8.898595   9.3 \n",
            "\n"
          ],
          "name": "stdout"
        }
      ]
    },
    {
      "cell_type": "code",
      "metadata": {
        "id": "bqLgZWX7usTp",
        "colab": {
          "base_uri": "https://localhost:8080/"
        },
        "outputId": "07721d59-0929-4f39-995b-f9a853662691"
      },
      "source": [
        "# Calculate MSE of each model\r\n",
        "from sklearn.metrics import mean_squared_error\r\n",
        "\r\n",
        "# MSE of Multilinear Regression \r\n",
        "theta = np.array([MLR.intercept_, MLR.coef_[0], MLR.coef_[1], MLR.coef_[2]])\r\n",
        "list_errors = []\r\n",
        "\r\n",
        "for i in advertising.index:\r\n",
        "    x = np.array([1, advertising.loc[i, \"TV\"], advertising.loc[i, \"radio\"], advertising.loc[i, \"newspaper\"]])\r\n",
        "    theta_dot_x = theta.dot(x)\r\n",
        "    y = advertising.loc[i, \"sales\"]\r\n",
        "    squared_error = (theta_dot_x - y) ** 2\r\n",
        "    list_errors.append(squared_error)\r\n",
        "print(\"Multilinear Regression MSE:\", np.mean(list_errors))\r\n",
        "\r\n",
        "# MSE of Polynomial-2 Regression\r\n",
        "predictions_pr2 = PR2.predict(Poly2)\r\n",
        "MSE_pr2 = mean_squared_error(Y2, predictions_pr2)\r\n",
        "print(\"Polynomial Regression 2 MSE:\", MSE_pr2)\r\n",
        "\r\n",
        "# MSE of Polynomial-10 Regression\r\n",
        "predictions_pr10 = PR10.predict(Poly10)\r\n",
        "MSE_pr10 = mean_squared_error(Y2, predictions_pr10)\r\n",
        "print(\"Polynomial Regression 10 MSE:\", MSE_pr10)"
      ],
      "execution_count": null,
      "outputs": [
        {
          "output_type": "stream",
          "text": [
            "Multilinear Regression MSE: 2.784126314510936\n",
            "Polynomial Regression 2 MSE: 0.08623448258920496\n",
            "Polynomial Regression 10 MSE: 2.114671631902726e-18\n"
          ],
          "name": "stdout"
        }
      ]
    }
  ]
}
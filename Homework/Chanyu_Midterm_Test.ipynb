{
  "nbformat": 4,
  "nbformat_minor": 0,
  "metadata": {
    "colab": {
      "name": "Chanyu Midterm Test",
      "provenance": [],
      "collapsed_sections": []
    },
    "kernelspec": {
      "name": "python3",
      "display_name": "Python 3"
    },
    "language_info": {
      "name": "python"
    }
  },
  "cells": [
    {
      "cell_type": "markdown",
      "metadata": {
        "id": "mASBhm2Ry4li"
      },
      "source": [
        "Name: Chanyu Choung\n",
        "# CMP 414 & 765\n",
        "# Test 1\n",
        "\n",
        "**Instructions**\n",
        "- Test time: **Monday, April 5th, 1:00 - 2:40 pm**\n",
        "- Total score: 100 points\n",
        "- **Before you start,** make sure that you save a copy of this notebook in your Google Drive using the option \"Save a copy in Drive\" from the \"File\" menu.\n",
        "- There are two types of questions:\n",
        "    - **Short answer questions**: you are expected to write your response in detail in the text cells corresponding to these questions.\n",
        "    - **Coding questions**: you are expected to write correct Python statements, and show the execution results.\n",
        "- This is an open-book test. You can use the textbook and the class notes to help you solve the problems.\n",
        "- You can use functions imported from `sklearn`, `numpy`, `pandas`, and `matplotlib`.\n",
        "- **When you finish the test**, please download the notebook as a PDF file using the \"Print\" option from the \"File\" menu (choose \"Print to PDF\"). Submit the PDF file to Blackboard under the \"Test 1\" assignment before the end of the test.\n",
        "- **If you have any questions**, please join the class Zoom meeting 202 609 9616 and ask me.\n",
        "\n"
      ]
    },
    {
      "cell_type": "markdown",
      "metadata": {
        "id": "u9vbKr8w6jHw"
      },
      "source": [
        "## Part I: General Knowledge"
      ]
    },
    {
      "cell_type": "markdown",
      "metadata": {
        "id": "lUIvAL0E6jMO"
      },
      "source": [
        "**Question 1 (10pt)**: Give an example of a regression task and an example of a classification task.\n",
        "\n",
        "**Your answer:** \n",
        "Regression task is to predict a target numeric value.\n",
        "\n",
        "For an example, it guesses the price of a bag, based on the studied results of similar bags. (ex. size, price, brand of the bag)\n",
        "\n",
        "--------------------------------------------------------------------------------\n",
        "\n",
        "Classification task is trained with their class and learn how to sort out.\n",
        "\n",
        "For an example, classifying spam email is one example. it's trained with many emails to learn it's class (ex. keywords used, senders email)\n",
        "\n"
      ]
    },
    {
      "cell_type": "markdown",
      "metadata": {
        "id": "jap7JOrj6jN-"
      },
      "source": [
        "**Question 2 (10pt):** What is the purpose of a test dataset and how should one use it?\n",
        "\n",
        "**Your answer:** Test data set is used to test the model. \n",
        "\n",
        "So for example, if we train the model with an algorithm.\n",
        "\n",
        "It'll be used to predict and test to see how accurate the model is.\n",
        "\n"
      ]
    },
    {
      "cell_type": "markdown",
      "metadata": {
        "id": "YsELUagh6jQk"
      },
      "source": [
        "## Part II: Regression\n",
        "\n",
        "In this part, we will analyze a dataset about used car prices."
      ]
    },
    {
      "cell_type": "code",
      "metadata": {
        "id": "NQOJW4e39WpQ"
      },
      "source": [
        "# import libraries\n",
        "import numpy as np\n",
        "import pandas as pd\n",
        "import matplotlib.pyplot as plt\n",
        "%matplotlib inline"
      ],
      "execution_count": null,
      "outputs": []
    },
    {
      "cell_type": "code",
      "metadata": {
        "colab": {
          "base_uri": "https://localhost:8080/"
        },
        "id": "hiEWa7Lb6jSc",
        "outputId": "ffb27298-f82e-42f3-ae9e-7d4e3ab891fb"
      },
      "source": [
        "# Load the data\n",
        "cars = pd.read_csv('https://query.data.world/s/eqxrmzlhl3gouxeafp4ayp4sjw32lg',\n",
        "                      encoding=\"ISO-8859-1\")\n",
        "print(cars.head())"
      ],
      "execution_count": null,
      "outputs": [
        {
          "output_type": "stream",
          "text": [
            "           dateCrawled  ...             lastSeen\n",
            "0  2016-03-24 11:52:17  ...  2016-04-07 03:16:57\n",
            "1  2016-03-24 10:58:45  ...  2016-04-07 01:46:50\n",
            "2  2016-03-14 12:52:21  ...  2016-04-05 12:47:46\n",
            "3  2016-03-17 16:54:04  ...  2016-03-17 17:40:17\n",
            "4  2016-03-31 17:25:20  ...  2016-04-06 10:17:21\n",
            "\n",
            "[5 rows x 20 columns]\n"
          ],
          "name": "stdout"
        }
      ]
    },
    {
      "cell_type": "markdown",
      "metadata": {
        "id": "NVw1tOSx6jUv"
      },
      "source": [
        "**Question 3 (5 pt)**: Extract the records whose name is \"BMW_318i\" and year of registration is after 1990. Name the subset `cars_BMW318i`."
      ]
    },
    {
      "cell_type": "code",
      "metadata": {
        "id": "YmcHM1Ke6jXA",
        "colab": {
          "base_uri": "https://localhost:8080/"
        },
        "outputId": "add2f700-ea79-48ed-ea27-e979c45f1cc2"
      },
      "source": [
        "# Solution to Question 3\n",
        "cars_BMW_318i = cars[(cars[\"name\"] == \"BMW_318i\") & (cars['yearOfRegistration'] > 1990)]\n",
        "print(cars_BMW_318i.head())"
      ],
      "execution_count": null,
      "outputs": [
        {
          "output_type": "stream",
          "text": [
            "              dateCrawled      name  ... postalCode             lastSeen\n",
            "456   2016-04-04 10:57:55  BMW_318i  ...      65558  2016-04-05 12:14:20\n",
            "1497  2016-03-05 20:53:22  BMW_318i  ...      23558  2016-03-15 07:15:17\n",
            "1714  2016-03-21 13:36:24  BMW_318i  ...      27356  2016-03-21 13:36:24\n",
            "3700  2016-03-29 19:55:05  BMW_318i  ...      90443  2016-04-06 06:15:51\n",
            "4318  2016-03-31 14:48:07  BMW_318i  ...      58840  2016-04-06 07:45:11\n",
            "\n",
            "[5 rows x 20 columns]\n"
          ],
          "name": "stdout"
        }
      ]
    },
    {
      "cell_type": "markdown",
      "metadata": {
        "id": "KVksnm4H6jZU"
      },
      "source": [
        "**Question 4 (5 pt):** How many records are extracted?"
      ]
    },
    {
      "cell_type": "code",
      "metadata": {
        "id": "fm4o5FHc6jb2",
        "colab": {
          "base_uri": "https://localhost:8080/"
        },
        "outputId": "680b9fb5-dd1b-4ea1-faed-2a395b03111e"
      },
      "source": [
        "# Solution to Question 4\n",
        "BMW_318i_info = cars_BMW_318i.shape\n",
        "print(BMW_318i_info[0], \"records were extracted\")"
      ],
      "execution_count": null,
      "outputs": [
        {
          "output_type": "stream",
          "text": [
            "608 records were extracted\n"
          ],
          "name": "stdout"
        }
      ]
    },
    {
      "cell_type": "markdown",
      "metadata": {
        "id": "cfOm-iD26jek"
      },
      "source": [
        "**Question 5 (10 pt):** Draw a scatter plot to show the relationship between the price and the year of registration."
      ]
    },
    {
      "cell_type": "code",
      "metadata": {
        "id": "VWrBYN_a6jhB",
        "colab": {
          "base_uri": "https://localhost:8080/",
          "height": 295
        },
        "outputId": "21319611-c596-4f1c-9731-cb17143acb12"
      },
      "source": [
        "# Solution to Question 5\n",
        "plt.title('BMW-318i Price vs. Years')\n",
        "price = cars_BMW_318i['price']\n",
        "years = cars_BMW_318i['yearOfRegistration']\n",
        "plt.plot(years, price, 'g.')\n",
        "plt.ylabel(\"Price\")\n",
        "plt.xlabel(\"Years\")\n",
        "plt.show()"
      ],
      "execution_count": null,
      "outputs": [
        {
          "output_type": "display_data",
          "data": {
            "image/png": "[encoded data removed]",
            "text/plain": [
              "<Figure size 432x288 with 1 Axes>"
            ]
          },
          "metadata": {
            "tags": [],
            "needs_background": "light"
          }
        }
      ]
    },
    {
      "cell_type": "markdown",
      "metadata": {
        "id": "mvxycc5G6jpY"
      },
      "source": [
        "**Question 6 (5 pt):** Build a simple linear model that predicts the price using the year of registration."
      ]
    },
    {
      "cell_type": "code",
      "metadata": {
        "id": "ukZbc7zF6jsO",
        "colab": {
          "base_uri": "https://localhost:8080/"
        },
        "outputId": "4ff67168-ff7f-4473-f014-5da0266b0a30"
      },
      "source": [
        "# Solution to Question 6\n",
        "from sklearn.linear_model import LinearRegression\n",
        "model_lr = LinearRegression()\n",
        "model_lr.fit(cars_BMW_318i[['yearOfRegistration']], cars_BMW_318i[['price']])"
      ],
      "execution_count": null,
      "outputs": [
        {
          "output_type": "execute_result",
          "data": {
            "text/plain": [
              "LinearRegression(copy_X=True, fit_intercept=True, n_jobs=None, normalize=False)"
            ]
          },
          "metadata": {
            "tags": []
          },
          "execution_count": 6
        }
      ]
    },
    {
      "cell_type": "markdown",
      "metadata": {
        "id": "gNN0HuTv6ju7"
      },
      "source": [
        "**Question 7 (5 pt):** Show the slope and the y-intercept of the regression line."
      ]
    },
    {
      "cell_type": "code",
      "metadata": {
        "id": "a829rHXi6jxN",
        "colab": {
          "base_uri": "https://localhost:8080/"
        },
        "outputId": "f5966a95-e96a-4e73-b7a9-3bd8c61b05bd"
      },
      "source": [
        "# Solution to Question 7\n",
        "m = model_lr.coef_[0, 0]\n",
        "b = model_lr.intercept_[0]\n",
        "x_coordinates = np.array([1991,2011])\n",
        "y_coordinates = x_coordinates * m + b\n",
        "print(m, b)"
      ],
      "execution_count": null,
      "outputs": [
        {
          "output_type": "stream",
          "text": [
            "463.6506899502168 -923338.2168564794\n"
          ],
          "name": "stdout"
        }
      ]
    },
    {
      "cell_type": "markdown",
      "metadata": {
        "id": "oP8kGhKX6jz-"
      },
      "source": [
        "## Part III: Classification"
      ]
    },
    {
      "cell_type": "code",
      "metadata": {
        "colab": {
          "base_uri": "https://localhost:8080/"
        },
        "id": "hPNY-_A76j2T",
        "outputId": "6066ed3f-1976-4ddf-987b-5da724071b7b"
      },
      "source": [
        "# Load the data\n",
        "titanic_url = \"https://gist.githubusercontent.com/michhar/2dfd2de0d4f8727f873422c5d959fff5/raw/fa71405126017e6a37bea592440b4bee94bf7b9e/titanic.csv\"\n",
        "titanic = pd.read_csv(titanic_url).drop(['PassengerId', 'Name', 'Ticket', 'Cabin', 'Embarked'], axis=1).dropna()\n",
        "print(titanic.head())"
      ],
      "execution_count": null,
      "outputs": [
        {
          "output_type": "stream",
          "text": [
            "   Survived  Pclass     Sex   Age  SibSp  Parch     Fare\n",
            "0         0       3    male  22.0      1      0   7.2500\n",
            "1         1       1  female  38.0      1      0  71.2833\n",
            "2         1       3  female  26.0      0      0   7.9250\n",
            "3         1       1  female  35.0      1      0  53.1000\n",
            "4         0       3    male  35.0      0      0   8.0500\n"
          ],
          "name": "stdout"
        }
      ]
    },
    {
      "cell_type": "markdown",
      "metadata": {
        "id": "eQ7X38bF6j4q"
      },
      "source": [
        "**Question 8 (5 pt):** In the \"Sex\" column, convert male to 1 and female to 0."
      ]
    },
    {
      "cell_type": "code",
      "metadata": {
        "id": "NmetWDmD_IGz",
        "colab": {
          "base_uri": "https://localhost:8080/"
        },
        "outputId": "edb286b1-5508-4e53-d3be-4d0428c517c7"
      },
      "source": [
        "# Solution to Question 8\n",
        "titanic['Sex'].replace(\"male\", 1, inplace=True)\n",
        "titanic['Sex'].replace(\"female\", 0, inplace=True)\n",
        "print(titanic.head())"
      ],
      "execution_count": null,
      "outputs": [
        {
          "output_type": "stream",
          "text": [
            "   Survived  Pclass  Sex   Age  SibSp  Parch     Fare\n",
            "0         0       3    1  22.0      1      0   7.2500\n",
            "1         1       1    0  38.0      1      0  71.2833\n",
            "2         1       3    0  26.0      0      0   7.9250\n",
            "3         1       1    0  35.0      1      0  53.1000\n",
            "4         0       3    1  35.0      0      0   8.0500\n"
          ],
          "name": "stdout"
        }
      ]
    },
    {
      "cell_type": "markdown",
      "metadata": {
        "id": "674spq56_JpT"
      },
      "source": [
        "**Question 9 (5 pt):** Split the dataset into `titanic_train` and `titanic_test`. The training set should contain 80% of all data."
      ]
    },
    {
      "cell_type": "code",
      "metadata": {
        "id": "Nnr2vV3G_TT7"
      },
      "source": [
        "# Solution to Question 9\n",
        "# Split the data into 80% training data and 20% test data.\n",
        "from sklearn.model_selection import train_test_split\n",
        "titanic_train, titanic_test = train_test_split(titanic, test_size=0.2)\n",
        "titanic_test = titanic_test.copy()"
      ],
      "execution_count": null,
      "outputs": []
    },
    {
      "cell_type": "markdown",
      "metadata": {
        "id": "laaQtq8l_UpE"
      },
      "source": [
        "**Question 10 (10 pt)**: List at least two machine learning models that can be used to predict the survival of each passenger.\n",
        "\n",
        "**Your Answer:** Logistic Regression (with Binary Classifier) and Support Vector Machine (with Linear SVM)"
      ]
    },
    {
      "cell_type": "markdown",
      "metadata": {
        "id": "aixF6BNY_hd1"
      },
      "source": [
        "**Question 11 (20 pt)** Apply one machine learning model and show the accuracy, precision, recall of the model on the test set."
      ]
    },
    {
      "cell_type": "code",
      "metadata": {
        "id": "aoxn69EB_tK0",
        "colab": {
          "base_uri": "https://localhost:8080/"
        },
        "outputId": "39c819b0-7e66-48ed-f341-3745da778f28"
      },
      "source": [
        "# Solution to Question 11\n",
        "col = ['Pclass', 'Sex', 'Age', 'SibSp', 'Parch', 'Fare']\n",
        "from sklearn.linear_model import LogisticRegression\n",
        "model = LogisticRegression(solver='lbfgs')\n",
        "model.fit(titanic_train.loc[:, col], titanic_train['Survived'])"
      ],
      "execution_count": null,
      "outputs": [
        {
          "output_type": "execute_result",
          "data": {
            "text/plain": [
              "LogisticRegression(C=1.0, class_weight=None, dual=False, fit_intercept=True,\n",
              "                   intercept_scaling=1, l1_ratio=None, max_iter=100,\n",
              "                   multi_class='auto', n_jobs=None, penalty='l2',\n",
              "                   random_state=None, solver='lbfgs', tol=0.0001, verbose=0,\n",
              "                   warm_start=False)"
            ]
          },
          "metadata": {
            "tags": []
          },
          "execution_count": 11
        }
      ]
    },
    {
      "cell_type": "code",
      "metadata": {
        "id": "Pl1fZNfu_uyb",
        "colab": {
          "base_uri": "https://localhost:8080/"
        },
        "outputId": "9de8b1cc-bbde-4689-87ea-8d035ab3ce4f"
      },
      "source": [
        "# precision - recall - f1 score\n",
        "from sklearn.metrics import precision_score, recall_score, f1_score, accuracy_score\n",
        "test_predictions = model.predict(titanic_test.loc[:, col])\n",
        "print(accuracy_score(titanic_test['Survived'], test_predictions))\n",
        "\n",
        "precision = precision_score(titanic_test['Survived'], test_predictions)\n",
        "recall = recall_score(titanic_test['Survived'], test_predictions)\n",
        "f1 = f1_score(titanic_test['Survived'], test_predictions)\n",
        "print(precision, recall, f1)"
      ],
      "execution_count": null,
      "outputs": [
        {
          "output_type": "stream",
          "text": [
            "0.8041958041958042\n",
            "0.8627450980392157 0.676923076923077 0.7586206896551724\n"
          ],
          "name": "stdout"
        }
      ]
    }
  ]
}
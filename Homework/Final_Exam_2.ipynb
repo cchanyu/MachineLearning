{
  "nbformat": 4,
  "nbformat_minor": 0,
  "metadata": {
    "colab": {
      "name": "Final Exam 2",
      "provenance": [],
      "collapsed_sections": []
    },
    "kernelspec": {
      "name": "python3",
      "display_name": "Python 3"
    },
    "language_info": {
      "name": "python"
    }
  },
  "cells": [
    {
      "cell_type": "markdown",
      "metadata": {
        "id": "xusymR4MtkKX"
      },
      "source": [
        "\n",
        "Name: Chanyu Choung\n",
        "\n",
        "Class: CMP414\n",
        "\n",
        "Date: May 24th, 2021 (Monday)\n",
        "\n",
        "Test: The Final Exam"
      ]
    },
    {
      "cell_type": "markdown",
      "metadata": {
        "id": "37OU-9GaDAL6"
      },
      "source": [
        "# Artificial Intelligence\n",
        "# Test 2\n",
        "\n",
        "**Instructions**\n",
        "- Test time: **Monday, May 24th, 1:30 - 3:30 pm**\n",
        "- Total score: 100 points\n",
        "- **Before you start,** make sure that you save a copy of this notebook in your Google Drive using the option \"Save a copy in Drive\" from the \"File\" menu.\n",
        "- There are two types of questions:\n",
        "    - **Short answer questions**: you are expected to write your response in detail in the text cells corresponding to these questions.\n",
        "    - **Coding questions**: you are expected to write correct Python statements, and show the execution results.\n",
        "- This is an open-book test. You can use the textbook and the class notes to help you solve the problems.\n",
        "- You can use functions imported from `sklearn`, `numpy`, `pandas`, and `matplotlib`.\n",
        "- **When you finish the test**, please download the notebook as a PDF file using the \"Print\" option from the \"File\" menu (choose \"Print to PDF\"). Submit the PDF file to Blackboard under the \"Test 1\" assignment before the end of the test.\n",
        "- **If you have any questions**, please join the class Zoom meeting 202 609 9616 and ask me."
      ]
    },
    {
      "cell_type": "markdown",
      "metadata": {
        "id": "_4v48XWuDRRz"
      },
      "source": [
        "## Question 1 (10 pts)\n",
        "\n",
        "Which of the following graphs indicate that the model (blue line) is overfitting the data (orange points)? Which graphs indicate underfitting?\n",
        "\n",
        "<img src=\"https://github.com/ch00226855/ImputationGAN/blob/master/Test02Img01.png?raw=true\" width=\"600\">\n"
      ]
    },
    {
      "cell_type": "markdown",
      "metadata": {
        "id": "j8SSp4rXEPK6"
      },
      "source": [
        "**Write your answers here (double-click this line to enable editing):**\n",
        "\n",
        "A, F are optimized data. - these are well-balanced\n",
        "\n",
        "B, D are underfitting the data. - it's too flat\n",
        "\n",
        "C, E are overfitting the data. - it's overkill\n"
      ]
    },
    {
      "cell_type": "markdown",
      "metadata": {
        "id": "lQFg6NKhEhXT"
      },
      "source": [
        "## Question 2 (10 pts)\n",
        "Describe a method that can detect outliers in a dataset.\n"
      ]
    },
    {
      "cell_type": "markdown",
      "metadata": {
        "id": "Y5SkjfSdL8BJ"
      },
      "source": [
        "**Write your answers here (double-click this line to enable editing):**\n",
        "\n",
        "You can display the graph with SVM with soft margin and detect the ones that are ignored by it.\n",
        "\n",
        "You can also use .describe function to detect the abnormal mean.\n"
      ]
    },
    {
      "cell_type": "markdown",
      "metadata": {
        "id": "G4cOVVMRFOCi"
      },
      "source": [
        "## Question 3 (30 pts)\n",
        "\n",
        "Apply the SVM model with polynomial kernel to build a classifier on the dataset generated below. Each record has three features: $x_1$ and $x_2$ are input features, and $y$ is the target class label. Choose a proper polynomial degree to achive at least 90% training accuracy.\n",
        "\n",
        "Write a code snippet that does the following:\n",
        "1. Build an SVM model with polynomial kernel using the `sklearn.svm.SVC` class.\n",
        "2. Train the model with `data`.\n",
        "3. Show that the accuracy of the model on `data` is above 90%."
      ]
    },
    {
      "cell_type": "code",
      "metadata": {
        "id": "b6ncgADlGZp2",
        "colab": {
          "base_uri": "https://localhost:8080/",
          "height": 204
        },
        "outputId": "aaa42e05-d611-4dcf-cee2-445965a75f8e"
      },
      "source": [
        "import numpy as np\n",
        "import pandas as pd\n",
        "import matplotlib.pyplot as plt\n",
        "\n",
        "# Execute this cell to load the data.\n",
        "from sklearn.datasets import make_moons\n",
        "raw_data = make_moons(n_samples=200, noise=0.1, random_state=123)\n",
        "data = pd.DataFrame(raw_data[0], columns=['x1', 'x2'])\n",
        "data['y'] = raw_data[1]\n",
        "data.head()"
      ],
      "execution_count": null,
      "outputs": [
        {
          "output_type": "execute_result",
          "data": {
            "text/html": [
              "<div>\n",
              "<style scoped>\n",
              "    .dataframe tbody tr th:only-of-type {\n",
              "        vertical-align: middle;\n",
              "    }\n",
              "\n",
              "    .dataframe tbody tr th {\n",
              "        vertical-align: top;\n",
              "    }\n",
              "\n",
              "    .dataframe thead th {\n",
              "        text-align: right;\n",
              "    }\n",
              "</style>\n",
              "<table border=\"1\" class=\"dataframe\">\n",
              "  <thead>\n",
              "    <tr style=\"text-align: right;\">\n",
              "      <th></th>\n",
              "      <th>x1</th>\n",
              "      <th>x2</th>\n",
              "      <th>y</th>\n",
              "    </tr>\n",
              "  </thead>\n",
              "  <tbody>\n",
              "    <tr>\n",
              "      <th>0</th>\n",
              "      <td>-0.046914</td>\n",
              "      <td>1.031404</td>\n",
              "      <td>0</td>\n",
              "    </tr>\n",
              "    <tr>\n",
              "      <th>1</th>\n",
              "      <td>0.273722</td>\n",
              "      <td>-0.161737</td>\n",
              "      <td>1</td>\n",
              "    </tr>\n",
              "    <tr>\n",
              "      <th>2</th>\n",
              "      <td>0.493077</td>\n",
              "      <td>0.797366</td>\n",
              "      <td>0</td>\n",
              "    </tr>\n",
              "    <tr>\n",
              "      <th>3</th>\n",
              "      <td>1.016273</td>\n",
              "      <td>-0.575626</td>\n",
              "      <td>1</td>\n",
              "    </tr>\n",
              "    <tr>\n",
              "      <th>4</th>\n",
              "      <td>0.857463</td>\n",
              "      <td>0.633812</td>\n",
              "      <td>0</td>\n",
              "    </tr>\n",
              "  </tbody>\n",
              "</table>\n",
              "</div>"
            ],
            "text/plain": [
              "         x1        x2  y\n",
              "0 -0.046914  1.031404  0\n",
              "1  0.273722 -0.161737  1\n",
              "2  0.493077  0.797366  0\n",
              "3  1.016273 -0.575626  1\n",
              "4  0.857463  0.633812  0"
            ]
          },
          "metadata": {
            "tags": []
          },
          "execution_count": 1
        }
      ]
    },
    {
      "cell_type": "code",
      "metadata": {
        "id": "iH1u8wviGoav",
        "colab": {
          "base_uri": "https://localhost:8080/",
          "height": 265
        },
        "outputId": "33c02538-569c-4e56-fa0c-14e307da29b4"
      },
      "source": [
        "# Visualize the data\n",
        "for label in data['y'].unique():\n",
        "    subdata = data[data['y'] == label]\n",
        "    plt.scatter(subdata['x1'], subdata['x2'], cmap=plt.cm.rainbow, label=(\"y = %d\" % label))\n",
        "plt.legend()\n",
        "plt.show()"
      ],
      "execution_count": null,
      "outputs": [
        {
          "output_type": "display_data",
          "data": {
            "image/png": "[encoded data removed]",
            "text/plain": [
              "<Figure size 432x288 with 1 Axes>"
            ]
          },
          "metadata": {
            "tags": [],
            "needs_background": "light"
          }
        }
      ]
    },
    {
      "cell_type": "code",
      "metadata": {
        "id": "ECv_JbDtH4vx"
      },
      "source": [
        "# Write your code here\n",
        "# 1. Build an SVM model with polynomial kernel using the sklearn.svm.SVC class.\n",
        "from sklearn.svm import SVC\n",
        "model = SVC(C=10, kernel='poly', degree=5, coef0=0)"
      ],
      "execution_count": null,
      "outputs": []
    },
    {
      "cell_type": "code",
      "metadata": {
        "id": "xHgwYT_JJnqG"
      },
      "source": [
        "# Write your code here\n",
        "# 2. Train the model with data.\n",
        "model.fit(data[[\"x1\", \"x2\"]], data[\"y\"])\n",
        "pred = model.predict(data[[\"x1\", \"x2\"]])"
      ],
      "execution_count": null,
      "outputs": []
    },
    {
      "cell_type": "code",
      "metadata": {
        "id": "JOPMwdkCKZId",
        "colab": {
          "base_uri": "https://localhost:8080/"
        },
        "outputId": "76236eca-203d-463e-c743-1e5fd4e70762"
      },
      "source": [
        "# Write your code here\n",
        "# Show that the accuracy of the model on data is above 90%.\n",
        "from sklearn.metrics import accuracy_score\n",
        "accuracy = accuracy_score(data['y'], pred)\n",
        "print(accuracy)"
      ],
      "execution_count": null,
      "outputs": [
        {
          "output_type": "stream",
          "text": [
            "0.935\n"
          ],
          "name": "stdout"
        }
      ]
    },
    {
      "cell_type": "markdown",
      "metadata": {
        "id": "Qu2_O77XKuFr"
      },
      "source": [
        "## Question 4 (30 pts)\n",
        "\n",
        "The following dataset contains 11 biomedical attributes of 720 individuals. You are expected to build a decision tree model on this dataset and find out who are more likely to have heart disease."
      ]
    },
    {
      "cell_type": "code",
      "metadata": {
        "id": "tC8-BUS5SQVR",
        "colab": {
          "base_uri": "https://localhost:8080/",
          "height": 204
        },
        "outputId": "b1cc43da-5379-4a83-cccd-943d4b98ecff"
      },
      "source": [
        "# Execute this cell to load the data.\n",
        "url = \"https://github.com/SpiroGanas/Heart-Disease-Machine-Learning/raw/master/heart_disease_df.csv\"\n",
        "data2 = pd.read_csv(url, sep=',', index_col=0)\n",
        "data2.drop(['slope', 'ca', 'thal', 'Source'], inplace=True, axis=1)\n",
        "data2 = data2.dropna()\n",
        "data2['diagnosis'] = (data2['diagnosis'] > 0).astype(int)\n",
        "data2.head()"
      ],
      "execution_count": null,
      "outputs": [
        {
          "output_type": "execute_result",
          "data": {
            "text/html": [
              "<div>\n",
              "<style scoped>\n",
              "    .dataframe tbody tr th:only-of-type {\n",
              "        vertical-align: middle;\n",
              "    }\n",
              "\n",
              "    .dataframe tbody tr th {\n",
              "        vertical-align: top;\n",
              "    }\n",
              "\n",
              "    .dataframe thead th {\n",
              "        text-align: right;\n",
              "    }\n",
              "</style>\n",
              "<table border=\"1\" class=\"dataframe\">\n",
              "  <thead>\n",
              "    <tr style=\"text-align: right;\">\n",
              "      <th></th>\n",
              "      <th>age</th>\n",
              "      <th>sex</th>\n",
              "      <th>cp</th>\n",
              "      <th>trestbps</th>\n",
              "      <th>chol</th>\n",
              "      <th>fbs</th>\n",
              "      <th>restecg</th>\n",
              "      <th>thalach</th>\n",
              "      <th>exang</th>\n",
              "      <th>oldpeak</th>\n",
              "      <th>diagnosis</th>\n",
              "    </tr>\n",
              "  </thead>\n",
              "  <tbody>\n",
              "    <tr>\n",
              "      <th>0</th>\n",
              "      <td>63.0</td>\n",
              "      <td>1.0</td>\n",
              "      <td>1.0</td>\n",
              "      <td>145.0</td>\n",
              "      <td>233.0</td>\n",
              "      <td>1.0</td>\n",
              "      <td>2.0</td>\n",
              "      <td>150.0</td>\n",
              "      <td>0.0</td>\n",
              "      <td>2.3</td>\n",
              "      <td>0</td>\n",
              "    </tr>\n",
              "    <tr>\n",
              "      <th>1</th>\n",
              "      <td>67.0</td>\n",
              "      <td>1.0</td>\n",
              "      <td>4.0</td>\n",
              "      <td>160.0</td>\n",
              "      <td>286.0</td>\n",
              "      <td>0.0</td>\n",
              "      <td>2.0</td>\n",
              "      <td>108.0</td>\n",
              "      <td>1.0</td>\n",
              "      <td>1.5</td>\n",
              "      <td>1</td>\n",
              "    </tr>\n",
              "    <tr>\n",
              "      <th>2</th>\n",
              "      <td>67.0</td>\n",
              "      <td>1.0</td>\n",
              "      <td>4.0</td>\n",
              "      <td>120.0</td>\n",
              "      <td>229.0</td>\n",
              "      <td>0.0</td>\n",
              "      <td>2.0</td>\n",
              "      <td>129.0</td>\n",
              "      <td>1.0</td>\n",
              "      <td>2.6</td>\n",
              "      <td>1</td>\n",
              "    </tr>\n",
              "    <tr>\n",
              "      <th>3</th>\n",
              "      <td>37.0</td>\n",
              "      <td>1.0</td>\n",
              "      <td>3.0</td>\n",
              "      <td>130.0</td>\n",
              "      <td>250.0</td>\n",
              "      <td>0.0</td>\n",
              "      <td>0.0</td>\n",
              "      <td>187.0</td>\n",
              "      <td>0.0</td>\n",
              "      <td>3.5</td>\n",
              "      <td>0</td>\n",
              "    </tr>\n",
              "    <tr>\n",
              "      <th>4</th>\n",
              "      <td>41.0</td>\n",
              "      <td>0.0</td>\n",
              "      <td>2.0</td>\n",
              "      <td>130.0</td>\n",
              "      <td>204.0</td>\n",
              "      <td>0.0</td>\n",
              "      <td>2.0</td>\n",
              "      <td>172.0</td>\n",
              "      <td>0.0</td>\n",
              "      <td>1.4</td>\n",
              "      <td>0</td>\n",
              "    </tr>\n",
              "  </tbody>\n",
              "</table>\n",
              "</div>"
            ],
            "text/plain": [
              "    age  sex   cp  trestbps   chol  ...  restecg  thalach  exang  oldpeak  diagnosis\n",
              "0  63.0  1.0  1.0     145.0  233.0  ...      2.0    150.0    0.0      2.3          0\n",
              "1  67.0  1.0  4.0     160.0  286.0  ...      2.0    108.0    1.0      1.5          1\n",
              "2  67.0  1.0  4.0     120.0  229.0  ...      2.0    129.0    1.0      2.6          1\n",
              "3  37.0  1.0  3.0     130.0  250.0  ...      0.0    187.0    0.0      3.5          0\n",
              "4  41.0  0.0  2.0     130.0  204.0  ...      2.0    172.0    0.0      1.4          0\n",
              "\n",
              "[5 rows x 11 columns]"
            ]
          },
          "metadata": {
            "tags": []
          },
          "execution_count": 6
        }
      ]
    },
    {
      "cell_type": "markdown",
      "metadata": {
        "id": "KHFe3x11Sgm9"
      },
      "source": [
        "Column information:\n",
        "\n",
        "1. `age`\n",
        "2. `sex`: 0 = female, 1 = male\n",
        "3. `cp`: chest pain type (4 values)\n",
        "4. `trestbps`: resting blood pressure\n",
        "5. `chol`: serum cholestoral in mg/dl\n",
        "6. `fbs`: fasting blood sugar > 120 mg/dl\n",
        "7. `restecg`: resting electrocardiographic results (values 0,1,2)\n",
        "8. `thalach`: maximum heart rate achieved\n",
        "9. `exang`: exercise induced angina\n",
        "10. `oldpeak`: ST depression induced by exercise relative to rest\n",
        "\n",
        "The last column `diagnosis` is the target feature, where 1 means that the person has been diagnosed as having heart disease, and 0 means otherwise.\n",
        "\n",
        "Please do the following:\n",
        "1. Build a depth-3 decision tree classifier to prediction the `diagnosis` value from other features.\n",
        "2. Visualize the model as a tree of conditions. You may need to include statement `plt.figure(figsize=(15, 15))` to make the plot readable.\n",
        "3. Identify a group of conditions that lead to high risk of heart disease. Also identify a group of conditions that lead to low risk of heart disease."
      ]
    },
    {
      "cell_type": "code",
      "metadata": {
        "id": "Oq-D_6fMWSlX"
      },
      "source": [
        "# Write your code here\n",
        "# 1. Build a depth-3 decision tree classifier to prediction the diagnosis value from other features.\n",
        "from sklearn.tree import DecisionTreeClassifier\n",
        "model2 = DecisionTreeClassifier(criterion='gini', max_depth=3, random_state=42)\n",
        "\n",
        "column2 = [\"age\", \"sex\", \"cp\", \"trestbps\", \"chol\", \"fbs\", \"restecg\", \"thalach\", \"exang\", \"oldpeak\"]\n",
        "\n",
        "model2.fit(data2.loc[:, column2], data2[\"diagnosis\"])\n",
        "pred2 = model2.predict(data2.loc[:, column2])"
      ],
      "execution_count": null,
      "outputs": []
    },
    {
      "cell_type": "code",
      "metadata": {
        "id": "YCj9x14nTQzM",
        "colab": {
          "base_uri": "https://localhost:8080/",
          "height": 683
        },
        "outputId": "d1e5a01c-deb0-4419-a931-b7ec66d1e753"
      },
      "source": [
        "# Write your code here\n",
        "# 2. Visualize the model as a tree of conditions. You may need to include statement plt.figure(figsize=(10, 10)) to make the plot readable.\n",
        "from sklearn.tree import plot_tree\n",
        "plt.figure(figsize=(12,12))\n",
        "plot_tree(model2, feature_names=column2, filled=True)\n",
        "plt.show()"
      ],
      "execution_count": null,
      "outputs": [
        {
          "output_type": "display_data",
          "data": {
            "image/png": "[encoded data removed]",
            "text/plain": [
              "<Figure size 864x864 with 1 Axes>"
            ]
          },
          "metadata": {
            "tags": [],
            "needs_background": "light"
          }
        }
      ]
    },
    {
      "cell_type": "markdown",
      "metadata": {
        "id": "3SBOOxVlVHZO"
      },
      "source": [
        "3. Identify a group of conditions that lead to high risk of heart disease. Also identify a group of conditions that lead to low risk of heart disease.\n",
        "\n",
        "**Write your answer here:**\n",
        "\n",
        "A group with low risk heart disease:\n",
        "\n",
        "- cp <= 3.5 true\n",
        "- chol <= 50 false\n",
        "- age <= 56.5 true\n",
        "\n",
        "[205, 28] = 28 diagnosed w/ heart disease, 205 otherwise\n",
        "\n",
        "A group with high risk heart disease:\n",
        "- cp <= 3.5 false\n",
        "- exang <= 0.5 false\n",
        "- oldpeak <= 0.85 false\n",
        "\n",
        "[14, 168] = 168 diagnosed w/ heart disease, 14 otherwise"
      ]
    },
    {
      "cell_type": "markdown",
      "metadata": {
        "id": "fH3QZaaQLrhi"
      },
      "source": [
        "## Question 5 (20 pts)\n",
        "1. Define a `relu()` function that represents the ReLU function defined as:\n",
        "$$ ReLU(t) = \\max\\{0, t\\}.$$\n",
        "For example, `relu(0)` returns 0, `relu(5)` returns 5, and `relu(-5)` returns 0. This function will be used as the activation function of neurons in the next step."
      ]
    },
    {
      "cell_type": "code",
      "metadata": {
        "id": "u10vHFBBLtTm",
        "colab": {
          "base_uri": "https://localhost:8080/"
        },
        "outputId": "601358f5-f5c1-4a9b-8d9d-8a0acdb5e56a"
      },
      "source": [
        "# Code for relu():\n",
        "def relu(x):\n",
        "    return max(0.0, x)\n",
        "\n",
        "print('relu 0:', relu(0))\n",
        "print('relu 5:', relu(5))\n",
        "print('relu -5:', relu(-5))"
      ],
      "execution_count": null,
      "outputs": [
        {
          "output_type": "stream",
          "text": [
            "relu 0: 0.0\n",
            "relu 5: 5\n",
            "relu -5: 0.0\n"
          ],
          "name": "stdout"
        }
      ]
    },
    {
      "cell_type": "markdown",
      "metadata": {
        "id": "tgre-f95OV-Y"
      },
      "source": [
        "2. Suppose that 3-layer neural network is defined as below:\n",
        "\n",
        "<img src=\"https://github.com/ch00226855/ImputationGAN/blob/master/Test02Img02.png?raw=true\" width=\"400\">\n",
        "\n",
        "The number near each arrow is the weight parameter associated with that connection. Suppose that there are no bias parameters.\n",
        "\n",
        "Suppose that both neurons in the input layer receives value 1 from the data. Calculate and print the input and output of each neuron in the hidden layer and the output layer."
      ]
    },
    {
      "cell_type": "code",
      "metadata": {
        "id": "p_Dzc_Q_OzZb",
        "colab": {
          "base_uri": "https://localhost:8080/"
        },
        "outputId": "b26119a7-c11e-4704-e189-044c1982f198"
      },
      "source": [
        "# Write your calculations here:\n",
        "ans1 = (1 * -0.5) + (1 * -0.32)\n",
        "ans2 = (1 * 1.01) + (1 * -0.24)\n",
        "ans3 = (1 * 0.23) + (1 * -0.12)\n",
        "ans4 = (0 * 0.15) + (0.77 * 1.32) + (0.11 * -0.37)\n",
        "print(ans1, ans2, ans3, ans4)\n",
        "\n",
        "# Hidden Layers:\n",
        "# node 1 = -0.82\n",
        "# node 2 = 0.77\n",
        "# node 3 = 0.11\n",
        "print(relu(-0.82), relu(0.77), relu(0.11))\n",
        "\n",
        "# Output Layers:\n",
        "# output = (0 * 0.15) + (0.77 * 1.32) + (0.11 * -0.37) = 0.9757\n",
        "print(relu(0.9757))"
      ],
      "execution_count": null,
      "outputs": [
        {
          "output_type": "stream",
          "text": [
            "-0.8200000000000001 0.77 0.11000000000000001 0.9757\n",
            "0.0 0.77 0.11\n",
            "0.9757\n"
          ],
          "name": "stdout"
        }
      ]
    }
  ]
}
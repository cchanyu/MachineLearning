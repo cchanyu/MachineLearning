{
  "nbformat": 4,
  "nbformat_minor": 0,
  "metadata": {
    "colab": {
      "name": "Chanyu MidtermProject Part I",
      "provenance": [],
      "collapsed_sections": []
    },
    "kernelspec": {
      "name": "python3",
      "display_name": "Python 3"
    }
  },
  "cells": [
    {
      "cell_type": "markdown",
      "metadata": {
        "id": "laRpm7hK8pSi"
      },
      "source": [
        "Name: Chanyu Choung\n",
        "\n",
        "Class: CMP414\n",
        "\n",
        "Homework due date: Mar 22nd, 2021 (Monday)\n",
        "\n",
        "# Artificial Intelligence Midterm Project\n",
        "\n",
        "In this project, you will build a regression model and a classification model from scratch. Please follow the instructions closely, and only use Python's Numpy, Pandas, and matplotlib library to complete this project. Using functions from `sklearn` is not allowed.\n",
        "\n",
        "**Part I** dues on Monday, March 22nd at 11:59 PM.\n",
        "**Part II** dues on Monday, April 12th at 11:59 PM."
      ]
    },
    {
      "cell_type": "code",
      "metadata": {
        "id": "bo6dHwyJyEik"
      },
      "source": [
        "import numpy as np\n",
        "import pandas as pd\n",
        "import matplotlib.pyplot as plt\n",
        "%matplotlib inline"
      ],
      "execution_count": null,
      "outputs": []
    },
    {
      "cell_type": "markdown",
      "metadata": {
        "id": "V4Jn_QfFyP08"
      },
      "source": [
        "## Part I: A Regression Model\n",
        "\n",
        "In this part, please build a multilinear regression model that extracts the relationship between housing prices and other relevant variables. The training data is shown in the table below:\n"
      ]
    },
    {
      "cell_type": "code",
      "metadata": {
        "id": "goxKcZMU8uwh"
      },
      "source": [
        "data1 = pd.DataFrame({\n",
        "    \"YearBuilt\": [1974, 1996, 1968, 1962, 1960],\n",
        "    \"YearSold\": [2015, 2017, 2020, 2010, 2016],\n",
        "    \"Bedrooms\": [3, 10, 4, 5, 6],\n",
        "    \"TotalArea\": [1500, 4000, 1700, 2500, 2000],\n",
        "    \"Quality\": [7.5, 6, 4, 5.5, 5],\n",
        "    \"Price\": [358500, 452600, 352100, 341300, 342200]\n",
        "})"
      ],
      "execution_count": null,
      "outputs": []
    },
    {
      "cell_type": "markdown",
      "metadata": {
        "id": "Yk67CJ87BqaU"
      },
      "source": [
        "### Task 1: Data Transformation (10 pts)\n",
        "Create a new column named \"Age\" that represents the age of each house when it was sold."
      ]
    },
    {
      "cell_type": "code",
      "metadata": {
        "id": "cs9awohjBqMT",
        "colab": {
          "base_uri": "https://localhost:8080/"
        },
        "outputId": "026543e1-2710-4d60-e048-5396413d63e0"
      },
      "source": [
        "data1['Age'] = data1['YearSold'] - data1['YearBuilt']\n",
        "print(data1.head())"
      ],
      "execution_count": null,
      "outputs": [
        {
          "output_type": "stream",
          "text": [
            "   YearBuilt  YearSold  Bedrooms  TotalArea  Quality   Price  Age\n",
            "0       1974      2015         3       1500      7.5  358500   41\n",
            "1       1996      2017        10       4000      6.0  452600   21\n",
            "2       1968      2020         4       1700      4.0  352100   52\n",
            "3       1962      2010         5       2500      5.5  341300   48\n",
            "4       1960      2016         6       2000      5.0  342200   56\n"
          ],
          "name": "stdout"
        }
      ]
    },
    {
      "cell_type": "markdown",
      "metadata": {
        "id": "kBzHY7sj-6P5"
      },
      "source": [
        "### Task 2: Train a Multilinear Model (20 pts)\n",
        "Assume that the price can be expressed as a linear combination of age, bedrooms, total area, and quality:\n",
        "\n",
        "$Price = \\theta_0 + \\theta_1 \\cdot Age + \\theta_2 \\cdot Bedrooms + \\theta_3 \\cdot TotalArea + \\theta_4 \\cdot Quality.$\n",
        "\n",
        "Apply the normal equation to find the best values for the parameters:\n",
        "1. Construct matrix $\\textbf{X}$ and $\\textbf{y}$ (the matrices are defined in Week 6 notebook and Chapter 4 of the textbook).\n",
        "2. Calculate the parameter vector using the normal equation\n",
        "$\\theta = \\big(\\textbf{X}^T\\cdot\\textbf{X}\\big)^{-1}\\cdot\\textbf{X}^T\\cdot\\textbf{y}$"
      ]
    },
    {
      "cell_type": "code",
      "metadata": {
        "id": "E_K5F4oD-S6Y",
        "colab": {
          "base_uri": "https://localhost:8080/"
        },
        "outputId": "c8199ebc-0833-4e33-e8ce-aff16c2ca2be"
      },
      "source": [
        "np.set_printoptions(suppress=True)\n",
        "X = np.c_[np.ones((5, 1)), data1[['Age','Bedrooms','TotalArea','Quality']]]\n",
        "y = data1['Price']\n",
        "\n",
        "theta = np.linalg.inv(X.T.dot(X)).dot(X.T).dot(y)\n",
        "print(theta)"
      ],
      "execution_count": null,
      "outputs": [
        {
          "output_type": "stream",
          "text": [
            "[592376.38748736  -3839.25327952  11727.19475278    -31.10898083\n",
            "  -8664.68213925]\n"
          ],
          "name": "stdout"
        }
      ]
    },
    {
      "cell_type": "markdown",
      "metadata": {
        "id": "CYhiUFfuAVjM"
      },
      "source": [
        "### Task 3: Make A Prediction (10 pts)\n",
        "Suppose that there is another house with the following attribute:\n",
        "- YearBuilt: 1985\n",
        "- YearSold: 2021\n",
        "- Bedrooms: 6\n",
        "- Total Area: 2500\n",
        "- Quality: 5.5\n",
        "\n",
        "Use the parameter values that you have calculated to make a prediction on its sale price."
      ]
    },
    {
      "cell_type": "code",
      "metadata": {
        "id": "RxMICEwzAVll",
        "colab": {
          "base_uri": "https://localhost:8080/"
        },
        "outputId": "0cbbe6e8-0387-4cc6-f255-da0fbe822009"
      },
      "source": [
        "input_para = [1, 36, 6, 2500, 5.5]\n",
        "theta_para = [theta[0], theta[1], theta[2], theta[3], \n",
        "             theta[4]]\n",
        "\n",
        "parameter_vector = np.array(theta_para)\n",
        "feature_vector = np.array(input_para)\n",
        "\n",
        "prediction = parameter_vector.dot(feature_vector)\n",
        "print(\"Predicted price:\", prediction)"
      ],
      "execution_count": null,
      "outputs": [
        {
          "output_type": "stream",
          "text": [
            "Predicted price: 399098.23410694493\n"
          ],
          "name": "stdout"
        }
      ]
    }
  ]
}
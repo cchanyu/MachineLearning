{
  "nbformat": 4,
  "nbformat_minor": 0,
  "metadata": {
    "colab": {
      "name": "Final_Project.ipynb",
      "provenance": [],
      "collapsed_sections": []
    },
    "kernelspec": {
      "name": "python3",
      "display_name": "Python 3"
    },
    "language_info": {
      "name": "python"
    }
  },
  "cells": [
    {
      "cell_type": "markdown",
      "metadata": {
        "id": "ihigAVgQ2b_S"
      },
      "source": [
        "Name: Chanyu Choung\n",
        "\n",
        "Class: CMP414\n",
        "\n",
        "Homework due date: May 26th, 2021 (Wednesday)\n",
        "\n",
        "Homework: Final Project"
      ]
    },
    {
      "cell_type": "markdown",
      "metadata": {
        "id": "YfZGk_cLUg4F"
      },
      "source": [
        "**Choice  2: Classification on the Telco-Churn Dataset**\n",
        "\n",
        "The dataset and its description is available at Kaggle. The goal of this task is to analyze the behavior of telecom customers and understand what factors are important to retain customers.\n",
        "\n",
        "1. Visualize the univariate distribution of each input variable and the target variable “churn”.\n",
        "\n",
        "2. Split data into training and test sets. Convert each categorical variable into numerical variables using one-hot-encoding.\n",
        "\n",
        "3. Evaluate the following classification models:\n",
        "\n",
        "a. Logistic Regression\n",
        "\n",
        "b. Support Vector Machine\n",
        "\n",
        "c. K Nearest Neighbors\n",
        "\n",
        "d. Decision Trees\n",
        "\n",
        "e. Random Forests\n",
        "\n",
        "Note that you need to decide the choice of hyper-parameters for the models, such as the value of k for k nearest neighbor method and the maximum depth for the random forest method.\n",
        "\n",
        "4. Choose the best model by analyzing the accuracy, precision, recall, and F-1 score.\n",
        "\n",
        "5. Which types of customers are less likely to end the service? "
      ]
    },
    {
      "cell_type": "code",
      "metadata": {
        "id": "jpoG4FLe2WQe"
      },
      "source": [
        "import numpy as np\n",
        "import pandas as pd\n",
        "import sklearn\n",
        "import matplotlib.pyplot as plt\n",
        "%matplotlib inline"
      ],
      "execution_count": null,
      "outputs": []
    },
    {
      "cell_type": "code",
      "metadata": {
        "colab": {
          "base_uri": "https://localhost:8080/"
        },
        "id": "05oaLXyBUrdm",
        "outputId": "123c59a6-8462-46ac-f3c9-9a084fd85b92"
      },
      "source": [
        "data = pd.read_csv(\"https://raw.githubusercontent.com/cchanyu/MachineLearning/main/SheetData/WA_Fn-UseC_-Telco-Customer-Churn.csv\", sep=',')\n",
        "print(data.shape)\n",
        "print(data.head())"
      ],
      "execution_count": null,
      "outputs": [
        {
          "output_type": "stream",
          "text": [
            "(7043, 21)\n",
            "   customerID  gender  SeniorCitizen  ... MonthlyCharges TotalCharges  Churn\n",
            "0  7590-VHVEG  Female              0  ...          29.85        29.85     No\n",
            "1  5575-GNVDE    Male              0  ...          56.95       1889.5     No\n",
            "2  3668-QPYBK    Male              0  ...          53.85       108.15    Yes\n",
            "3  7795-CFOCW    Male              0  ...          42.30      1840.75     No\n",
            "4  9237-HQITU  Female              0  ...          70.70       151.65    Yes\n",
            "\n",
            "[5 rows x 21 columns]\n"
          ],
          "name": "stdout"
        }
      ]
    },
    {
      "cell_type": "code",
      "metadata": {
        "id": "h7M261Gb4BGY"
      },
      "source": [
        "column = [\"PaymentMethod\", \"InternetService\", \"Dependents\", \"PhoneService\", \"MultipleLines\", \"DeviceProtection\", \"StreamingTV\", \"StreamingMovies\",\n",
        "          \"SeniorCitizen\", \"gender\", \"Partner\", \"TechSupport\", \"OnlineBackup\", \"OnlineSecurity\", \"PaperlessBilling\", \"Contract\", \"tenure\", \"MonthlyCharges\", \"TotalCharges\"]\n",
        "target = \"Churn\""
      ],
      "execution_count": null,
      "outputs": []
    },
    {
      "cell_type": "code",
      "metadata": {
        "id": "Eysc5nSVJMDy"
      },
      "source": [
        "from sklearn.preprocessing import LabelEncoder\n",
        "\n",
        "feature_names = []\n",
        "label_encoders = {}\n",
        "for feature in column + [target]:\n",
        "    label_encoders[feature] = LabelEncoder()\n",
        "    data[feature] = label_encoders[feature].fit_transform(data[feature])\n",
        "    names = label_encoders[feature].classes_.tolist()\n",
        "    if feature == target:\n",
        "        continue\n",
        "    feature_names.extend([feature + '_' + str(name) for name in names])"
      ],
      "execution_count": null,
      "outputs": []
    },
    {
      "cell_type": "code",
      "metadata": {
        "colab": {
          "base_uri": "https://localhost:8080/",
          "height": 444
        },
        "id": "9BX6yJdk6mYa",
        "outputId": "7cb5a13e-fa91-4dff-beaa-9778fc55a792"
      },
      "source": [
        "filter = data.TotalCharges == \" \"\n",
        "data = data[~filter]\n",
        "\n",
        "data.TotalCharges = pd.to_numeric(data.TotalCharges)\n",
        "data[column].hist(bins=30, figsize=(10, 7));"
      ],
      "execution_count": null,
      "outputs": [
        {
          "output_type": "display_data",
          "data": {
            "image/png": "[encoded data removed]",
            "text/plain": [
              "<Figure size 720x504 with 20 Axes>"
            ]
          },
          "metadata": {
            "tags": [],
            "needs_background": "light"
          }
        }
      ]
    },
    {
      "cell_type": "code",
      "metadata": {
        "id": "OlKJrRhHJkPn"
      },
      "source": [
        "from sklearn.model_selection import train_test_split\n",
        "training_data, test_data = train_test_split(data, test_size=0.2)\n",
        "test_data = test_data.copy()"
      ],
      "execution_count": null,
      "outputs": []
    },
    {
      "cell_type": "code",
      "metadata": {
        "id": "AljldJmmYEXk",
        "colab": {
          "base_uri": "https://localhost:8080/"
        },
        "outputId": "b5694a0c-9519-4098-a36f-55bc8c3feea2"
      },
      "source": [
        "from sklearn.model_selection import cross_val_score, GridSearchCV, RandomizedSearchCV\n",
        "from sklearn.linear_model import LogisticRegression\n",
        "from sklearn.ensemble import RandomForestClassifier\n",
        "from sklearn.neighbors import KNeighborsClassifier\n",
        "from sklearn.tree import DecisionTreeClassifier\n",
        "from sklearn.tree import plot_tree\n",
        "from sklearn.svm import SVC\n",
        "\n",
        "model_log = LogisticRegression(solver='lbfgs', penalty='l2', C=.3, max_iter = 1000)\n",
        "model_svc = SVC(C=10, kernel='rbf', degree=2, coef0=0)\n",
        "model_knn = KNeighborsClassifier(n_neighbors=26)\n",
        "model_tree = DecisionTreeClassifier(criterion='gini', max_depth=6, min_samples_leaf=2, min_samples_split=6, random_state=42)\n",
        "model_rf = RandomForestClassifier(criterion='gini', n_estimators=1234, max_features='sqrt', max_depth=14, n_jobs=-1)\n",
        "\n",
        "param_grid_log = {'penalty': ['l2'], 'C':  np.arange(.1, 3, .1)}\n",
        "param_grid_svc = {'C': np.arange(.1, 3, .1)}\n",
        "param_grid_knn = {'n_neighbors': np.arange(1, 30)}\n",
        "param_grid_tree = {'criterion':['gini','entropy'],\n",
        "                   'max_depth': np.arange(1,10),\n",
        "                   'min_samples_split': np.arange(2,10),\n",
        "                   'min_samples_leaf': np.arange(2,5)}\n",
        "param_grid_RF = {'n_estimators': np.arange(10, 2000),\n",
        "                 'max_features': ['auto', 'sqrt'],\n",
        "                 'max_depth': np.arange(10, 200),\n",
        "                 'criterion': ['gini', 'entropy'],\n",
        "                 'bootstrap': [True, False]}\n",
        "\n",
        "def buildModel (model, tag, param):\n",
        "    if tag == 'cv_rf':\n",
        "        cv = RandomizedSearchCV(estimator=model, param_distributions=param, cv=5, verbose=0)\n",
        "    else:\n",
        "        cv = GridSearchCV(model, param, cv=5)\n",
        "    cv.fit(training_data.loc[:, column], training_data['Churn'])\n",
        "    print(tag,\":\", cv.best_params_)\n",
        "    \n",
        "    model.fit(training_data.loc[:, column], training_data['Churn'])\n",
        "    print(cross_val_score(model, training_data[column], training_data['Churn'], cv=5))\n",
        "    pred = model.predict(test_data.loc[:, column])\n",
        "    return pred\n",
        "\n",
        "p_log = buildModel(model_log, 'cv_log', param_grid_log)\n",
        "p_svc = buildModel(model_svc, 'cv_svc', param_grid_svc)\n",
        "p_knn = buildModel(model_knn,'cv_knn', param_grid_knn)\n",
        "p_tree = buildModel(model_tree, 'cv_tree', param_grid_tree)\n",
        "p_rf = buildModel(model_rf, 'cv_rf', param_grid_RF)\n",
        "\n",
        "# def get_Tree(n, x):\n",
        "#     plt.figure(figsize=(12,12))\n",
        "#     plot_tree(n, feature_names=column, filled=True)\n",
        "#     txt = \"Figure {}\".format(x)\n",
        "#     plt.savefig(txt)\n",
        "# get_Tree(model_tree, 2)"
      ],
      "execution_count": null,
      "outputs": [
        {
          "output_type": "stream",
          "text": [
            "cv_log : {'C': 0.30000000000000004, 'penalty': 'l2'}\n",
            "[0.79325643 0.81011535 0.80479148 0.80035492 0.80905861]\n",
            "cv_svc : {'C': 0.1}\n",
            "[0.74356699 0.74001775 0.73913043 0.7444543  0.74067496]\n",
            "cv_knn : {'n_neighbors': 26}\n",
            "[0.74090506 0.7595386  0.76663709 0.74622893 0.77797513]\n",
            "cv_tree : {'criterion': 'gini', 'max_depth': 6, 'min_samples_leaf': 2, 'min_samples_split': 6}\n",
            "[0.76308784 0.77107365 0.80124224 0.7905945  0.79662522]\n",
            "cv_rf : {'n_estimators': 1243, 'max_features': 'sqrt', 'max_depth': 14, 'criterion': 'gini', 'bootstrap': False}\n",
            "[0.78172138 0.77107365 0.81100266 0.79148181 0.78685613]\n"
          ],
          "name": "stdout"
        }
      ]
    },
    {
      "cell_type": "code",
      "metadata": {
        "colab": {
          "base_uri": "https://localhost:8080/"
        },
        "id": "1UpBxxGqZuMi",
        "outputId": "ba9b72f6-db59-4f87-d2a5-d5eebed34e90"
      },
      "source": [
        "from sklearn.metrics import accuracy_score, precision_score, recall_score, f1_score\n",
        "\n",
        "def classification (type, name):\n",
        "    result = type(test_data[target], name)\n",
        "    return result\n",
        "\n",
        "def metrics (name, model):\n",
        "    accuracy = classification(accuracy_score, model)\n",
        "    precision = classification(precision_score, model)\n",
        "    recall = classification(recall_score, model)\n",
        "    f1 = classification(f1_score, model)\n",
        "    print(name, accuracy, precision, recall, f1)\n",
        "\n",
        "metrics(\"LR:\",p_log)\n",
        "metrics(\"SVC:\",p_svc)\n",
        "metrics(\"KNN:\",p_knn)\n",
        "metrics(\"Tree:\",p_tree)\n",
        "metrics(\"RF:\", p_rf)"
      ],
      "execution_count": null,
      "outputs": [
        {
          "output_type": "stream",
          "text": [
            "LR: 0.8034066713981547 0.675 0.5552699228791774 0.6093088857545841\n",
            "SVC: 0.7317246273953159 0.72 0.04627249357326478 0.08695652173913043\n",
            "KNN: 0.7714691270404542 0.6892655367231638 0.31362467866323906 0.43109540636042404\n",
            "Tree: 0.7899219304471257 0.6355685131195336 0.5604113110539846 0.5956284153005463\n",
            "RF: 0.794889992902768 0.6748251748251748 0.4961439588688946 0.5718518518518518\n"
          ],
          "name": "stdout"
        }
      ]
    },
    {
      "cell_type": "markdown",
      "metadata": {
        "id": "lvkFcq9Fls-x"
      },
      "source": [
        "**Remark:**\n",
        "\n",
        "There were 7043 records registered to the data system. Gender is spilt in 50/50.\n",
        "\n",
        "I started with all the columns, but eventually filtered out unnecessary factors during the process.\n",
        "\n",
        "One-hot-encoding tracked all the unique values and added new one to the list.\n",
        "\n",
        "TotalCharges had to be converted to numeric and also had to get rid of empty strings.\n",
        "\n",
        "I spilt my training and test data by 80/20. Test data has a copy that can be overwritten.\n",
        "\n",
        "I found one of the best hyper parameter by running grid search, and had cross validation to determine it. \n",
        "\n",
        "For general cases, I get 80% prediction rate. However, I also studied the outliers and different groups.\n",
        "\n",
        "From there, I decided to specify the groups by demographically:\n",
        "\n",
        "Senior - Monthly are low end, they mostly use phones and TV, not internet. They're loyal according to tenure. So by reducing other factors, the prediction was 88% high with these behaviors. \n",
        "\n",
        "Family - I added partners and dependents to distinguish the families. They're spread through low and mid income range, but I focused on under $250/mo. They're loyal and had to find the inverse group instead.\n",
        "\n",
        "Company - It's easy to find companies through filtering the high end. At general, these guys act as an outlier, but once they're filtered out, they show a radical behavior. Because businesses aren't stable and it's all random. They're stablized through being in a contract. \n",
        "\n",
        "So to optimize and increase the machine learning accuracy, my way of approaching this was to first divide groups by demographic, and then further distinguished them with optional features.\n",
        "\n",
        "---\n",
        "\n"
      ]
    },
    {
      "cell_type": "markdown",
      "metadata": {
        "id": "EYD1EXghccpq"
      },
      "source": [
        "**4. Choose the best model by analyzing the accuracy, precision, recall, and F-1 score.**\n",
        "\n",
        "Linear Regression consistently shows the highest average rate for all four categories.\n",
        "\n",
        "---\n",
        "\n"
      ]
    },
    {
      "cell_type": "markdown",
      "metadata": {
        "id": "7VeB7C8Icc40"
      },
      "source": [
        "**5. Which types of customers are less likely to end the service?**\n",
        "\n",
        "- General case (all) with 70-80% accuracy: The group that are in a contract, paying less than $100 monthly.\n",
        "\n",
        "**Divided by Demographics**\n",
        "- Senior customers: The group that's been in a service more than 4 months and have used the online security feature plan **or** doesn't have a internet plan.\n",
        "- Family customers: The group that's in a yearly, bi-yearly contract and either have used online security feature plan **or** doesn't have a internet service.\n",
        "- Company customers: The group that's been with us for more than 2 years and are still in a new yearly or bi-yearly contract.\n"
      ]
    }
  ]
}